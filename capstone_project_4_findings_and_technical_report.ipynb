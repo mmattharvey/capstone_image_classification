{
 "cells": [
  {
   "cell_type": "markdown",
   "metadata": {
    "heading_collapsed": true
   },
   "source": [
    "### Setup code"
   ]
  },
  {
   "cell_type": "code",
   "execution_count": 115,
   "metadata": {
    "ExecuteTime": {
     "end_time": "2019-09-03T19:50:30.000357Z",
     "start_time": "2019-09-03T19:50:29.899025Z"
    },
    "hidden": true
   },
   "outputs": [],
   "source": [
    "import numpy as np\n",
    "import pandas as pd\n",
    "import matplotlib.pyplot as plt\n",
    "import os\n",
    "from matplotlib import image\n",
    "import seaborn as sns\n",
    "import re\n",
    "%config InlineBackend.figure_format = 'retina'\n"
   ]
  },
  {
   "cell_type": "markdown",
   "metadata": {},
   "source": [
    "### Executive Summary"
   ]
  },
  {
   "cell_type": "markdown",
   "metadata": {},
   "source": [
    "The main aim of this project is to develop a dog breed image classifier, principally through neural network methodologies.\n",
    "\n",
    "The further aim is to evaluate the landscape of freely available frameworks and tutorials to see whether it is possible for a novice data scientist to achieve results in a new field of expertise.\n",
    "\n",
    "Models deployed were split between non-neural networks (to provide a benchmark of what neural networks should be able to achieve) and neural networks of increasing sophistication along with associated techniques for model improvement.\n",
    "\n",
    "The success of the project will be measured by:\n",
    "- the accuracy of the dog breed image classifier model\n",
    "- the complexity of the dog breed image classifier model achieved through open source frameworks and tutorials."
   ]
  },
  {
   "cell_type": "markdown",
   "metadata": {},
   "source": [
    "### Goals"
   ]
  },
  {
   "cell_type": "markdown",
   "metadata": {},
   "source": [
    "The goal of this project is to explore the performance of neural network image classifiers through the development of a dog breed image classifier using a real-world dataset.\n",
    "\n",
    "As part of the data science immersive, I have observed the following:\n",
    "- the ability to use basic modelling syntax and structure and apply that to different model types\n",
    "- the wide variety of modelling infrastructure freely available\n",
    "- the large amounts of online community support to assist in model implementation\n",
    "\n",
    "I want to use this project to explore these observations as applied to complex models. I would like to do this to see how much success can be obtained applying complex models particularly to a real-world dataset. There seems to be a bias to using pre-cleaned data (e.g. from Kaggle competitions) in model tutorials which results in artifically high model performance. I wanted to see if high model performance could be achieved on a dataset scraped from real-world pictures.\n",
    "\n",
    "The goals of the project are therefore two-fold:\n",
    "- develop as high-performing dog breed image classifier as possible using real-world dataset.\n",
    "- following the observations above, assess the current landscape of freely available neural network modelling methods and their ease of implementation\n",
    "\n",
    "Metrics for success will therefore be split between the two goals:\n",
    "- develop a model which scores well on classifying dog breeds from images\n",
    "- successful implementation of a variety of neural network models and techniques"
   ]
  },
  {
   "cell_type": "markdown",
   "metadata": {},
   "source": [
    "### Modelling choices"
   ]
  },
  {
   "cell_type": "markdown",
   "metadata": {},
   "source": [
    "Modelling approaches were split into two main areas - standard modelling approaches and neural networks. Standard modelling approaches were used to set an effective benchmark for what the neural networks should be achieving.\n",
    "\n",
    "Standard modelling approaches included:\n",
    "- Logistic Regression\n",
    "- Logistic Regression CV\n",
    "- Random Forest Classifier (RFC)\n",
    "- Naive Bayes\n",
    "- Gradient Boosting Classifier (GBC)\n",
    "- Support Vector Machines (SVM)\n",
    "\n",
    "Grid Search was used to tune parameters/kernels (where applicable) for RFC, GBC and SVM. \n",
    "\n",
    "Principle Component Analysis was initially used in the case of 3 breeds to reduce the number of features from 480,000 (400 x 400 x 3) to the number of images in the sample. In fact when using more than 3 breeds the PCA process failed to run on my computer and hence the resolution of images was reduced to (128 x 128).\n",
    "\n",
    "PCA results were successful though - below shows the scree plot and how 480,000 features could be reduced to only 1,200 with little loss in detail.\n",
    "\n",
    "<img src=\"report_images/scree_plot.png\" align=\"left\"/>\n",
    "\n",
    "Neural network approaches included:\n",
    "- Building up sophistication of models with increasing number of layers. See Appendix for more on the different model approaches used.\n",
    "- Early stopping call backs\n",
    "- Introducing drop-out\n",
    "- Image augmentation - rotation range of 90 degrees, and random horizontal flips - see example here:"
   ]
  },
  {
   "cell_type": "markdown",
   "metadata": {},
   "source": [
    "<img src=\"clean_dog_pics/00003_pomchi_34.jpg\" align=\"left\"/>"
   ]
  },
  {
   "cell_type": "markdown",
   "metadata": {},
   "source": [
    "<img src=\"report_images/image_augmentation_example.jpg\" align=\"left\"/>"
   ]
  },
  {
   "cell_type": "markdown",
   "metadata": {},
   "source": [
    "- Transfer learning - this involved taking pre-trained VGG16 and ResNet50 models and freezing all layers apart from the final one, which was then trained on this dataset.\n",
    "\n",
    "The dataset used for modelling was scraped from borrowmydoggy.com, a website which matches owners of dogs with people wanting to spend time with dogs. Each dog profile on the website has pictures and the breed of the dog. I scraped around 32,000 pictures along with their breeds.\n",
    "\n",
    "Then for each model run, the dataset used was determined as follows:\n",
    "\n",
    "- choice of breeds used for modelling. Given the number of breeds in the dataset, I simplified modelling initially to only using 3 different breeds but then later expanded to test model effectiveness.\n",
    "- whether the pictures were cleaned or not. Cleaning process removed the background from pictures with idea being that this should improve model accuracy. Example:"
   ]
  },
  {
   "cell_type": "markdown",
   "metadata": {},
   "source": [
    "<img src=\"report_images/summary_image_origvsclean.jpg\" align=\"left\"/>"
   ]
  },
  {
   "cell_type": "markdown",
   "metadata": {},
   "source": [
    "- threshold for image quality was initially set at 30%. Image quality is defined as % of pixels in the image which belong to the dog. If the dog is smaller in the picture then the image quality % will be lower, if it's higher then the measure will be higher. 30% was set to exclude bad pictures which may cause problems for the models. Impact of threshold will be investigated later on."
   ]
  },
  {
   "cell_type": "markdown",
   "metadata": {},
   "source": [
    "### Model performance"
   ]
  },
  {
   "cell_type": "markdown",
   "metadata": {},
   "source": [
    "#### Standard model performance"
   ]
  },
  {
   "cell_type": "markdown",
   "metadata": {},
   "source": [
    "##### First breed selection: Labrador, Cocker Spaniel and French Bulldog"
   ]
  },
  {
   "cell_type": "markdown",
   "metadata": {},
   "source": [
    "These three breeds were chosen as they had some of the highest number of pictures. \n",
    "\n",
    "Size of image set was 2,589, with a train/test split of 20%. Due to some small class imbalance, the baseline score was 0.405 with a total train image size of 2,589 images. % split of train images 41% Labrador; 37% Cocker Spaniel; 22% French Bulldog.\n",
    "\n",
    "Sample pictures here:"
   ]
  },
  {
   "cell_type": "markdown",
   "metadata": {
    "ExecuteTime": {
     "end_time": "2019-09-03T20:50:24.921798Z",
     "start_time": "2019-09-03T20:50:24.917535Z"
    }
   },
   "source": [
    "<img src=\"report_images/breed1_sample_pics.jpg\" align=\"left\"/>"
   ]
  },
  {
   "cell_type": "markdown",
   "metadata": {},
   "source": [
    "With original pictures, best validation scores were achieved by the support vector machines. This was c. 10% ahead of the baseline, generalising well to the test images as well."
   ]
  },
  {
   "cell_type": "markdown",
   "metadata": {},
   "source": [
    "<img src=\"report_images/std_model_perf_b1_original.jpg\" align=\"left\"/>"
   ]
  },
  {
   "cell_type": "markdown",
   "metadata": {},
   "source": [
    "The cleaned pictures showed some improvement over the original pictures, notably in the case of the support vector machines. This increased the mean validation score for the SVM to over 16% higher than the baseline."
   ]
  },
  {
   "cell_type": "markdown",
   "metadata": {
    "ExecuteTime": {
     "end_time": "2019-09-03T20:11:38.899228Z",
     "start_time": "2019-09-03T20:11:38.774588Z"
    }
   },
   "source": [
    "<img src=\"report_images/std_model_perf_b1_origvsclean.jpg\" align=\"left\"/>"
   ]
  },
  {
   "cell_type": "markdown",
   "metadata": {},
   "source": [
    "Bringing in neural network models now, results are mixed. \n",
    "\n",
    "For the original pictures, all but one (NN model 4 + IA) of the models fail to improve validation scores significantly above the base line score.\n",
    "\n",
    "For the cleaned pictures, the results are more successful, but only one model (NN model 4) outscores the SVC validation score significantly.\n",
    "\n",
    "Volatility in the results is also highlighted by the contrast between the NN model 3 & 4 with image augmentation."
   ]
  },
  {
   "cell_type": "markdown",
   "metadata": {},
   "source": [
    "<img src=\"report_images/nn_model_perf_b1_origvsclean.jpg\" align=\"left\"/>"
   ]
  },
  {
   "cell_type": "markdown",
   "metadata": {},
   "source": [
    "##### Second breed selection: Staffordshire Bull Terrier, Jack Russel Terrier, Border Collie"
   ]
  },
  {
   "cell_type": "markdown",
   "metadata": {},
   "source": [
    "These three breeds were again chosen as they had comparatively high number of pictures. \n",
    "\n",
    "Size of image set was 1,496, with a train/test split of 20%. Due to some small class imbalance, the baseline score was 0.383. % split of train images 38% Staffordshire Bull Terrier; 34% Jack Russell Terrier; 28% Border Collie.\n",
    "\n",
    "Sample pictures here:"
   ]
  },
  {
   "cell_type": "markdown",
   "metadata": {},
   "source": [
    "<img src=\"report_images/breed2_sample_pics.jpg\" align=\"left\" />"
   ]
  },
  {
   "cell_type": "markdown",
   "metadata": {},
   "source": [
    "Similar results were achieved to the first set of breeds. The Support Vector Machine scored the highest out of the non-neural network models on the original pictures."
   ]
  },
  {
   "cell_type": "markdown",
   "metadata": {},
   "source": [
    "<img src=\"report_images/std_model_perf_b2_original.jpg\" align=\"left\"/>"
   ]
  },
  {
   "cell_type": "markdown",
   "metadata": {},
   "source": [
    "The cleaned pictures gave a few percentage point increase in model results for all non-neural network methods used."
   ]
  },
  {
   "cell_type": "markdown",
   "metadata": {
    "ExecuteTime": {
     "end_time": "2019-09-03T20:28:01.994772Z",
     "start_time": "2019-09-03T20:28:01.981468Z"
    }
   },
   "source": [
    "<img src=\"report_images/std_model_perf_b2_origvsclean.jpg\" align=\"left\"/>"
   ]
  },
  {
   "cell_type": "markdown",
   "metadata": {},
   "source": [
    "The neural network models again failed to consistently provide a significant increase vs the SVM method, although image augmentation did help model 4 improve above the SVM.\n",
    "\n",
    "The volatility in the neural network results is again striking."
   ]
  },
  {
   "cell_type": "markdown",
   "metadata": {},
   "source": [
    "<img src=\"report_images/nn_model_perf_b2_origvsclean.jpg\" align=\"left\"/>"
   ]
  },
  {
   "cell_type": "markdown",
   "metadata": {},
   "source": [
    "##### Third breed selection: previous 6 breeds combined"
   ]
  },
  {
   "cell_type": "markdown",
   "metadata": {},
   "source": [
    "With the first 6 breeds combined, the baseline score dropped to 0.257. There was some class imbalance but not significant - 25.7% of pictures were of Labradors, whereas only 10% were of Border Collies.\n",
    "\n",
    "As mentioned previously, the PCA process for non-neural network models could not function at full resolution hence picture resolution was reduced from 400x400 to 128x128. These were used for both non-neural network models and neural network models to allow comparability between the modelling techniques.\n",
    "\n",
    "There was a similar story to modelling the breeds in two separate groups though. Again, the Support Vector Machine algorithm worked best out of the non-neural network models."
   ]
  },
  {
   "cell_type": "markdown",
   "metadata": {},
   "source": [
    "<img src=\"report_images/std_model_perf_b3_original.jpg\" align=\"left\"/>"
   ]
  },
  {
   "cell_type": "markdown",
   "metadata": {},
   "source": [
    "Again, the cleaned pictures produced a few percentage points increase in accuracy in most cases."
   ]
  },
  {
   "cell_type": "markdown",
   "metadata": {},
   "source": [
    "<img src=\"report_images/std_model_perf_b3_origvsclean.jpg\" align=\"left\"/>"
   ]
  },
  {
   "cell_type": "markdown",
   "metadata": {},
   "source": [
    "This time however, the neural network models failed to converge at all. Only the simplest model scored higher than the baseline, and even then lower than the SVM model."
   ]
  },
  {
   "cell_type": "markdown",
   "metadata": {
    "ExecuteTime": {
     "end_time": "2019-09-05T20:42:59.390065Z",
     "start_time": "2019-09-05T20:42:59.385497Z"
    }
   },
   "source": [
    "<img src=\"report_images/nn_model_perf_b3_clean.jpg\" align=\"left\"/>"
   ]
  },
  {
   "cell_type": "markdown",
   "metadata": {},
   "source": [
    "#### Investigations into factors affecting neural network model performance"
   ]
  },
  {
   "cell_type": "markdown",
   "metadata": {},
   "source": [
    "##### Number of images in the training set\n",
    "\n",
    "The number of images available has a strong impact on neural network model performance.\n",
    "\n",
    "With fewer than 250 pictures, the model fails to achieve validation scores higher than the base line of 0.40.\n",
    "\n",
    "Validation scores improve when the number of pictures is around 500. While scores improve subsequently, the high score at around 750 images suggest model stability has not been achieved.\n",
    "\n",
    "The continuing increase even up to the limit of this dataset shows that more data would likely result in stronger model performance.\n",
    "\n"
   ]
  },
  {
   "cell_type": "markdown",
   "metadata": {},
   "source": [
    "<img src=\"report_images/number_of_images_impact.jpg\" align=\"left\"/>"
   ]
  },
  {
   "cell_type": "markdown",
   "metadata": {},
   "source": [
    "##### Resolution of images on model accuracy"
   ]
  },
  {
   "cell_type": "markdown",
   "metadata": {},
   "source": [
    "The results of investigation into impact of image resolution were somewhat counterintuitive. The below chart has x-axis representing the square resolution of each picture e.g. x = 50 => image resolution = 50 by 50. Conclusions are:\n",
    "- increasing resolution generally reduces validation scores\n",
    "- neural network validation scores are volatile"
   ]
  },
  {
   "cell_type": "markdown",
   "metadata": {
    "ExecuteTime": {
     "end_time": "2019-09-07T11:02:18.008528Z",
     "start_time": "2019-09-07T11:02:17.999972Z"
    }
   },
   "source": [
    "<img src=\"report_images/resolution_of_images_impact.jpg\" align=\"left\"/>"
   ]
  },
  {
   "cell_type": "markdown",
   "metadata": {},
   "source": [
    "##### Quality of images on model accuracy"
   ]
  },
  {
   "cell_type": "markdown",
   "metadata": {},
   "source": [
    "The 'quality' of images refers to the percentage of pixels in the image showing the dog. The higher the score, the bigger the dog would appear in the picture.\n",
    "\n",
    "The below chart has the x-axis representing the threshold of image quality for a dataset. For x=20, this would mean that no image with image quality below 20% was included in the training or test set.\n",
    "\n",
    "The results here show that as the quality of images threshold increases, the results become more stable "
   ]
  },
  {
   "cell_type": "markdown",
   "metadata": {},
   "source": [
    "<img src=\"report_images/image_quality_impact.jpg\" align=\"left\"/>"
   ]
  },
  {
   "cell_type": "markdown",
   "metadata": {},
   "source": [
    "### Results"
   ]
  },
  {
   "cell_type": "markdown",
   "metadata": {
    "ExecuteTime": {
     "end_time": "2019-09-06T14:20:06.457588Z",
     "start_time": "2019-09-06T14:20:06.438520Z"
    }
   },
   "source": [
    "#### Goal 1 - build classification model\n",
    "\n",
    "From the above results, two key findings arise:\n",
    "1. The neural network models scored the highest scores when classifying low numbers of breeds.\n",
    "2. The support vector machine models were the most consistent and look like they generalise better to higher numbers of breeds.\n"
   ]
  },
  {
   "cell_type": "markdown",
   "metadata": {},
   "source": [
    "#### Goal 2 - successful implementation of a variety of neural network models and techniques"
   ]
  },
  {
   "cell_type": "markdown",
   "metadata": {},
   "source": [
    "Of the neural network techniques I employed, there were different levels of success. Increasing the layers, employing early stopping mechanisms, adding dropouts into the layers and image augmentation were more successful.\n",
    "\n",
    "While I have shown examples of some of the result from the modelling process above, during the investigations I performed more modelling and the impression I have overall is that particularly image augmentation led to more robust results. Simpler models were generally overfitting very quickly in earlier epochs, with the train scores quickly exceeding the validation scores.\n",
    "\n",
    "<img src=\"report_images/clean_NN_model_2_overfit_epoch_history.jpg\" align=\"left\"/>"
   ]
  },
  {
   "cell_type": "markdown",
   "metadata": {
    "ExecuteTime": {
     "end_time": "2019-09-06T14:59:33.466240Z",
     "start_time": "2019-09-06T14:59:33.454020Z"
    }
   },
   "source": [
    "By contrast, the validation scores increased more in line as epochs progressed once the techniques above were employed, particularly image augmentation. It may have taken more time to run but results were more consistent.\n",
    "\n",
    "<img src=\"report_images/clean_NN_model_3_breeds_1_epoch_history.jpg\" align=\"left\"/>\n",
    "\n"
   ]
  },
  {
   "cell_type": "markdown",
   "metadata": {},
   "source": [
    "I was particularly pleased in getting this to work as it required learning a whole new method of providing images to the model using image generators which was not intuitive. "
   ]
  },
  {
   "cell_type": "markdown",
   "metadata": {},
   "source": [
    "### Conclusions"
   ]
  },
  {
   "cell_type": "markdown",
   "metadata": {},
   "source": [
    "In terms of model performance, based on what I was able to implement, I would recommend the following approach:\n",
    "- use support vector machines to establish a baseline for what standardised models can do\n",
    "- implement neural networks with early stopping, dropouts and image augmentation to see if any higher scores can be achieved\n",
    "- source more data to improve model scores\n",
    "\n",
    "If model scores could be improved high enough, then this model could be used in commercial application by borrowmydoggy.com in two ways:\n",
    "1. When users upload dog photos, the model could automatically fill in which breed the dog is rather than have the user type it in.\n",
    "2. The picture cleaning process which quantifies how many pixels in a picture relate to a dog could be used to give advice to users who upload a picture which does not show their dog clearly enough.\n",
    "\n",
    "If I had more time I would:\n",
    "- address class imbalance in samples\n",
    "- look at variance of cross-validation scores to review model stability\n",
    "- explore model performance with different PCA features\n",
    "- implement fully pre-trained model to recognise breeds it had been originally trained on."
   ]
  },
  {
   "cell_type": "markdown",
   "metadata": {},
   "source": [
    "### Appendix"
   ]
  },
  {
   "cell_type": "markdown",
   "metadata": {},
   "source": [
    "#### Neural network model code"
   ]
  },
  {
   "cell_type": "markdown",
   "metadata": {},
   "source": [
    "##### Model 1"
   ]
  },
  {
   "cell_type": "code",
   "execution_count": null,
   "metadata": {},
   "outputs": [],
   "source": [
    "#https://www.tensorflow.org/beta/tutorials/keras/basic_classification\n",
    "def def_model1(outshape):\n",
    "    model = models.Sequential([layers.Flatten(input_shape=(400, 400, 3)),\n",
    "                               layers.Dense(128, activation='relu'),\n",
    "                               layers.Dense(outshape, activation='softmax')])\n",
    "    model.compile(optimizer='adam',\n",
    "                  loss='sparse_categorical_crossentropy',\n",
    "                  metrics=['accuracy'])\n",
    "    return model"
   ]
  },
  {
   "cell_type": "markdown",
   "metadata": {},
   "source": [
    "##### Model 2"
   ]
  },
  {
   "cell_type": "code",
   "execution_count": null,
   "metadata": {},
   "outputs": [],
   "source": [
    "#https://machinelearningmastery.com/how-to-develop-a-convolutional-neural-network-to-classify-satellite-photos-of-the-amazon-rainforest/\n",
    "def def_model2(outshape):\n",
    "    model = models.Sequential()\n",
    "    model.add(layers.Conv2D(32, (3, 3), activation='relu', input_shape=(400, 400, 3)))\n",
    "    model.add(layers.MaxPooling2D((2, 2)))\n",
    "    model.add(layers.Conv2D(64, (3, 3), activation='relu'))\n",
    "    model.add(layers.MaxPooling2D((2, 2)))\n",
    "    model.add(layers.Conv2D(64, (3, 3), activation='relu'))\n",
    "    model.add(layers.Flatten())\n",
    "    model.add(layers.Dense(64, activation='relu'))\n",
    "    model.add(layers.Dense(outshape, activation='softmax'))\n",
    "\n",
    "    model.compile(optimizer='adam',\n",
    "              loss='sparse_categorical_crossentropy',\n",
    "              metrics=['accuracy'])\n",
    "    return model"
   ]
  },
  {
   "cell_type": "markdown",
   "metadata": {},
   "source": [
    "##### Model 3"
   ]
  },
  {
   "cell_type": "code",
   "execution_count": null,
   "metadata": {},
   "outputs": [],
   "source": [
    "#Set up third model definition to include dropouts and early stopping.\n",
    "def def_model3(outshape):\n",
    "    model = models.Sequential()\n",
    "    model.add(layers.Conv2D(32, (3, 3), activation='relu', input_shape=(400, 400, 3)))\n",
    "    model.add(layers.MaxPooling2D((2, 2)))\n",
    "    model.add(layers.Dropout(0.2))\n",
    "    model.add(layers.Conv2D(64, (3, 3), activation='relu'))\n",
    "    model.add(layers.MaxPooling2D((2, 2)))\n",
    "    model.add(layers.Dropout(0.2))\n",
    "    model.add(layers.Conv2D(64, (3, 3), activation='relu'))\n",
    "    model.add(layers.Flatten())\n",
    "    model.add(layers.Dense(64, activation='relu'))\n",
    "    model.add(layers.Dropout(0.5))\n",
    "    model.add(layers.Dense(outshape, activation='softmax'))\n",
    "\n",
    "    model.compile(optimizer='adam',\n",
    "              loss='sparse_categorical_crossentropy',\n",
    "              metrics=['accuracy'])\n",
    "    es = EarlyStopping(monitor = 'val_acc', min_delta = 0.0001, restore_best_weights=True)\n",
    "    return model, es"
   ]
  },
  {
   "cell_type": "markdown",
   "metadata": {},
   "source": [
    "##### Model 4"
   ]
  },
  {
   "cell_type": "code",
   "execution_count": null,
   "metadata": {},
   "outputs": [],
   "source": [
    "#Set up fourth model definition to include a further 2 layers.\n",
    "def def_model4(outshape):\n",
    "    model = models.Sequential()\n",
    "    model.add(layers.Conv2D(32, (3, 3), activation='relu', input_shape=(400, 400, 3)))\n",
    "    model.add(layers.MaxPooling2D((2, 2)))\n",
    "    model.add(layers.Dropout(0.2))\n",
    "    model.add(layers.Conv2D(64, (3, 3), activation='relu'))\n",
    "    model.add(layers.MaxPooling2D((2, 2)))\n",
    "    model.add(layers.Dropout(0.2))\n",
    "    model.add(layers.Conv2D(64, (3, 3), activation='relu'))\n",
    "    model.add(layers.MaxPooling2D((2, 2)))\n",
    "    model.add(layers.Dropout(0.2))\n",
    "    model.add(layers.Conv2D(64, (3, 3), activation='relu'))\n",
    "    model.add(layers.MaxPooling2D((2, 2)))\n",
    "    model.add(layers.Dropout(0.2))\n",
    "    model.add(layers.Conv2D(64, (3, 3), activation='relu'))\n",
    "    model.add(layers.Flatten())\n",
    "    model.add(layers.Dense(64, activation='relu'))\n",
    "    model.add(layers.Dropout(0.5))\n",
    "    model.add(layers.Dense(outshape, activation='softmax'))\n",
    "\n",
    "    model.compile(optimizer='adam',\n",
    "              loss='sparse_categorical_crossentropy',\n",
    "              metrics=['accuracy'])\n",
    "    es = EarlyStopping(monitor = 'val_acc', min_delta = 0.0001, restore_best_weights=True)\n",
    "    return model, es"
   ]
  }
 ],
 "metadata": {
  "kernelspec": {
   "display_name": "tensor_env",
   "language": "python",
   "name": "tensor_env"
  },
  "language_info": {
   "codemirror_mode": {
    "name": "ipython",
    "version": 3
   },
   "file_extension": ".py",
   "mimetype": "text/x-python",
   "name": "python",
   "nbconvert_exporter": "python",
   "pygments_lexer": "ipython3",
   "version": "3.7.4"
  }
 },
 "nbformat": 4,
 "nbformat_minor": 2
}
