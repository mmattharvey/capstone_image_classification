{
 "cells": [
  {
   "cell_type": "markdown",
   "metadata": {},
   "source": [
    "## Imports"
   ]
  },
  {
   "cell_type": "code",
   "execution_count": 1,
   "metadata": {
    "ExecuteTime": {
     "end_time": "2019-09-01T21:36:43.887394Z",
     "start_time": "2019-09-01T21:36:41.024381Z"
    }
   },
   "outputs": [
    {
     "name": "stderr",
     "output_type": "stream",
     "text": [
      "/anaconda3/envs/tensor_env/lib/python3.7/site-packages/tensorflow/python/framework/dtypes.py:516: FutureWarning: Passing (type, 1) or '1type' as a synonym of type is deprecated; in a future version of numpy, it will be understood as (type, (1,)) / '(1,)type'.\n",
      "  _np_qint8 = np.dtype([(\"qint8\", np.int8, 1)])\n",
      "/anaconda3/envs/tensor_env/lib/python3.7/site-packages/tensorflow/python/framework/dtypes.py:517: FutureWarning: Passing (type, 1) or '1type' as a synonym of type is deprecated; in a future version of numpy, it will be understood as (type, (1,)) / '(1,)type'.\n",
      "  _np_quint8 = np.dtype([(\"quint8\", np.uint8, 1)])\n",
      "/anaconda3/envs/tensor_env/lib/python3.7/site-packages/tensorflow/python/framework/dtypes.py:518: FutureWarning: Passing (type, 1) or '1type' as a synonym of type is deprecated; in a future version of numpy, it will be understood as (type, (1,)) / '(1,)type'.\n",
      "  _np_qint16 = np.dtype([(\"qint16\", np.int16, 1)])\n",
      "/anaconda3/envs/tensor_env/lib/python3.7/site-packages/tensorflow/python/framework/dtypes.py:519: FutureWarning: Passing (type, 1) or '1type' as a synonym of type is deprecated; in a future version of numpy, it will be understood as (type, (1,)) / '(1,)type'.\n",
      "  _np_quint16 = np.dtype([(\"quint16\", np.uint16, 1)])\n",
      "/anaconda3/envs/tensor_env/lib/python3.7/site-packages/tensorflow/python/framework/dtypes.py:520: FutureWarning: Passing (type, 1) or '1type' as a synonym of type is deprecated; in a future version of numpy, it will be understood as (type, (1,)) / '(1,)type'.\n",
      "  _np_qint32 = np.dtype([(\"qint32\", np.int32, 1)])\n",
      "/anaconda3/envs/tensor_env/lib/python3.7/site-packages/tensorflow/python/framework/dtypes.py:525: FutureWarning: Passing (type, 1) or '1type' as a synonym of type is deprecated; in a future version of numpy, it will be understood as (type, (1,)) / '(1,)type'.\n",
      "  np_resource = np.dtype([(\"resource\", np.ubyte, 1)])\n",
      "/anaconda3/envs/tensor_env/lib/python3.7/site-packages/tensorboard/compat/tensorflow_stub/dtypes.py:541: FutureWarning: Passing (type, 1) or '1type' as a synonym of type is deprecated; in a future version of numpy, it will be understood as (type, (1,)) / '(1,)type'.\n",
      "  _np_qint8 = np.dtype([(\"qint8\", np.int8, 1)])\n",
      "/anaconda3/envs/tensor_env/lib/python3.7/site-packages/tensorboard/compat/tensorflow_stub/dtypes.py:542: FutureWarning: Passing (type, 1) or '1type' as a synonym of type is deprecated; in a future version of numpy, it will be understood as (type, (1,)) / '(1,)type'.\n",
      "  _np_quint8 = np.dtype([(\"quint8\", np.uint8, 1)])\n",
      "/anaconda3/envs/tensor_env/lib/python3.7/site-packages/tensorboard/compat/tensorflow_stub/dtypes.py:543: FutureWarning: Passing (type, 1) or '1type' as a synonym of type is deprecated; in a future version of numpy, it will be understood as (type, (1,)) / '(1,)type'.\n",
      "  _np_qint16 = np.dtype([(\"qint16\", np.int16, 1)])\n",
      "/anaconda3/envs/tensor_env/lib/python3.7/site-packages/tensorboard/compat/tensorflow_stub/dtypes.py:544: FutureWarning: Passing (type, 1) or '1type' as a synonym of type is deprecated; in a future version of numpy, it will be understood as (type, (1,)) / '(1,)type'.\n",
      "  _np_quint16 = np.dtype([(\"quint16\", np.uint16, 1)])\n",
      "/anaconda3/envs/tensor_env/lib/python3.7/site-packages/tensorboard/compat/tensorflow_stub/dtypes.py:545: FutureWarning: Passing (type, 1) or '1type' as a synonym of type is deprecated; in a future version of numpy, it will be understood as (type, (1,)) / '(1,)type'.\n",
      "  _np_qint32 = np.dtype([(\"qint32\", np.int32, 1)])\n",
      "/anaconda3/envs/tensor_env/lib/python3.7/site-packages/tensorboard/compat/tensorflow_stub/dtypes.py:550: FutureWarning: Passing (type, 1) or '1type' as a synonym of type is deprecated; in a future version of numpy, it will be understood as (type, (1,)) / '(1,)type'.\n",
      "  np_resource = np.dtype([(\"resource\", np.ubyte, 1)])\n"
     ]
    }
   ],
   "source": [
    "#General\n",
    "import numpy as np\n",
    "import pandas as pd\n",
    "from tqdm import tqdm_notebook\n",
    "import matplotlib.pyplot as plt\n",
    "import random\n",
    "import time\n",
    "\n",
    "#Image loading and processing\n",
    "import os\n",
    "from matplotlib import image\n",
    "from skimage.transform import resize\n",
    "\n",
    "#Model development\n",
    "import tensorflow as tf\n",
    "from tensorflow.keras import datasets, layers, models, optimizers\n",
    "from tensorflow.keras.models import Model\n",
    "from tensorflow.keras.callbacks import EarlyStopping\n",
    "from sklearn.model_selection import train_test_split\n",
    "from tensorflow.keras.preprocessing.image import ImageDataGenerator\n",
    "\n",
    "from tensorflow.keras.applications.vgg16 import VGG16\n",
    "from tensorflow.keras.applications.vgg16 import preprocess_input as VGG16_preprocess_input\n",
    "from tensorflow.keras.applications.resnet50 import ResNet50\n",
    "from tensorflow.keras.applications.resnet50 import preprocess_input as RN50_preprocess_input\n",
    "from tensorflow.keras.optimizers import SGD"
   ]
  },
  {
   "cell_type": "markdown",
   "metadata": {},
   "source": [
    "## Define functions"
   ]
  },
  {
   "cell_type": "code",
   "execution_count": 2,
   "metadata": {
    "ExecuteTime": {
     "end_time": "2019-09-01T21:36:43.904444Z",
     "start_time": "2019-09-01T21:36:43.890490Z"
    }
   },
   "outputs": [],
   "source": [
    "def generate_image_set(breed_list, clean='y', threshold = 0):\n",
    "\n",
    "#Set up list of dog pics:\n",
    "    path = 'dog_pics/'\n",
    "    clean_path = 'clean_dog_pics/'\n",
    "    file_list = sorted(os.listdir('dog_pics/'))\n",
    "    file_list = file_list[1:]\n",
    "    clean_file_list = sorted(os.listdir('clean_dog_pics/'))\n",
    "    clean_file_list = clean_file_list[1:]\n",
    "\n",
    "#Load pictures and labels from a specified breed list\n",
    "    print('Loading pictures...')\n",
    "    \n",
    "    labels=[]\n",
    "    images=list()\n",
    "    for file in tqdm_notebook(clean_file_list):\n",
    "        dog_breed=file[6:-7]\n",
    "        pic_pc = int(file[:-4].split('_')[-1])\n",
    "        if dog_breed in breed_list:\n",
    "            if pic_pc >= threshold:\n",
    "                if clean == 'y':\n",
    "                    data = np.asarray(image.imread(clean_path+file))\n",
    "                else:\n",
    "                    load_filename = file[:-7]+'.jpg'\n",
    "                    data = np.asarray(image.imread(path+load_filename))\n",
    "                if data.shape!=(400,400,3):\n",
    "                    data = resize(data,(400,400,3), anti_aliasing=True)\n",
    "                images.append(data)\n",
    "                labels.append(dog_breed)                \n",
    "    print('Setting up numpy array')\n",
    "    images = np.array(images)\n",
    "    \n",
    "    print('Number of loaded images: ',len(images))\n",
    "    print('Number of labels: ', len(labels))\n",
    "\n",
    "#Set up label dictionaries and convert labels from text to integers for modelling\n",
    "    breed_dict = {}\n",
    "    for i in range (0, len(breed_list)):\n",
    "        breed_dict[breed_list[i]]=i\n",
    "    print(breed_dict)\n",
    "    inv_breed_dict = {}\n",
    "    for i in range (0, len(breed_list)):\n",
    "        inv_breed_dict[i]=breed_list[i]\n",
    "    print(inv_breed_dict)\n",
    "    int_labels = [breed_dict[breed] for breed in labels]\n",
    "\n",
    "\n",
    "#Set up train test split\n",
    "    print('Setting up train/test split')\n",
    "    train_images, test_images, train_labels, test_labels =\\\n",
    "    train_test_split(images, int_labels, test_size = 0.2, \n",
    "                     random_state = 1, shuffle = True, stratify = int_labels)\n",
    "    \n",
    "\n",
    "#Pre-process pictures for modelling\n",
    "    print('Pre-processing pictures')\n",
    "    train_images, test_images = train_images / 255.0, test_images / 255.0\n",
    "\n",
    "#Reminder of baseline (updated to reflect number of loaded images):\n",
    "    baseline_scores=[]\n",
    "    for label in list(set(test_labels)):\n",
    "        number_of_images = test_labels.count(label)\n",
    "        pc_of_images = number_of_images / len(test_labels)\n",
    "        print(inv_breed_dict[label],'; number of images: ',\n",
    "              number_of_images, '; % of images', pc_of_images)\n",
    "        baseline_scores.append(pc_of_images)\n",
    "    baseline = max(baseline_scores)\n",
    "    print('Baseline: ', baseline)\n",
    "    \n",
    "    return train_images, test_images, train_labels, test_labels, inv_breed_dict, baseline"
   ]
  },
  {
   "cell_type": "code",
   "execution_count": 3,
   "metadata": {
    "ExecuteTime": {
     "end_time": "2019-09-01T21:36:43.922829Z",
     "start_time": "2019-09-01T21:36:43.908935Z"
    }
   },
   "outputs": [],
   "source": [
    "#Set up first model definition\n",
    "#https://www.tensorflow.org/beta/tutorials/keras/basic_classification\n",
    "def def_model1(outshape):\n",
    "    model = models.Sequential([layers.Flatten(input_shape=(400, 400, 3)),\n",
    "                               layers.Dense(128, activation='relu'),\n",
    "                               layers.Dense(outshape, activation='softmax')])\n",
    "    model.compile(optimizer='adam',\n",
    "                  loss='sparse_categorical_crossentropy',\n",
    "                  metrics=['accuracy'])\n",
    "    return model"
   ]
  },
  {
   "cell_type": "code",
   "execution_count": 4,
   "metadata": {
    "ExecuteTime": {
     "end_time": "2019-09-01T21:36:43.932321Z",
     "start_time": "2019-09-01T21:36:43.925624Z"
    }
   },
   "outputs": [],
   "source": [
    "#Set up second more complex model definition\n",
    "#https://machinelearningmastery.com/how-to-develop-a-convolutional-neural-network-to-classify-satellite-photos-of-the-amazon-rainforest/\n",
    "def def_model2(outshape):\n",
    "    model = models.Sequential()\n",
    "    model.add(layers.Conv2D(32, (3, 3), activation='relu', input_shape=(400, 400, 3)))\n",
    "    model.add(layers.MaxPooling2D((2, 2)))\n",
    "    model.add(layers.Conv2D(64, (3, 3), activation='relu'))\n",
    "    model.add(layers.MaxPooling2D((2, 2)))\n",
    "    model.add(layers.Conv2D(64, (3, 3), activation='relu'))\n",
    "    model.add(layers.Flatten())\n",
    "    model.add(layers.Dense(64, activation='relu'))\n",
    "    model.add(layers.Dense(outshape, activation='softmax'))\n",
    "\n",
    "    model.compile(optimizer='adam',\n",
    "              loss='sparse_categorical_crossentropy',\n",
    "              metrics=['accuracy'])\n",
    "    return model"
   ]
  },
  {
   "cell_type": "code",
   "execution_count": 5,
   "metadata": {
    "ExecuteTime": {
     "end_time": "2019-09-01T21:36:43.941448Z",
     "start_time": "2019-09-01T21:36:43.933893Z"
    }
   },
   "outputs": [],
   "source": [
    "#Set up third model definition to include dropouts.\n",
    "def def_model3(outshape):\n",
    "    model = models.Sequential()\n",
    "    model.add(layers.Conv2D(32, (3, 3), activation='relu', input_shape=(400, 400, 3)))\n",
    "    model.add(layers.MaxPooling2D((2, 2)))\n",
    "    model.add(layers.Dropout(0.2))\n",
    "    model.add(layers.Conv2D(64, (3, 3), activation='relu'))\n",
    "    model.add(layers.MaxPooling2D((2, 2)))\n",
    "    model.add(layers.Dropout(0.2))\n",
    "    model.add(layers.Conv2D(64, (3, 3), activation='relu'))\n",
    "    model.add(layers.Flatten())\n",
    "    model.add(layers.Dense(64, activation='relu'))\n",
    "    model.add(layers.Dropout(0.5))\n",
    "    model.add(layers.Dense(outshape, activation='softmax'))\n",
    "\n",
    "    model.compile(optimizer='adam',\n",
    "              loss='sparse_categorical_crossentropy',\n",
    "              metrics=['accuracy'])\n",
    "    es = EarlyStopping(monitor = 'val_acc', min_delta = 0.0001, restore_best_weights=True)\n",
    "    return model, es"
   ]
  },
  {
   "cell_type": "code",
   "execution_count": 6,
   "metadata": {
    "ExecuteTime": {
     "end_time": "2019-09-01T21:36:43.952089Z",
     "start_time": "2019-09-01T21:36:43.943151Z"
    }
   },
   "outputs": [],
   "source": [
    "#Set up fourth model definition to include a further 2 layers.\n",
    "def def_model4(outshape):\n",
    "    model = models.Sequential()\n",
    "    model.add(layers.Conv2D(32, (3, 3), activation='relu', input_shape=(400, 400, 3)))\n",
    "    model.add(layers.MaxPooling2D((2, 2)))\n",
    "    model.add(layers.Dropout(0.2))\n",
    "    model.add(layers.Conv2D(64, (3, 3), activation='relu'))\n",
    "    model.add(layers.MaxPooling2D((2, 2)))\n",
    "    model.add(layers.Dropout(0.2))\n",
    "    model.add(layers.Conv2D(64, (3, 3), activation='relu'))\n",
    "    model.add(layers.MaxPooling2D((2, 2)))\n",
    "    model.add(layers.Dropout(0.2))\n",
    "    model.add(layers.Conv2D(64, (3, 3), activation='relu'))\n",
    "    model.add(layers.MaxPooling2D((2, 2)))\n",
    "    model.add(layers.Dropout(0.2))\n",
    "    model.add(layers.Conv2D(64, (3, 3), activation='relu'))\n",
    "    model.add(layers.Flatten())\n",
    "    model.add(layers.Dense(64, activation='relu'))\n",
    "    model.add(layers.Dropout(0.5))\n",
    "    model.add(layers.Dense(outshape, activation='softmax'))\n",
    "\n",
    "    model.compile(optimizer='adam',\n",
    "              loss='sparse_categorical_crossentropy',\n",
    "              metrics=['accuracy'])\n",
    "    es = EarlyStopping(monitor = 'val_acc', min_delta = 0.0001, restore_best_weights=True)\n",
    "    return model, es"
   ]
  },
  {
   "cell_type": "code",
   "execution_count": 7,
   "metadata": {
    "ExecuteTime": {
     "end_time": "2019-09-01T21:36:43.961684Z",
     "start_time": "2019-09-01T21:36:43.953873Z"
    }
   },
   "outputs": [],
   "source": [
    "#Define functions for reviewing results\n",
    "def plot_image(i, predictions_array, true_label, img):\n",
    "    predictions_array, true_label, img = predictions_array, true_label[i], img[i]\n",
    "    plt.grid(False)\n",
    "    plt.xticks([])\n",
    "    plt.yticks([])\n",
    "\n",
    "    plt.imshow(img, cmap=plt.cm.binary)\n",
    "\n",
    "    predicted_label = np.argmax(predictions_array)\n",
    "    if predicted_label == true_label:\n",
    "        color = 'green'\n",
    "    else:\n",
    "        color = 'red'\n",
    "\n",
    "    plt.xlabel(\"{} {:2.0f}% ({})\".format(inv_breed_dict[predicted_label],\n",
    "                                100*np.max(predictions_array),\n",
    "                                inv_breed_dict[true_label]),\n",
    "                                color=color)\n",
    "\n",
    "def plot_value_array(i, predictions_array, true_label):\n",
    "    predictions_array, true_label = predictions_array, true_label[i]\n",
    "    plt.grid(False)\n",
    "    plt.xticks(range(len(predictions_array)))\n",
    "    plt.yticks([])\n",
    "    thisplot = plt.bar(range(len(predictions_array)), predictions_array, color=\"#777777\")\n",
    "    plt.ylim([0, 1])\n",
    "    predicted_label = np.argmax(predictions_array)\n",
    "    if predicted_label == true_label:\n",
    "        thisplot[predicted_label].set_color('green')\n",
    "        thisplot[true_label].set_color('green')\n",
    "    if predicted_label != true_label:\n",
    "        thisplot[predicted_label].set_color('red')\n",
    "        thisplot[true_label].set_color('pink')"
   ]
  },
  {
   "cell_type": "code",
   "execution_count": 8,
   "metadata": {
    "ExecuteTime": {
     "end_time": "2019-09-01T21:36:43.969952Z",
     "start_time": "2019-09-01T21:36:43.965513Z"
    }
   },
   "outputs": [],
   "source": [
    "def review_results(predictions, test_labels, test_images, sample_size = 10):\n",
    "    \n",
    "    for counter in range(sample_size):\n",
    "        i = random.randint(0,len(test_labels)-1)\n",
    "        print(i)\n",
    "        print(inv_breed_dict)\n",
    "        plt.figure(figsize=(6,3))\n",
    "        plt.subplot(1,2,1)\n",
    "        plot_image(i, predictions[i], test_labels, test_images)\n",
    "        plt.subplot(1,2,2)\n",
    "        plot_value_array(i, predictions[i],  test_labels)\n",
    "        plt.show()"
   ]
  },
  {
   "cell_type": "code",
   "execution_count": 9,
   "metadata": {
    "ExecuteTime": {
     "end_time": "2019-09-01T21:36:43.977354Z",
     "start_time": "2019-09-01T21:36:43.972424Z"
    }
   },
   "outputs": [],
   "source": [
    "def summarize_diagnostics(history):\n",
    "    fig, ax = plt.subplots(nrows=2)\n",
    "    # plot loss\n",
    "    ax[0].plot(history.history['loss'], color='blue', label='train')\n",
    "    ax[0].plot(history.history['val_loss'], color='orange', label='test')\n",
    "    ax[0].set_title('Loss')\n",
    "    # plot accuracy\n",
    "    ax[1].plot(history.history['acc'], color='blue', label='train')\n",
    "    ax[1].plot(history.history['val_acc'], color='orange', label='test')\n",
    "    ax[1].set_title('Acc')\n",
    "    fig.tight_layout()\n",
    "    plt.show(); "
   ]
  },
  {
   "cell_type": "code",
   "execution_count": 10,
   "metadata": {
    "ExecuteTime": {
     "end_time": "2019-09-01T21:36:43.985110Z",
     "start_time": "2019-09-01T21:36:43.979053Z"
    }
   },
   "outputs": [],
   "source": [
    "def model_documentation_nn(model_summary,\n",
    "                           model, breed_list, training_sample_size,\n",
    "                           pic_resolution, pic_masked, pic_quality,\n",
    "                           baseline_score, validation_score,\n",
    "                           train_score, test_score,\n",
    "                           time_taken, notes):\n",
    "    num_dog_breeds = len(breed_list)\n",
    "    stringlist = []\n",
    "    model.summary(print_fn=lambda x: stringlist.append(x))\n",
    "    short_model_summary = \"\\n\".join(stringlist)\n",
    "    model_summary = model_summary.append({\n",
    "        'model_type' : type(model),\n",
    "        'model_parameters' : short_model_summary,\n",
    "        'number_dog_breeds' : num_dog_breeds,\n",
    "        'dog_breeds' : breed_list,\n",
    "        'training_sample_size' : training_sample_size,\n",
    "        'picture_resolution' : pic_resolution,\n",
    "        'pictures_masked' : pic_masked,\n",
    "        'picture_quality' : pic_quality,\n",
    "        'baseline_score' : baseline_score,\n",
    "        'validation_score' : validation_score,\n",
    "        'train_score' : train_score,\n",
    "        'test_score' : test_score,\n",
    "        'time_taken' : time_taken,\n",
    "        'notes' : notes},\n",
    "        ignore_index = True)\n",
    "#Display latest entry\n",
    "    last_row = model_summary.shape[0]-1\n",
    "    print(model_summary.iloc[last_row])\n",
    "    return model_summary"
   ]
  },
  {
   "cell_type": "markdown",
   "metadata": {},
   "source": [
    "## Set up dataset and model summary dataframe\n",
    "3 breeds: labrador, cocker spaniel and french bulldog"
   ]
  },
  {
   "cell_type": "code",
   "execution_count": 11,
   "metadata": {
    "ExecuteTime": {
     "end_time": "2019-09-01T21:36:58.240600Z",
     "start_time": "2019-09-01T21:36:43.986613Z"
    }
   },
   "outputs": [
    {
     "name": "stdout",
     "output_type": "stream",
     "text": [
      "Loading pictures...\n"
     ]
    },
    {
     "data": {
      "application/vnd.jupyter.widget-view+json": {
       "model_id": "f69c8e6909ef42b18c8f5ef556897c08",
       "version_major": 2,
       "version_minor": 0
      },
      "text/plain": [
       "HBox(children=(IntProgress(value=0, max=32459), HTML(value='')))"
      ]
     },
     "metadata": {},
     "output_type": "display_data"
    },
    {
     "name": "stdout",
     "output_type": "stream",
     "text": [
      "\n",
      "Setting up numpy array\n",
      "Number of loaded images:  2589\n",
      "Number of labels:  2589\n",
      "{'labrador': 0, 'cocker_spaniel': 1, 'french_bulldog': 2}\n",
      "{0: 'labrador', 1: 'cocker_spaniel', 2: 'french_bulldog'}\n",
      "Setting up train/test split\n",
      "Pre-processing pictures\n",
      "labrador ; number of images:  210 ; % of images 0.40540540540540543\n",
      "cocker_spaniel ; number of images:  193 ; % of images 0.37258687258687256\n",
      "french_bulldog ; number of images:  115 ; % of images 0.222007722007722\n",
      "Baseline:  0.40540540540540543\n"
     ]
    }
   ],
   "source": [
    "breed_list = ['labrador', 'cocker_spaniel', 'french_bulldog']\n",
    "clean = 'y'\n",
    "threshold = 30\n",
    "train_images, test_images, train_labels, test_labels, inv_breed_dict, baseline =\\\n",
    "generate_image_set(breed_list, clean, threshold)"
   ]
  },
  {
   "cell_type": "code",
   "execution_count": 12,
   "metadata": {
    "ExecuteTime": {
     "end_time": "2019-09-01T21:36:58.325281Z",
     "start_time": "2019-09-01T21:36:58.242279Z"
    }
   },
   "outputs": [],
   "source": [
    "#Set up temporary model summary dataframe\n",
    "master_model_summary = pd.read_pickle('model_summary.pkl')\n",
    "temp_model_summary = pd.DataFrame(columns=master_model_summary.columns)"
   ]
  },
  {
   "cell_type": "markdown",
   "metadata": {},
   "source": [
    "## Model 1"
   ]
  },
  {
   "cell_type": "code",
   "execution_count": 13,
   "metadata": {
    "ExecuteTime": {
     "end_time": "2019-09-01T21:41:56.146551Z",
     "start_time": "2019-09-01T21:36:58.327166Z"
    }
   },
   "outputs": [
    {
     "name": "stderr",
     "output_type": "stream",
     "text": [
      "WARNING: Logging before flag parsing goes to stderr.\n",
      "W0901 22:36:58.343220 4475307456 deprecation.py:506] From /anaconda3/envs/tensor_env/lib/python3.7/site-packages/tensorflow/python/ops/init_ops.py:1251: calling VarianceScaling.__init__ (from tensorflow.python.ops.init_ops) with dtype is deprecated and will be removed in a future version.\n",
      "Instructions for updating:\n",
      "Call initializer instance with the dtype argument instead of passing it to the constructor\n"
     ]
    },
    {
     "name": "stdout",
     "output_type": "stream",
     "text": [
      "Train on 1656 samples, validate on 415 samples\n",
      "Epoch 1/20\n",
      "1656/1656 [==============================] - 18s 11ms/sample - loss: 17.6182 - acc: 0.4058 - val_loss: 3.8878 - val_acc: 0.4096\n",
      "Epoch 2/20\n",
      "1656/1656 [==============================] - 14s 8ms/sample - loss: 2.0394 - acc: 0.5290 - val_loss: 1.8503 - val_acc: 0.4434\n",
      "Epoch 3/20\n",
      "1656/1656 [==============================] - 14s 9ms/sample - loss: 1.6198 - acc: 0.5700 - val_loss: 1.8768 - val_acc: 0.4048\n",
      "Epoch 4/20\n",
      "1656/1656 [==============================] - 14s 9ms/sample - loss: 1.0215 - acc: 0.6479 - val_loss: 1.7423 - val_acc: 0.4337\n",
      "Epoch 5/20\n",
      "1656/1656 [==============================] - 14s 9ms/sample - loss: 1.3885 - acc: 0.6171 - val_loss: 3.1729 - val_acc: 0.3880\n",
      "Epoch 6/20\n",
      "1656/1656 [==============================] - 14s 9ms/sample - loss: 0.9445 - acc: 0.6981 - val_loss: 1.7965 - val_acc: 0.4361\n",
      "Epoch 7/20\n",
      "1656/1656 [==============================] - 14s 9ms/sample - loss: 0.6687 - acc: 0.7572 - val_loss: 1.6615 - val_acc: 0.4554\n",
      "Epoch 8/20\n",
      "1656/1656 [==============================] - 14s 9ms/sample - loss: 0.6774 - acc: 0.7373 - val_loss: 1.7869 - val_acc: 0.4434\n",
      "Epoch 9/20\n",
      "1656/1656 [==============================] - 14s 9ms/sample - loss: 0.4451 - acc: 0.8291 - val_loss: 1.8696 - val_acc: 0.4434\n",
      "Epoch 10/20\n",
      "1656/1656 [==============================] - 15s 9ms/sample - loss: 0.4022 - acc: 0.8527 - val_loss: 1.6774 - val_acc: 0.4361\n",
      "Epoch 11/20\n",
      "1656/1656 [==============================] - 15s 9ms/sample - loss: 0.2700 - acc: 0.9167 - val_loss: 2.1359 - val_acc: 0.4289\n",
      "Epoch 12/20\n",
      "1656/1656 [==============================] - 15s 9ms/sample - loss: 0.4988 - acc: 0.8146 - val_loss: 2.7866 - val_acc: 0.4169\n",
      "Epoch 13/20\n",
      "1656/1656 [==============================] - 15s 9ms/sample - loss: 0.5842 - acc: 0.7808 - val_loss: 1.9096 - val_acc: 0.4458\n",
      "Epoch 14/20\n",
      "1656/1656 [==============================] - 15s 9ms/sample - loss: 0.2342 - acc: 0.9318 - val_loss: 1.8474 - val_acc: 0.4410\n",
      "Epoch 15/20\n",
      "1656/1656 [==============================] - 14s 9ms/sample - loss: 0.2119 - acc: 0.9366 - val_loss: 1.8078 - val_acc: 0.4361\n",
      "Epoch 16/20\n",
      "1656/1656 [==============================] - 14s 9ms/sample - loss: 0.1448 - acc: 0.9752 - val_loss: 1.8972 - val_acc: 0.4313\n",
      "Epoch 17/20\n",
      "1656/1656 [==============================] - 14s 9ms/sample - loss: 0.1488 - acc: 0.9650 - val_loss: 1.8261 - val_acc: 0.4458\n",
      "Epoch 18/20\n",
      "1656/1656 [==============================] - 14s 9ms/sample - loss: 0.1753 - acc: 0.9535 - val_loss: 1.9416 - val_acc: 0.4145\n",
      "Epoch 19/20\n",
      "1656/1656 [==============================] - 15s 9ms/sample - loss: 0.2192 - acc: 0.9275 - val_loss: 2.2591 - val_acc: 0.4241\n",
      "Epoch 20/20\n",
      "1656/1656 [==============================] - 15s 9ms/sample - loss: 1.2200 - acc: 0.6401 - val_loss: 1.4286 - val_acc: 0.3904\n",
      "Model accuracy\n",
      "518/518 [==============================] - 2s 4ms/sample - loss: 1.4801 - acc: 0.4093\n"
     ]
    }
   ],
   "source": [
    "start_time = time.time()\n",
    "model = def_model1(len(breed_list))\n",
    "history = model.fit(train_images, train_labels, epochs=20, validation_split=0.2)\n",
    "print(\"Model accuracy\")\n",
    "max_val_acc = max(history.history['val_acc'])\n",
    "train_acc = history.history['acc'][-2]\n",
    "test_loss, test_acc = model.evaluate(test_images, test_labels)\n",
    "model_time = time.time() - start_time"
   ]
  },
  {
   "cell_type": "code",
   "execution_count": 14,
   "metadata": {
    "ExecuteTime": {
     "end_time": "2019-09-01T21:41:56.497960Z",
     "start_time": "2019-09-01T21:41:56.148689Z"
    }
   },
   "outputs": [
    {
     "data": {
      "image/png": "[encoded data removed]",
      "text/plain": [
       "<Figure size 432x288 with 2 Axes>"
      ]
     },
     "metadata": {
      "needs_background": "light"
     },
     "output_type": "display_data"
    }
   ],
   "source": [
    "summarize_diagnostics(history)"
   ]
  },
  {
   "cell_type": "code",
   "execution_count": 15,
   "metadata": {
    "ExecuteTime": {
     "end_time": "2019-09-01T21:41:56.510600Z",
     "start_time": "2019-09-01T21:41:56.499987Z"
    }
   },
   "outputs": [
    {
     "name": "stdout",
     "output_type": "stream",
     "text": [
      "model_type              <class 'tensorflow.python.keras.engine.sequent...\n",
      "model_parameters        Model: \"sequential\"\\n_________________________...\n",
      "number_dog_breeds                                                       3\n",
      "dog_breeds                     [labrador, cocker_spaniel, french_bulldog]\n",
      "training_sample_size                                                 2071\n",
      "picture_resolution                                          (400, 400, 3)\n",
      "pictures_masked                                                         y\n",
      "picture_quality                                                        30\n",
      "baseline_score                                                   0.405405\n",
      "validation_score                                                 0.455422\n",
      "train_score                                                      0.927536\n",
      "test_score                                                       0.409266\n",
      "time_taken                                                        297.815\n",
      "notes                                                          NN model 1\n",
      "Name: 0, dtype: object\n"
     ]
    }
   ],
   "source": [
    "notes = 'NN model 1'\n",
    "temp_model_summary = model_documentation_nn(temp_model_summary, model,\n",
    "                                            breed_list, len(train_images), \n",
    "                                            train_images[0].shape,\n",
    "                                            clean, threshold,\n",
    "                                            baseline, max_val_acc,\n",
    "                                            train_acc, test_acc,\n",
    "                                            model_time, notes)"
   ]
  },
  {
   "cell_type": "markdown",
   "metadata": {},
   "source": [
    "## Model 2"
   ]
  },
  {
   "cell_type": "code",
   "execution_count": 17,
   "metadata": {
    "ExecuteTime": {
     "end_time": "2019-09-01T21:56:24.267313Z",
     "start_time": "2019-09-01T21:44:47.771032Z"
    }
   },
   "outputs": [
    {
     "name": "stdout",
     "output_type": "stream",
     "text": [
      "Train on 1656 samples, validate on 415 samples\n",
      "Epoch 1/5\n",
      "1656/1656 [==============================] - 154s 93ms/sample - loss: 1.9664 - acc: 0.3998 - val_loss: 1.0297 - val_acc: 0.4361\n",
      "Epoch 2/5\n",
      "1656/1656 [==============================] - 134s 81ms/sample - loss: 0.9706 - acc: 0.5199 - val_loss: 0.9911 - val_acc: 0.4892\n",
      "Epoch 3/5\n",
      "1656/1656 [==============================] - 132s 80ms/sample - loss: 0.6709 - acc: 0.7228 - val_loss: 1.0345 - val_acc: 0.5277\n",
      "Epoch 4/5\n",
      "1656/1656 [==============================] - 130s 79ms/sample - loss: 0.2388 - acc: 0.9167 - val_loss: 1.3926 - val_acc: 0.5349\n",
      "Epoch 5/5\n",
      "1656/1656 [==============================] - 130s 78ms/sample - loss: 0.0476 - acc: 0.9891 - val_loss: 2.1066 - val_acc: 0.5518\n",
      "Model accuracy\n",
      "518/518 [==============================] - 15s 29ms/sample - loss: 2.0834 - acc: 0.5444\n"
     ]
    }
   ],
   "source": [
    "start_time = time.time()\n",
    "model = def_model2(len(breed_list))\n",
    "history = model.fit(train_images, train_labels, epochs=5, validation_split=0.2)\n",
    "print(\"Model accuracy\")\n",
    "max_val_acc = max(history.history['val_acc'])\n",
    "train_acc = history.history['acc'][-2]\n",
    "test_loss, test_acc = model.evaluate(test_images, test_labels)\n",
    "model_time = time.time() - start_time"
   ]
  },
  {
   "cell_type": "code",
   "execution_count": 18,
   "metadata": {
    "ExecuteTime": {
     "end_time": "2019-09-01T21:56:25.002650Z",
     "start_time": "2019-09-01T21:56:24.270124Z"
    }
   },
   "outputs": [
    {
     "data": {
      "image/png": "[encoded data removed]",
      "text/plain": [
       "<Figure size 432x288 with 2 Axes>"
      ]
     },
     "metadata": {
      "needs_background": "light"
     },
     "output_type": "display_data"
    }
   ],
   "source": [
    "summarize_diagnostics(history)"
   ]
  },
  {
   "cell_type": "code",
   "execution_count": 19,
   "metadata": {
    "ExecuteTime": {
     "end_time": "2019-09-01T21:56:25.021054Z",
     "start_time": "2019-09-01T21:56:25.004841Z"
    }
   },
   "outputs": [
    {
     "name": "stdout",
     "output_type": "stream",
     "text": [
      "model_type              <class 'tensorflow.python.keras.engine.sequent...\n",
      "model_parameters        Model: \"sequential_2\"\\n_______________________...\n",
      "number_dog_breeds                                                       3\n",
      "dog_breeds                     [labrador, cocker_spaniel, french_bulldog]\n",
      "training_sample_size                                                 2071\n",
      "picture_resolution                                          (400, 400, 3)\n",
      "pictures_masked                                                         y\n",
      "picture_quality                                                        30\n",
      "baseline_score                                                   0.405405\n",
      "validation_score                                                 0.551807\n",
      "train_score                                                      0.916667\n",
      "test_score                                                       0.544402\n",
      "time_taken                                                        696.485\n",
      "notes                                                         CNN model 1\n",
      "Name: 1, dtype: object\n"
     ]
    }
   ],
   "source": [
    "notes = 'CNN model 1'\n",
    "temp_model_summary = model_documentation_nn(temp_model_summary, model,\n",
    "                                            breed_list, len(train_images), \n",
    "                                            train_images[0].shape,\n",
    "                                            clean, threshold,\n",
    "                                            baseline, max_val_acc,\n",
    "                                            train_acc, test_acc,\n",
    "                                            model_time, notes)"
   ]
  },
  {
   "cell_type": "code",
   "execution_count": 20,
   "metadata": {
    "ExecuteTime": {
     "end_time": "2019-09-01T22:17:15.551343Z",
     "start_time": "2019-09-01T21:56:25.023394Z"
    }
   },
   "outputs": [
    {
     "name": "stdout",
     "output_type": "stream",
     "text": [
      "Train on 1656 samples, validate on 415 samples\n",
      "Epoch 1/15\n",
      "1656/1656 [==============================] - 161s 97ms/sample - loss: 1.4259 - acc: 0.3943 - val_loss: 1.0803 - val_acc: 0.4096\n",
      "Epoch 2/15\n",
      "1656/1656 [==============================] - 154s 93ms/sample - loss: 1.0446 - acc: 0.4656 - val_loss: 1.0180 - val_acc: 0.4627\n",
      "Epoch 3/15\n",
      "1656/1656 [==============================] - 151s 91ms/sample - loss: 0.8089 - acc: 0.6522 - val_loss: 1.0048 - val_acc: 0.5277\n",
      "Epoch 4/15\n",
      "1656/1656 [==============================] - 151s 91ms/sample - loss: 0.4490 - acc: 0.8297 - val_loss: 1.1249 - val_acc: 0.5325\n",
      "Epoch 5/15\n",
      "1656/1656 [==============================] - 151s 91ms/sample - loss: 0.2130 - acc: 0.9130 - val_loss: 1.3919 - val_acc: 0.5470\n",
      "Epoch 6/15\n",
      "1656/1656 [==============================] - 151s 91ms/sample - loss: 0.1627 - acc: 0.9402 - val_loss: 1.4883 - val_acc: 0.5590\n",
      "Epoch 7/15\n",
      "1656/1656 [==============================] - 150s 91ms/sample - loss: 0.1151 - acc: 0.9577 - val_loss: 1.5932 - val_acc: 0.5735\n",
      "Epoch 8/15\n",
      "1656/1656 [==============================] - 151s 91ms/sample - loss: 0.1051 - acc: 0.9638 - val_loss: 1.9290 - val_acc: 0.5614\n",
      "Model accuracy\n",
      "518/518 [==============================] - 16s 32ms/sample - loss: 1.5321 - acc: 0.5695\n"
     ]
    }
   ],
   "source": [
    "model, es = def_model3(len(breed_list))\n",
    "model.fit(train_images, train_labels, epochs=15, validation_split=0.2, callbacks = [es])\n",
    "print(\"Model accuracy\")\n",
    "test_loss, test_acc = model.evaluate(test_images, test_labels)\n",
    "predictions = model.predict(test_images)"
   ]
  },
  {
   "cell_type": "code",
   "execution_count": 21,
   "metadata": {
    "ExecuteTime": {
     "end_time": "2019-09-01T22:28:10.659086Z",
     "start_time": "2019-09-01T22:17:15.556374Z"
    }
   },
   "outputs": [
    {
     "name": "stdout",
     "output_type": "stream",
     "text": [
      "Train on 1656 samples, validate on 415 samples\n",
      "Epoch 1/15\n",
      "1656/1656 [==============================] - 168s 101ms/sample - loss: 1.2019 - acc: 0.3955 - val_loss: 1.0470 - val_acc: 0.4651\n",
      "Epoch 2/15\n",
      "1656/1656 [==============================] - 153s 92ms/sample - loss: 0.9925 - acc: 0.4988 - val_loss: 1.0071 - val_acc: 0.4940\n",
      "Epoch 3/15\n",
      "1656/1656 [==============================] - 152s 92ms/sample - loss: 0.6528 - acc: 0.7168 - val_loss: 1.0038 - val_acc: 0.5518\n",
      "Epoch 4/15\n",
      "1656/1656 [==============================] - 152s 92ms/sample - loss: 0.3504 - acc: 0.8696 - val_loss: 1.3099 - val_acc: 0.5494\n",
      "Model accuracy\n",
      "518/518 [==============================] - 16s 31ms/sample - loss: 0.9486 - acc: 0.5386\n"
     ]
    }
   ],
   "source": [
    "model, es = def_model3(len(breed_list))\n",
    "model.fit(train_images, train_labels, epochs=15, validation_split=0.2, callbacks = [es])\n",
    "print(\"Model accuracy\")\n",
    "test_loss, test_acc = model.evaluate(test_images, test_labels)\n",
    "predictions = model.predict(test_images)"
   ]
  },
  {
   "cell_type": "code",
   "execution_count": 22,
   "metadata": {
    "ExecuteTime": {
     "end_time": "2019-09-01T22:28:11.003797Z",
     "start_time": "2019-09-01T22:28:10.663140Z"
    }
   },
   "outputs": [
    {
     "data": {
      "image/png": "[encoded data removed]",
      "text/plain": [
       "<Figure size 432x288 with 2 Axes>"
      ]
     },
     "metadata": {
      "needs_background": "light"
     },
     "output_type": "display_data"
    }
   ],
   "source": [
    "summarize_diagnostics(history)"
   ]
  },
  {
   "cell_type": "code",
   "execution_count": 23,
   "metadata": {
    "ExecuteTime": {
     "end_time": "2019-09-01T22:28:11.031979Z",
     "start_time": "2019-09-01T22:28:11.007264Z"
    }
   },
   "outputs": [
    {
     "name": "stdout",
     "output_type": "stream",
     "text": [
      "model_type              <class 'tensorflow.python.keras.engine.sequent...\n",
      "model_parameters        Model: \"sequential_4\"\\n_______________________...\n",
      "number_dog_breeds                                                       3\n",
      "dog_breeds                     [labrador, cocker_spaniel, french_bulldog]\n",
      "training_sample_size                                                 2071\n",
      "picture_resolution                                          (400, 400, 3)\n",
      "pictures_masked                                                         y\n",
      "picture_quality                                                        30\n",
      "baseline_score                                                   0.405405\n",
      "validation_score                                                 0.551807\n",
      "train_score                                                      0.916667\n",
      "test_score                                                        0.53861\n",
      "time_taken                                                        696.485\n",
      "notes                                                         CNN model 2\n",
      "Name: 2, dtype: object\n"
     ]
    }
   ],
   "source": [
    "notes = 'CNN model 2'\n",
    "temp_model_summary = model_documentation_nn(temp_model_summary, model,\n",
    "                                            breed_list, len(train_images), \n",
    "                                            train_images[0].shape,\n",
    "                                            clean, threshold,\n",
    "                                            baseline, max_val_acc,\n",
    "                                            train_acc, test_acc,\n",
    "                                            model_time, notes)"
   ]
  },
  {
   "cell_type": "markdown",
   "metadata": {},
   "source": [
    "## Model 3 - add drop outs and early stopping"
   ]
  },
  {
   "cell_type": "code",
   "execution_count": 24,
   "metadata": {
    "ExecuteTime": {
     "end_time": "2019-09-01T22:41:31.110447Z",
     "start_time": "2019-09-01T22:28:11.036089Z"
    }
   },
   "outputs": [
    {
     "name": "stdout",
     "output_type": "stream",
     "text": [
      "Train on 1656 samples, validate on 415 samples\n",
      "Epoch 1/10\n",
      "1656/1656 [==============================] - 170s 102ms/sample - loss: 1.2685 - acc: 0.3732 - val_loss: 1.0570 - val_acc: 0.4145\n",
      "Epoch 2/10\n",
      "1656/1656 [==============================] - 155s 94ms/sample - loss: 1.0053 - acc: 0.4601 - val_loss: 1.0128 - val_acc: 0.4747\n",
      "Epoch 3/10\n",
      "1656/1656 [==============================] - 152s 92ms/sample - loss: 0.8419 - acc: 0.6105 - val_loss: 1.0110 - val_acc: 0.5084\n",
      "Epoch 4/10\n",
      "1656/1656 [==============================] - 152s 92ms/sample - loss: 0.5656 - acc: 0.7627 - val_loss: 1.1611 - val_acc: 0.5518\n",
      "Epoch 5/10\n",
      "1656/1656 [==============================] - 153s 92ms/sample - loss: 0.3362 - acc: 0.8599 - val_loss: 1.4292 - val_acc: 0.5373\n",
      "Model accuracy\n",
      "518/518 [==============================] - 16s 32ms/sample - loss: 1.0949 - acc: 0.5656\n"
     ]
    }
   ],
   "source": [
    "start_time = time.time()\n",
    "model, es = def_model3(len(breed_list))\n",
    "history = model.fit(train_images, train_labels, epochs=10, \n",
    "                    validation_split=0.2, callbacks = [es])\n",
    "print(\"Model accuracy\")\n",
    "max_val_acc = max(history.history['val_acc'])\n",
    "train_acc = history.history['acc'][-2]\n",
    "test_loss, test_acc = model.evaluate(test_images, test_labels)\n",
    "model_time = time.time() - start_time"
   ]
  },
  {
   "cell_type": "code",
   "execution_count": 25,
   "metadata": {
    "ExecuteTime": {
     "end_time": "2019-09-01T22:41:31.394443Z",
     "start_time": "2019-09-01T22:41:31.126526Z"
    }
   },
   "outputs": [
    {
     "data": {
      "image/png": "[encoded data removed]",
      "text/plain": [
       "<Figure size 432x288 with 2 Axes>"
      ]
     },
     "metadata": {
      "needs_background": "light"
     },
     "output_type": "display_data"
    }
   ],
   "source": [
    "summarize_diagnostics(history)"
   ]
  },
  {
   "cell_type": "code",
   "execution_count": 26,
   "metadata": {
    "ExecuteTime": {
     "end_time": "2019-09-01T22:41:31.422354Z",
     "start_time": "2019-09-01T22:41:31.396586Z"
    }
   },
   "outputs": [
    {
     "name": "stdout",
     "output_type": "stream",
     "text": [
      "model_type              <class 'tensorflow.python.keras.engine.sequent...\n",
      "model_parameters        Model: \"sequential_5\"\\n_______________________...\n",
      "number_dog_breeds                                                       3\n",
      "dog_breeds                     [labrador, cocker_spaniel, french_bulldog]\n",
      "training_sample_size                                                 2071\n",
      "picture_resolution                                          (400, 400, 3)\n",
      "pictures_masked                                                         y\n",
      "picture_quality                                                        30\n",
      "baseline_score                                                   0.405405\n",
      "validation_score                                                 0.551807\n",
      "train_score                                                      0.762681\n",
      "test_score                                                       0.565637\n",
      "time_taken                                                        800.054\n",
      "notes                                       CNN model 3 - added drop outs\n",
      "Name: 3, dtype: object\n"
     ]
    }
   ],
   "source": [
    "notes = 'CNN model 3 - added drop outs'\n",
    "temp_model_summary = model_documentation_nn(temp_model_summary, model,\n",
    "                                            breed_list, len(train_images), \n",
    "                                            train_images[0].shape,\n",
    "                                            clean, threshold,\n",
    "                                            baseline, max_val_acc,\n",
    "                                            train_acc, test_acc,\n",
    "                                            model_time, notes)"
   ]
  },
  {
   "cell_type": "markdown",
   "metadata": {},
   "source": [
    "## Model 4 - add two layers to model"
   ]
  },
  {
   "cell_type": "code",
   "execution_count": 27,
   "metadata": {
    "ExecuteTime": {
     "end_time": "2019-09-01T23:00:35.770225Z",
     "start_time": "2019-09-01T22:41:31.424361Z"
    }
   },
   "outputs": [
    {
     "name": "stdout",
     "output_type": "stream",
     "text": [
      "Train on 1656 samples, validate on 415 samples\n",
      "Epoch 1/10\n",
      "1656/1656 [==============================] - 170s 103ms/sample - loss: 1.0984 - acc: 0.4004 - val_loss: 1.0776 - val_acc: 0.4120\n",
      "Epoch 2/10\n",
      "1656/1656 [==============================] - 161s 97ms/sample - loss: 1.0653 - acc: 0.4094 - val_loss: 1.0506 - val_acc: 0.4410\n",
      "Epoch 3/10\n",
      "1656/1656 [==============================] - 159s 96ms/sample - loss: 0.9860 - acc: 0.4758 - val_loss: 0.9851 - val_acc: 0.5036\n",
      "Epoch 4/10\n",
      "1656/1656 [==============================] - 159s 96ms/sample - loss: 0.9061 - acc: 0.5525 - val_loss: 0.9301 - val_acc: 0.5108\n",
      "Epoch 5/10\n",
      "1656/1656 [==============================] - 159s 96ms/sample - loss: 0.8181 - acc: 0.6075 - val_loss: 0.8572 - val_acc: 0.5639\n",
      "Epoch 6/10\n",
      "1656/1656 [==============================] - 159s 96ms/sample - loss: 0.7025 - acc: 0.6806 - val_loss: 0.8648 - val_acc: 0.6265\n",
      "Epoch 7/10\n",
      "1656/1656 [==============================] - 160s 96ms/sample - loss: 0.6089 - acc: 0.7120 - val_loss: 0.9201 - val_acc: 0.6048\n",
      "Model accuracy\n",
      "518/518 [==============================] - 17s 32ms/sample - loss: 0.8591 - acc: 0.6216\n"
     ]
    }
   ],
   "source": [
    "start_time = time.time()\n",
    "model, es = def_model4(len(breed_list))\n",
    "history = model.fit(train_images, train_labels, epochs=10, \n",
    "                    validation_split=0.2, callbacks = [es])\n",
    "print(\"Model accuracy\")\n",
    "max_val_acc = max(history.history['val_acc'])\n",
    "train_acc = history.history['acc'][-2]\n",
    "test_loss, test_acc = model.evaluate(test_images, test_labels)\n",
    "model_time = time.time() - start_time"
   ]
  },
  {
   "cell_type": "code",
   "execution_count": 28,
   "metadata": {
    "ExecuteTime": {
     "end_time": "2019-09-01T23:00:36.049097Z",
     "start_time": "2019-09-01T23:00:35.775479Z"
    }
   },
   "outputs": [
    {
     "data": {
      "image/png": "[encoded data removed]",
      "text/plain": [
       "<Figure size 432x288 with 2 Axes>"
      ]
     },
     "metadata": {
      "needs_background": "light"
     },
     "output_type": "display_data"
    }
   ],
   "source": [
    "summarize_diagnostics(history)"
   ]
  },
  {
   "cell_type": "code",
   "execution_count": 29,
   "metadata": {
    "ExecuteTime": {
     "end_time": "2019-09-01T23:00:36.076350Z",
     "start_time": "2019-09-01T23:00:36.052505Z"
    }
   },
   "outputs": [
    {
     "name": "stdout",
     "output_type": "stream",
     "text": [
      "model_type              <class 'tensorflow.python.keras.engine.sequent...\n",
      "model_parameters        Model: \"sequential_6\"\\n_______________________...\n",
      "number_dog_breeds                                                       3\n",
      "dog_breeds                     [labrador, cocker_spaniel, french_bulldog]\n",
      "training_sample_size                                                 2071\n",
      "picture_resolution                                          (400, 400, 3)\n",
      "pictures_masked                                                         y\n",
      "picture_quality                                                        30\n",
      "baseline_score                                                   0.405405\n",
      "validation_score                                                 0.626506\n",
      "train_score                                                      0.680556\n",
      "test_score                                                       0.621622\n",
      "time_taken                                                        1144.33\n",
      "notes                                        CNN model 4 - 2 extra layers\n",
      "Name: 4, dtype: object\n"
     ]
    }
   ],
   "source": [
    "notes = 'CNN model 4 - 2 extra layers'\n",
    "temp_model_summary = model_documentation_nn(temp_model_summary, model,\n",
    "                                            breed_list, len(train_images), \n",
    "                                            train_images[0].shape,\n",
    "                                            clean, threshold,\n",
    "                                            baseline, max_val_acc,\n",
    "                                            train_acc, test_acc,\n",
    "                                            model_time, notes)"
   ]
  },
  {
   "cell_type": "markdown",
   "metadata": {},
   "source": [
    "## Use image augmentation on 3rd model\n",
    "First check image data generator is working"
   ]
  },
  {
   "cell_type": "code",
   "execution_count": 30,
   "metadata": {
    "ExecuteTime": {
     "end_time": "2019-09-01T23:00:41.108989Z",
     "start_time": "2019-09-01T23:00:36.078123Z"
    }
   },
   "outputs": [],
   "source": [
    "train_datagen = ImageDataGenerator(validation_split=0.2)\n",
    "train_generator = train_datagen.flow(train_images, train_labels, \n",
    "                                     subset='training', batch_size = 32)\n",
    "val_datagen = ImageDataGenerator(validation_split=0.2)\n",
    "val_generator = val_datagen.flow(train_images, train_labels, \n",
    "                                 subset='validation', batch_size = 32)"
   ]
  },
  {
   "cell_type": "code",
   "execution_count": 31,
   "metadata": {
    "ExecuteTime": {
     "end_time": "2019-09-01T23:15:33.813915Z",
     "start_time": "2019-09-01T23:00:41.113529Z"
    }
   },
   "outputs": [
    {
     "name": "stdout",
     "output_type": "stream",
     "text": [
      "Epoch 1/15\n",
      "52/52 [==============================] - 153s 3s/step - loss: 1.6072 - acc: 0.3995 - val_loss: 1.0580 - val_acc: 0.4420\n",
      "Epoch 2/15\n",
      "52/52 [==============================] - 145s 3s/step - loss: 0.9710 - acc: 0.5124 - val_loss: 0.9526 - val_acc: 0.5097\n",
      "Epoch 3/15\n",
      "52/52 [==============================] - 144s 3s/step - loss: 0.6402 - acc: 0.7363 - val_loss: 0.9607 - val_acc: 0.5483\n",
      "Epoch 4/15\n",
      "52/52 [==============================] - 144s 3s/step - loss: 0.3128 - acc: 0.8829 - val_loss: 1.1615 - val_acc: 0.5676\n",
      "Epoch 5/15\n",
      "52/52 [==============================] - 144s 3s/step - loss: 0.1154 - acc: 0.9608 - val_loss: 1.6342 - val_acc: 0.5821\n",
      "Epoch 6/15\n",
      "52/52 [==============================] - 145s 3s/step - loss: 0.0898 - acc: 0.9710 - val_loss: 1.9480 - val_acc: 0.5676\n",
      "Model accuracy\n",
      "518/518 [==============================] - 16s 32ms/sample - loss: 1.9268 - acc: 0.5405\n"
     ]
    }
   ],
   "source": [
    "start_time = time.time()\n",
    "model, es = def_model3(len(breed_list))\n",
    "history = model.fit_generator(train_generator, \n",
    "                    epochs=15, \n",
    "                    validation_data = val_generator,\n",
    "                    validation_steps =  0.2 * len(train_images) / 32,\n",
    "                    callbacks = [es])\n",
    "print(\"Model accuracy\")\n",
    "max_val_acc = max(history.history['val_acc'])\n",
    "train_acc = history.history['acc'][-2]\n",
    "test_loss, test_acc = model.evaluate(test_images, test_labels)\n",
    "model_time = time.time() - start_time"
   ]
  },
  {
   "cell_type": "code",
   "execution_count": 32,
   "metadata": {
    "ExecuteTime": {
     "end_time": "2019-09-01T23:15:34.106283Z",
     "start_time": "2019-09-01T23:15:33.824883Z"
    }
   },
   "outputs": [
    {
     "data": {
      "image/png": "[encoded data removed]",
      "text/plain": [
       "<Figure size 432x288 with 2 Axes>"
      ]
     },
     "metadata": {
      "needs_background": "light"
     },
     "output_type": "display_data"
    }
   ],
   "source": [
    "summarize_diagnostics(history)"
   ]
  },
  {
   "cell_type": "markdown",
   "metadata": {},
   "source": [
    "Introduce first transformation - horizontal flip and random rotations."
   ]
  },
  {
   "cell_type": "markdown",
   "metadata": {},
   "source": [
    "### Test image augmentation"
   ]
  },
  {
   "cell_type": "code",
   "execution_count": 33,
   "metadata": {
    "ExecuteTime": {
     "end_time": "2019-09-01T23:15:34.352423Z",
     "start_time": "2019-09-01T23:15:34.109118Z"
    }
   },
   "outputs": [
    {
     "data": {
      "text/plain": [
       "<matplotlib.image.AxesImage at 0x161364e50>"
      ]
     },
     "execution_count": 33,
     "metadata": {},
     "output_type": "execute_result"
    },
    {
     "data": {
      "image/png": "[encoded data removed]",
      "text/plain": [
       "<Figure size 432x288 with 1 Axes>"
      ]
     },
     "metadata": {
      "needs_background": "light"
     },
     "output_type": "display_data"
    }
   ],
   "source": [
    "data = np.asarray(image.imread('clean_dog_pics/00003_pomchi_34.jpg'))\n",
    "plt.imshow(data)"
   ]
  },
  {
   "cell_type": "code",
   "execution_count": 34,
   "metadata": {
    "ExecuteTime": {
     "end_time": "2019-09-01T23:15:34.363446Z",
     "start_time": "2019-09-01T23:15:34.356251Z"
    }
   },
   "outputs": [],
   "source": [
    "data = np.expand_dims(data, 0)\n",
    "test_gen = ImageDataGenerator(horizontal_flip=True)\n",
    "test_it = test_gen.flow(data, batch_size = 1)"
   ]
  },
  {
   "cell_type": "code",
   "execution_count": 35,
   "metadata": {
    "ExecuteTime": {
     "end_time": "2019-09-01T23:15:35.633112Z",
     "start_time": "2019-09-01T23:15:34.365566Z"
    }
   },
   "outputs": [
    {
     "data": {
      "image/png": "[encoded data removed]",
      "text/plain": [
       "<Figure size 432x288 with 9 Axes>"
      ]
     },
     "metadata": {
      "needs_background": "light"
     },
     "output_type": "display_data"
    }
   ],
   "source": [
    "for i in range (9):\n",
    "    plt.subplot(330+1+i)\n",
    "    batch = test_it.next()\n",
    "    pic = batch[0].astype('uint8')\n",
    "    plt.imshow(pic)\n",
    "plt.show()"
   ]
  },
  {
   "cell_type": "code",
   "execution_count": 36,
   "metadata": {
    "ExecuteTime": {
     "end_time": "2019-09-01T23:15:36.468188Z",
     "start_time": "2019-09-01T23:15:35.636096Z"
    }
   },
   "outputs": [
    {
     "data": {
      "image/png": "[encoded data removed]",
      "text/plain": [
       "<Figure size 432x288 with 9 Axes>"
      ]
     },
     "metadata": {
      "needs_background": "light"
     },
     "output_type": "display_data"
    }
   ],
   "source": [
    "test_gen2 = ImageDataGenerator(rotation_range = 90, fill_mode='constant', cval = 0)\n",
    "test_it2 = test_gen2.flow(data, batch_size = 1)\n",
    "for i in range (9):\n",
    "    plt.subplot(330+1+i)\n",
    "    batch = test_it2.next()\n",
    "    pic = batch[0].astype('uint8')\n",
    "    plt.imshow(pic)\n",
    "plt.show()"
   ]
  },
  {
   "cell_type": "code",
   "execution_count": 37,
   "metadata": {
    "ExecuteTime": {
     "end_time": "2019-09-01T23:15:59.661149Z",
     "start_time": "2019-09-01T23:15:36.470666Z"
    }
   },
   "outputs": [],
   "source": [
    "train_datagen = ImageDataGenerator(horizontal_flip=True,\n",
    "                                   rotation_range = 90,\n",
    "                                   fill_mode='constant',\n",
    "                                   cval = 0,\n",
    "                                   validation_split=0.2)\n",
    "train_generator = train_datagen.flow(train_images, train_labels, subset='training', batch_size = 32)\n",
    "val_datagen = ImageDataGenerator(validation_split=0.2)\n",
    "val_generator = val_datagen.flow(train_images, train_labels, subset='validation', batch_size = 32)"
   ]
  },
  {
   "cell_type": "code",
   "execution_count": 38,
   "metadata": {
    "ExecuteTime": {
     "end_time": "2019-09-02T00:50:18.043388Z",
     "start_time": "2019-09-01T23:15:59.668294Z"
    }
   },
   "outputs": [
    {
     "name": "stdout",
     "output_type": "stream",
     "text": [
      "Epoch 1/50\n",
      "52/52 [==============================] - 166s 3s/step - loss: 1.5287 - acc: 0.3935 - val_loss: 1.0802 - val_acc: 0.4106\n",
      "Epoch 2/50\n",
      "52/52 [==============================] - 144s 3s/step - loss: 1.0704 - acc: 0.3917 - val_loss: 1.0388 - val_acc: 0.4155\n",
      "Epoch 3/50\n",
      "52/52 [==============================] - 143s 3s/step - loss: 1.0466 - acc: 0.4218 - val_loss: 1.0270 - val_acc: 0.4058\n",
      "Epoch 4/50\n",
      "52/52 [==============================] - 144s 3s/step - loss: 1.0362 - acc: 0.4363 - val_loss: 0.9723 - val_acc: 0.4879\n",
      "Epoch 5/50\n",
      "52/52 [==============================] - 144s 3s/step - loss: 1.0186 - acc: 0.4472 - val_loss: 0.9717 - val_acc: 0.4831\n",
      "Epoch 6/50\n",
      "52/52 [==============================] - 143s 3s/step - loss: 1.0181 - acc: 0.4725 - val_loss: 0.9571 - val_acc: 0.4879\n",
      "Epoch 7/50\n",
      "52/52 [==============================] - 143s 3s/step - loss: 0.9880 - acc: 0.4906 - val_loss: 0.9634 - val_acc: 0.4879\n",
      "Epoch 8/50\n",
      "52/52 [==============================] - 144s 3s/step - loss: 0.9781 - acc: 0.4919 - val_loss: 0.9373 - val_acc: 0.5072\n",
      "Epoch 9/50\n",
      "52/52 [==============================] - 144s 3s/step - loss: 0.9721 - acc: 0.4967 - val_loss: 0.8936 - val_acc: 0.5121\n",
      "Epoch 10/50\n",
      "52/52 [==============================] - 144s 3s/step - loss: 0.9635 - acc: 0.4828 - val_loss: 0.9081 - val_acc: 0.5242\n",
      "Epoch 11/50\n",
      "52/52 [==============================] - 144s 3s/step - loss: 0.9287 - acc: 0.5190 - val_loss: 0.8671 - val_acc: 0.5290\n",
      "Epoch 12/50\n",
      "52/52 [==============================] - 144s 3s/step - loss: 0.9258 - acc: 0.5329 - val_loss: 0.8662 - val_acc: 0.5242\n",
      "Epoch 13/50\n",
      "52/52 [==============================] - 144s 3s/step - loss: 0.9416 - acc: 0.5232 - val_loss: 0.8569 - val_acc: 0.5121\n",
      "Epoch 14/50\n",
      "52/52 [==============================] - 144s 3s/step - loss: 0.9197 - acc: 0.5383 - val_loss: 0.8491 - val_acc: 0.5459\n",
      "Epoch 15/50\n",
      "52/52 [==============================] - 144s 3s/step - loss: 0.8978 - acc: 0.5510 - val_loss: 0.8701 - val_acc: 0.5362\n",
      "Epoch 16/50\n",
      "52/52 [==============================] - 144s 3s/step - loss: 0.9213 - acc: 0.5371 - val_loss: 0.8507 - val_acc: 0.5507\n",
      "Epoch 17/50\n",
      "52/52 [==============================] - 144s 3s/step - loss: 0.8990 - acc: 0.5160 - val_loss: 0.8368 - val_acc: 0.5507\n",
      "Epoch 18/50\n",
      "52/52 [==============================] - 144s 3s/step - loss: 0.8861 - acc: 0.5733 - val_loss: 0.8242 - val_acc: 0.5483\n",
      "Epoch 19/50\n",
      "52/52 [==============================] - 144s 3s/step - loss: 0.8725 - acc: 0.5745 - val_loss: 0.8395 - val_acc: 0.5531\n",
      "Epoch 20/50\n",
      "52/52 [==============================] - 144s 3s/step - loss: 0.8905 - acc: 0.5516 - val_loss: 0.8256 - val_acc: 0.5700\n",
      "Epoch 21/50\n",
      "52/52 [==============================] - 144s 3s/step - loss: 0.8587 - acc: 0.5890 - val_loss: 0.8207 - val_acc: 0.5821\n",
      "Epoch 22/50\n",
      "52/52 [==============================] - 144s 3s/step - loss: 0.8732 - acc: 0.5637 - val_loss: 0.8282 - val_acc: 0.5580\n",
      "Epoch 23/50\n",
      "52/52 [==============================] - 144s 3s/step - loss: 0.8620 - acc: 0.5673 - val_loss: 0.8193 - val_acc: 0.5870\n",
      "Epoch 24/50\n",
      "52/52 [==============================] - 144s 3s/step - loss: 0.8497 - acc: 0.5806 - val_loss: 0.8186 - val_acc: 0.5918\n",
      "Epoch 25/50\n",
      "52/52 [==============================] - 144s 3s/step - loss: 0.8603 - acc: 0.5763 - val_loss: 0.8291 - val_acc: 0.5652\n",
      "Epoch 26/50\n",
      "52/52 [==============================] - 144s 3s/step - loss: 0.8437 - acc: 0.5757 - val_loss: 0.8204 - val_acc: 0.5749\n",
      "Epoch 27/50\n",
      "52/52 [==============================] - 144s 3s/step - loss: 0.8392 - acc: 0.5969 - val_loss: 0.8140 - val_acc: 0.5700\n",
      "Epoch 28/50\n",
      "52/52 [==============================] - 144s 3s/step - loss: 0.8478 - acc: 0.5896 - val_loss: 0.8097 - val_acc: 0.5797\n",
      "Epoch 29/50\n",
      "52/52 [==============================] - 145s 3s/step - loss: 0.8303 - acc: 0.6132 - val_loss: 0.8237 - val_acc: 0.6014\n",
      "Epoch 30/50\n",
      "52/52 [==============================] - 144s 3s/step - loss: 0.8159 - acc: 0.5824 - val_loss: 0.8208 - val_acc: 0.5725\n",
      "Epoch 31/50\n",
      "52/52 [==============================] - 144s 3s/step - loss: 0.8214 - acc: 0.6053 - val_loss: 0.8371 - val_acc: 0.5725\n",
      "Epoch 32/50\n",
      "52/52 [==============================] - 144s 3s/step - loss: 0.8191 - acc: 0.6071 - val_loss: 0.8130 - val_acc: 0.5725\n",
      "Epoch 33/50\n",
      "52/52 [==============================] - 144s 3s/step - loss: 0.8141 - acc: 0.5969 - val_loss: 0.8370 - val_acc: 0.5676\n",
      "Epoch 34/50\n",
      "52/52 [==============================] - 145s 3s/step - loss: 0.8187 - acc: 0.6089 - val_loss: 0.8156 - val_acc: 0.5483\n",
      "Epoch 35/50\n",
      "52/52 [==============================] - 144s 3s/step - loss: 0.8118 - acc: 0.6174 - val_loss: 0.8200 - val_acc: 0.5894\n",
      "Epoch 36/50\n",
      "52/52 [==============================] - 144s 3s/step - loss: 0.8079 - acc: 0.6174 - val_loss: 0.8016 - val_acc: 0.5870\n",
      "Epoch 37/50\n",
      "52/52 [==============================] - 145s 3s/step - loss: 0.8135 - acc: 0.6325 - val_loss: 0.8477 - val_acc: 0.5725\n",
      "Epoch 38/50\n",
      "52/52 [==============================] - 145s 3s/step - loss: 0.8033 - acc: 0.6367 - val_loss: 0.7982 - val_acc: 0.5942\n",
      "Epoch 39/50\n",
      "52/52 [==============================] - 145s 3s/step - loss: 0.7867 - acc: 0.6385 - val_loss: 0.8155 - val_acc: 0.5773\n",
      "Model accuracy\n",
      "518/518 [==============================] - 14s 28ms/sample - loss: 0.8390 - acc: 0.5907\n"
     ]
    }
   ],
   "source": [
    "start_time = time.time()\n",
    "model, es = def_model3(len(breed_list))\n",
    "es = EarlyStopping(monitor = 'val_acc', min_delta = 0.0001, \n",
    "                   patience=10, restore_best_weights=True)\n",
    "history = model.fit_generator(train_generator, \n",
    "                    epochs=50, \n",
    "                    validation_data = val_generator,\n",
    "                    validation_steps =  0.2 * len(train_images) / 32,\n",
    "                    callbacks = [es])\n",
    "print(\"Model accuracy\")\n",
    "best_model_index = history.history['val_acc'].index(max(history.history['val_acc']))\n",
    "val_acc = history.history['val_acc'][best_model_index]\n",
    "train_acc = history.history['acc'][best_model_index]\n",
    "test_loss, test_acc = model.evaluate(test_images, test_labels)\n",
    "model_time = time.time() - start_time"
   ]
  },
  {
   "cell_type": "code",
   "execution_count": 40,
   "metadata": {
    "ExecuteTime": {
     "end_time": "2019-09-02T00:50:18.356444Z",
     "start_time": "2019-09-02T00:50:18.094314Z"
    },
    "scrolled": true
   },
   "outputs": [
    {
     "data": {
      "image/png": "[encoded data removed]",
      "text/plain": [
       "<Figure size 432x288 with 2 Axes>"
      ]
     },
     "metadata": {
      "needs_background": "light"
     },
     "output_type": "display_data"
    }
   ],
   "source": [
    "summarize_diagnostics(history)"
   ]
  },
  {
   "cell_type": "code",
   "execution_count": 41,
   "metadata": {
    "ExecuteTime": {
     "end_time": "2019-09-02T00:50:18.416864Z",
     "start_time": "2019-09-02T00:50:18.358729Z"
    }
   },
   "outputs": [
    {
     "name": "stdout",
     "output_type": "stream",
     "text": [
      "model_type              <class 'tensorflow.python.keras.engine.sequent...\n",
      "model_parameters        Model: \"sequential_8\"\\n_______________________...\n",
      "number_dog_breeds                                                       3\n",
      "dog_breeds                     [labrador, cocker_spaniel, french_bulldog]\n",
      "training_sample_size                                                 2071\n",
      "picture_resolution                                          (400, 400, 3)\n",
      "pictures_masked                                                         y\n",
      "picture_quality                                                        30\n",
      "baseline_score                                                   0.405405\n",
      "validation_score                                                 0.582126\n",
      "train_score                                                      0.613156\n",
      "test_score                                                       0.590734\n",
      "time_taken                                                        5658.36\n",
      "notes                                     CNN model 3, image augmentation\n",
      "Name: 5, dtype: object\n"
     ]
    }
   ],
   "source": [
    "notes = 'CNN model 3, image augmentation'\n",
    "temp_model_summary = model_documentation_nn(temp_model_summary, model,\n",
    "                                            breed_list, len(train_images), \n",
    "                                            train_images[0].shape,\n",
    "                                            clean, threshold,\n",
    "                                            baseline, max_val_acc,\n",
    "                                            train_acc, test_acc,\n",
    "                                            model_time, notes)"
   ]
  },
  {
   "cell_type": "markdown",
   "metadata": {},
   "source": [
    "## Use image augmentation on 4th model"
   ]
  },
  {
   "cell_type": "code",
   "execution_count": 51,
   "metadata": {
    "ExecuteTime": {
     "end_time": "2019-09-02T04:39:07.212351Z",
     "start_time": "2019-09-02T04:11:03.893745Z"
    }
   },
   "outputs": [
    {
     "name": "stdout",
     "output_type": "stream",
     "text": [
      "Epoch 1/50\n",
      "52/52 [==============================] - 152s 3s/step - loss: 22.4283 - acc: 0.3518 - val_loss: 1.1011 - val_acc: 0.4130\n",
      "Epoch 2/50\n",
      "52/52 [==============================] - 150s 3s/step - loss: 1.0894 - acc: 0.3941 - val_loss: 1.0974 - val_acc: 0.4130\n",
      "Epoch 3/50\n",
      "52/52 [==============================] - 150s 3s/step - loss: 1.0885 - acc: 0.3736 - val_loss: 1.0918 - val_acc: 0.4130\n",
      "Epoch 4/50\n",
      "52/52 [==============================] - 150s 3s/step - loss: 1.0889 - acc: 0.3959 - val_loss: 1.0899 - val_acc: 0.4130\n",
      "Epoch 5/50\n",
      "52/52 [==============================] - 150s 3s/step - loss: 1.0797 - acc: 0.3959 - val_loss: 1.0875 - val_acc: 0.4130\n",
      "Epoch 6/50\n",
      "52/52 [==============================] - 152s 3s/step - loss: 1.0848 - acc: 0.3772 - val_loss: 1.0833 - val_acc: 0.4130\n",
      "Epoch 7/50\n",
      "52/52 [==============================] - 154s 3s/step - loss: 1.0779 - acc: 0.4049 - val_loss: 1.0798 - val_acc: 0.4130\n",
      "Epoch 8/50\n",
      "52/52 [==============================] - 153s 3s/step - loss: 1.0773 - acc: 0.3935 - val_loss: 1.0759 - val_acc: 0.4130\n",
      "Epoch 9/50\n",
      "52/52 [==============================] - 152s 3s/step - loss: 1.0764 - acc: 0.4056 - val_loss: 1.0720 - val_acc: 0.4130\n",
      "Epoch 10/50\n",
      "52/52 [==============================] - 153s 3s/step - loss: 1.0770 - acc: 0.3989 - val_loss: 1.0694 - val_acc: 0.4130\n",
      "Epoch 11/50\n",
      "52/52 [==============================] - 153s 3s/step - loss: 1.0755 - acc: 0.4019 - val_loss: 1.0674 - val_acc: 0.4130\n",
      "Model accuracy\n",
      "518/518 [==============================] - 11s 22ms/sample - loss: 1.0966 - acc: 0.4054\n"
     ]
    }
   ],
   "source": [
    "start_time = time.time()\n",
    "model, es = def_model4(len(breed_list))\n",
    "es = EarlyStopping(monitor = 'val_acc', min_delta = 0.0001, \n",
    "                   patience=10, restore_best_weights=True)\n",
    "history = model.fit_generator(train_generator, \n",
    "                    epochs=50, \n",
    "                    validation_data = val_generator,\n",
    "                    validation_steps =  0.2 * len(train_images) / 32,\n",
    "                    callbacks = [es])\n",
    "print(\"Model accuracy\")\n",
    "best_model_index = history.history['val_acc'].index(max(history.history['val_acc']))\n",
    "val_acc = history.history['val_acc'][best_model_index]\n",
    "train_acc = history.history['acc'][best_model_index]\n",
    "test_loss, test_acc = model.evaluate(test_images, test_labels)\n",
    "model_time = time.time() - start_time"
   ]
  },
  {
   "cell_type": "code",
   "execution_count": 52,
   "metadata": {
    "ExecuteTime": {
     "end_time": "2019-09-02T04:39:07.502280Z",
     "start_time": "2019-09-02T04:39:07.214202Z"
    }
   },
   "outputs": [
    {
     "data": {
      "image/png": "[encoded data removed]",
      "text/plain": [
       "<Figure size 432x288 with 2 Axes>"
      ]
     },
     "metadata": {
      "needs_background": "light"
     },
     "output_type": "display_data"
    }
   ],
   "source": [
    "summarize_diagnostics(history)"
   ]
  },
  {
   "cell_type": "code",
   "execution_count": 53,
   "metadata": {
    "ExecuteTime": {
     "end_time": "2019-09-02T04:58:21.907128Z",
     "start_time": "2019-09-02T04:58:21.892822Z"
    }
   },
   "outputs": [
    {
     "name": "stdout",
     "output_type": "stream",
     "text": [
      "model_type              <class 'tensorflow.python.keras.engine.sequent...\n",
      "model_parameters        Model: \"sequential_11\"\\n______________________...\n",
      "number_dog_breeds                                                       3\n",
      "dog_breeds                     [labrador, cocker_spaniel, french_bulldog]\n",
      "training_sample_size                                                 2071\n",
      "picture_resolution                                          (400, 400, 3)\n",
      "pictures_masked                                                         y\n",
      "picture_quality                                                        30\n",
      "baseline_score                                                   0.405405\n",
      "validation_score                                                 0.582126\n",
      "train_score                                                      0.351841\n",
      "test_score                                                       0.405405\n",
      "time_taken                                                        1683.31\n",
      "notes                                     CNN model 4, image augmentation\n",
      "Name: 7, dtype: object\n"
     ]
    }
   ],
   "source": [
    "notes = 'CNN model 4, image augmentation'\n",
    "temp_model_summary = model_documentation_nn(temp_model_summary, model,\n",
    "                                            breed_list, len(train_images), \n",
    "                                            train_images[0].shape,\n",
    "                                            clean, threshold,\n",
    "                                            baseline, max_val_acc,\n",
    "                                            train_acc, test_acc,\n",
    "                                            model_time, notes)"
   ]
  },
  {
   "cell_type": "markdown",
   "metadata": {},
   "source": [
    "## Transfer training with RN50 model and data augmentation"
   ]
  },
  {
   "cell_type": "code",
   "execution_count": 42,
   "metadata": {
    "ExecuteTime": {
     "end_time": "2019-09-02T00:51:04.338317Z",
     "start_time": "2019-09-02T00:50:18.418565Z"
    }
   },
   "outputs": [],
   "source": [
    "train_images_RN50 = RN50_preprocess_input(train_images)"
   ]
  },
  {
   "cell_type": "code",
   "execution_count": 43,
   "metadata": {
    "ExecuteTime": {
     "end_time": "2019-09-02T00:51:05.679563Z",
     "start_time": "2019-09-02T00:51:04.340822Z"
    }
   },
   "outputs": [],
   "source": [
    "test_images_RN50 = RN50_preprocess_input(test_images)"
   ]
  },
  {
   "cell_type": "code",
   "execution_count": 44,
   "metadata": {
    "ExecuteTime": {
     "end_time": "2019-09-02T00:51:12.691439Z",
     "start_time": "2019-09-02T00:51:05.683668Z"
    }
   },
   "outputs": [
    {
     "name": "stderr",
     "output_type": "stream",
     "text": [
      "/anaconda3/envs/tensor_env/lib/python3.7/site-packages/keras_applications/resnet50.py:265: UserWarning: The output shape of `ResNet50(include_top=False)` has been changed since Keras 2.2.0.\n",
      "  warnings.warn('The output shape of `ResNet50(include_top=False)` '\n"
     ]
    }
   ],
   "source": [
    "base_model = ResNet50(weights='imagenet', include_top=False, input_shape=(400,400,3))\n",
    "add_model = models.Sequential()\n",
    "add_model.add(layers.Flatten(input_shape=base_model.output_shape[1:]))\n",
    "add_model.add(layers.Dense(512, activation='relu'))\n",
    "# add_model.add(Dropout(0.5))\n",
    "add_model.add(layers.Dense(len(set(train_labels)), activation='softmax'))\n",
    "model = Model(inputs = base_model.input, outputs=add_model(base_model.output))\n",
    "sgd = SGD(lr=0.001, decay = 1e-6, momentum = 0.9, nesterov=True)\n",
    "model.compile(loss='sparse_categorical_crossentropy', optimizer=sgd, metrics=['accuracy'])"
   ]
  },
  {
   "cell_type": "code",
   "execution_count": 45,
   "metadata": {
    "ExecuteTime": {
     "end_time": "2019-09-02T00:51:24.814057Z",
     "start_time": "2019-09-02T00:51:12.693269Z"
    }
   },
   "outputs": [],
   "source": [
    "train_datagen = ImageDataGenerator(horizontal_flip=True,\n",
    "                                   rotation_range = 90,\n",
    "                                   fill_mode='constant',\n",
    "                                   cval = 0,\n",
    "                                   validation_split=0.2)\n",
    "train_generator = train_datagen.flow(train_images_RN50, train_labels, subset='training', batch_size = 32)\n",
    "val_datagen = ImageDataGenerator(validation_split=0.2)\n",
    "val_generator = val_datagen.flow(train_images_RN50, train_labels, subset='validation', batch_size = 32)"
   ]
  },
  {
   "cell_type": "code",
   "execution_count": 46,
   "metadata": {
    "ExecuteTime": {
     "end_time": "2019-09-02T03:55:18.193705Z",
     "start_time": "2019-09-02T00:51:24.824984Z"
    }
   },
   "outputs": [
    {
     "name": "stdout",
     "output_type": "stream",
     "text": [
      "Epoch 1/15\n",
      "52/52 [==============================] - 1833s 35s/step - loss: 2.5699 - acc: 0.3724 - val_loss: 1.0691 - val_acc: 0.4130\n",
      "Epoch 2/15\n",
      "52/52 [==============================] - 1801s 35s/step - loss: 1.0834 - acc: 0.3959 - val_loss: 1.0925 - val_acc: 0.4130\n",
      "Epoch 3/15\n",
      "52/52 [==============================] - 1801s 35s/step - loss: 1.0778 - acc: 0.3887 - val_loss: 1.0861 - val_acc: 0.4130\n",
      "Epoch 4/15\n",
      "52/52 [==============================] - 1800s 35s/step - loss: 1.0790 - acc: 0.4104 - val_loss: 1.0788 - val_acc: 0.3816\n",
      "Epoch 5/15\n",
      "52/52 [==============================] - 1826s 35s/step - loss: 1.0822 - acc: 0.3983 - val_loss: 1.0721 - val_acc: 0.4130\n",
      "Epoch 6/15\n",
      "52/52 [==============================] - 1883s 36s/step - loss: 1.0835 - acc: 0.3959 - val_loss: 1.0834 - val_acc: 0.4130\n",
      "Model accuracy\n",
      "518/518 [==============================] - 85s 164ms/sample - loss: 1.0815 - acc: 0.4054\n"
     ]
    }
   ],
   "source": [
    "start_time = time.time()\n",
    "es = EarlyStopping(monitor = 'val_acc', min_delta = 0.0001, \n",
    "                   patience=5, restore_best_weights=True)\n",
    "history = model.fit_generator(train_generator, \n",
    "                    epochs=15, \n",
    "                    validation_data = val_generator,\n",
    "                    validation_steps =  0.2 * len(train_images) / 32,\n",
    "                    callbacks = [es])\n",
    "print(\"Model accuracy\")\n",
    "best_model_index = history.history['val_acc'].index(max(history.history['val_acc']))\n",
    "val_acc = history.history['val_acc'][best_model_index]\n",
    "train_acc = history.history['acc'][best_model_index]\n",
    "test_loss, test_acc = model.evaluate(test_images, test_labels)\n",
    "model_time = time.time() - start_time"
   ]
  },
  {
   "cell_type": "code",
   "execution_count": 47,
   "metadata": {
    "ExecuteTime": {
     "end_time": "2019-09-02T03:55:18.345621Z",
     "start_time": "2019-09-02T03:55:18.201660Z"
    }
   },
   "outputs": [
    {
     "name": "stdout",
     "output_type": "stream",
     "text": [
      "model_type              <class 'tensorflow.python.keras.engine.trainin...\n",
      "model_parameters        Model: \"model\"\\n______________________________...\n",
      "number_dog_breeds                                                       3\n",
      "dog_breeds                     [labrador, cocker_spaniel, french_bulldog]\n",
      "training_sample_size                                                 2071\n",
      "picture_resolution                                          (400, 400, 3)\n",
      "pictures_masked                                                         y\n",
      "picture_quality                                                        30\n",
      "baseline_score                                                   0.405405\n",
      "validation_score                                                 0.582126\n",
      "train_score                                                       0.37236\n",
      "test_score                                                       0.405405\n",
      "time_taken                                                        11033.3\n",
      "notes                                        RN50 Transfer training model\n",
      "Name: 6, dtype: object\n"
     ]
    }
   ],
   "source": [
    "notes = 'RN50 Transfer training model'\n",
    "temp_model_summary = model_documentation_nn(temp_model_summary, model,\n",
    "                                            breed_list, len(train_images), \n",
    "                                            train_images[0].shape,\n",
    "                                            clean, threshold,\n",
    "                                            baseline, max_val_acc,\n",
    "                                            train_acc, test_acc,\n",
    "                                            model_time, notes)"
   ]
  },
  {
   "cell_type": "code",
   "execution_count": 54,
   "metadata": {
    "ExecuteTime": {
     "end_time": "2019-09-02T04:58:27.860214Z",
     "start_time": "2019-09-02T04:58:27.839577Z"
    }
   },
   "outputs": [
    {
     "data": {
      "text/html": [
       "<div>\n",
       "<style scoped>\n",
       "    .dataframe tbody tr th:only-of-type {\n",
       "        vertical-align: middle;\n",
       "    }\n",
       "\n",
       "    .dataframe tbody tr th {\n",
       "        vertical-align: top;\n",
       "    }\n",
       "\n",
       "    .dataframe thead th {\n",
       "        text-align: right;\n",
       "    }\n",
       "</style>\n",
       "<table border=\"1\" class=\"dataframe\">\n",
       "  <thead>\n",
       "    <tr style=\"text-align: right;\">\n",
       "      <th></th>\n",
       "      <th>model_type</th>\n",
       "      <th>model_parameters</th>\n",
       "      <th>number_dog_breeds</th>\n",
       "      <th>dog_breeds</th>\n",
       "      <th>training_sample_size</th>\n",
       "      <th>picture_resolution</th>\n",
       "      <th>pictures_masked</th>\n",
       "      <th>picture_quality</th>\n",
       "      <th>baseline_score</th>\n",
       "      <th>validation_score</th>\n",
       "      <th>train_score</th>\n",
       "      <th>test_score</th>\n",
       "      <th>time_taken</th>\n",
       "      <th>notes</th>\n",
       "    </tr>\n",
       "  </thead>\n",
       "  <tbody>\n",
       "    <tr>\n",
       "      <th>0</th>\n",
       "      <td>&lt;class 'tensorflow.python.keras.engine.sequent...</td>\n",
       "      <td>Model: \"sequential\"\\n_________________________...</td>\n",
       "      <td>3</td>\n",
       "      <td>[labrador, cocker_spaniel, french_bulldog]</td>\n",
       "      <td>2071</td>\n",
       "      <td>(400, 400, 3)</td>\n",
       "      <td>y</td>\n",
       "      <td>30</td>\n",
       "      <td>0.405405</td>\n",
       "      <td>0.455422</td>\n",
       "      <td>0.927536</td>\n",
       "      <td>0.409266</td>\n",
       "      <td>297.814807</td>\n",
       "      <td>NN model 1</td>\n",
       "    </tr>\n",
       "    <tr>\n",
       "      <th>1</th>\n",
       "      <td>&lt;class 'tensorflow.python.keras.engine.sequent...</td>\n",
       "      <td>Model: \"sequential_2\"\\n_______________________...</td>\n",
       "      <td>3</td>\n",
       "      <td>[labrador, cocker_spaniel, french_bulldog]</td>\n",
       "      <td>2071</td>\n",
       "      <td>(400, 400, 3)</td>\n",
       "      <td>y</td>\n",
       "      <td>30</td>\n",
       "      <td>0.405405</td>\n",
       "      <td>0.551807</td>\n",
       "      <td>0.916667</td>\n",
       "      <td>0.544402</td>\n",
       "      <td>696.484920</td>\n",
       "      <td>CNN model 1</td>\n",
       "    </tr>\n",
       "    <tr>\n",
       "      <th>2</th>\n",
       "      <td>&lt;class 'tensorflow.python.keras.engine.sequent...</td>\n",
       "      <td>Model: \"sequential_4\"\\n_______________________...</td>\n",
       "      <td>3</td>\n",
       "      <td>[labrador, cocker_spaniel, french_bulldog]</td>\n",
       "      <td>2071</td>\n",
       "      <td>(400, 400, 3)</td>\n",
       "      <td>y</td>\n",
       "      <td>30</td>\n",
       "      <td>0.405405</td>\n",
       "      <td>0.551807</td>\n",
       "      <td>0.916667</td>\n",
       "      <td>0.538610</td>\n",
       "      <td>696.484920</td>\n",
       "      <td>CNN model 2</td>\n",
       "    </tr>\n",
       "    <tr>\n",
       "      <th>3</th>\n",
       "      <td>&lt;class 'tensorflow.python.keras.engine.sequent...</td>\n",
       "      <td>Model: \"sequential_5\"\\n_______________________...</td>\n",
       "      <td>3</td>\n",
       "      <td>[labrador, cocker_spaniel, french_bulldog]</td>\n",
       "      <td>2071</td>\n",
       "      <td>(400, 400, 3)</td>\n",
       "      <td>y</td>\n",
       "      <td>30</td>\n",
       "      <td>0.405405</td>\n",
       "      <td>0.551807</td>\n",
       "      <td>0.762681</td>\n",
       "      <td>0.565637</td>\n",
       "      <td>800.053933</td>\n",
       "      <td>CNN model 3 - added drop outs</td>\n",
       "    </tr>\n",
       "    <tr>\n",
       "      <th>4</th>\n",
       "      <td>&lt;class 'tensorflow.python.keras.engine.sequent...</td>\n",
       "      <td>Model: \"sequential_6\"\\n_______________________...</td>\n",
       "      <td>3</td>\n",
       "      <td>[labrador, cocker_spaniel, french_bulldog]</td>\n",
       "      <td>2071</td>\n",
       "      <td>(400, 400, 3)</td>\n",
       "      <td>y</td>\n",
       "      <td>30</td>\n",
       "      <td>0.405405</td>\n",
       "      <td>0.626506</td>\n",
       "      <td>0.680556</td>\n",
       "      <td>0.621622</td>\n",
       "      <td>1144.334881</td>\n",
       "      <td>CNN model 4 - 2 extra layers</td>\n",
       "    </tr>\n",
       "    <tr>\n",
       "      <th>5</th>\n",
       "      <td>&lt;class 'tensorflow.python.keras.engine.sequent...</td>\n",
       "      <td>Model: \"sequential_8\"\\n_______________________...</td>\n",
       "      <td>3</td>\n",
       "      <td>[labrador, cocker_spaniel, french_bulldog]</td>\n",
       "      <td>2071</td>\n",
       "      <td>(400, 400, 3)</td>\n",
       "      <td>y</td>\n",
       "      <td>30</td>\n",
       "      <td>0.405405</td>\n",
       "      <td>0.582126</td>\n",
       "      <td>0.613156</td>\n",
       "      <td>0.590734</td>\n",
       "      <td>5658.358610</td>\n",
       "      <td>CNN model 3, image augmentation</td>\n",
       "    </tr>\n",
       "    <tr>\n",
       "      <th>6</th>\n",
       "      <td>&lt;class 'tensorflow.python.keras.engine.trainin...</td>\n",
       "      <td>Model: \"model\"\\n______________________________...</td>\n",
       "      <td>3</td>\n",
       "      <td>[labrador, cocker_spaniel, french_bulldog]</td>\n",
       "      <td>2071</td>\n",
       "      <td>(400, 400, 3)</td>\n",
       "      <td>y</td>\n",
       "      <td>30</td>\n",
       "      <td>0.405405</td>\n",
       "      <td>0.582126</td>\n",
       "      <td>0.372360</td>\n",
       "      <td>0.405405</td>\n",
       "      <td>11033.345386</td>\n",
       "      <td>RN50 Transfer training model</td>\n",
       "    </tr>\n",
       "    <tr>\n",
       "      <th>7</th>\n",
       "      <td>&lt;class 'tensorflow.python.keras.engine.sequent...</td>\n",
       "      <td>Model: \"sequential_11\"\\n______________________...</td>\n",
       "      <td>3</td>\n",
       "      <td>[labrador, cocker_spaniel, french_bulldog]</td>\n",
       "      <td>2071</td>\n",
       "      <td>(400, 400, 3)</td>\n",
       "      <td>y</td>\n",
       "      <td>30</td>\n",
       "      <td>0.405405</td>\n",
       "      <td>0.582126</td>\n",
       "      <td>0.351841</td>\n",
       "      <td>0.405405</td>\n",
       "      <td>1683.311979</td>\n",
       "      <td>CNN model 4, image augmentation</td>\n",
       "    </tr>\n",
       "  </tbody>\n",
       "</table>\n",
       "</div>"
      ],
      "text/plain": [
       "                                          model_type  \\\n",
       "0  <class 'tensorflow.python.keras.engine.sequent...   \n",
       "1  <class 'tensorflow.python.keras.engine.sequent...   \n",
       "2  <class 'tensorflow.python.keras.engine.sequent...   \n",
       "3  <class 'tensorflow.python.keras.engine.sequent...   \n",
       "4  <class 'tensorflow.python.keras.engine.sequent...   \n",
       "5  <class 'tensorflow.python.keras.engine.sequent...   \n",
       "6  <class 'tensorflow.python.keras.engine.trainin...   \n",
       "7  <class 'tensorflow.python.keras.engine.sequent...   \n",
       "\n",
       "                                    model_parameters number_dog_breeds  \\\n",
       "0  Model: \"sequential\"\\n_________________________...                 3   \n",
       "1  Model: \"sequential_2\"\\n_______________________...                 3   \n",
       "2  Model: \"sequential_4\"\\n_______________________...                 3   \n",
       "3  Model: \"sequential_5\"\\n_______________________...                 3   \n",
       "4  Model: \"sequential_6\"\\n_______________________...                 3   \n",
       "5  Model: \"sequential_8\"\\n_______________________...                 3   \n",
       "6  Model: \"model\"\\n______________________________...                 3   \n",
       "7  Model: \"sequential_11\"\\n______________________...                 3   \n",
       "\n",
       "                                   dog_breeds training_sample_size  \\\n",
       "0  [labrador, cocker_spaniel, french_bulldog]                 2071   \n",
       "1  [labrador, cocker_spaniel, french_bulldog]                 2071   \n",
       "2  [labrador, cocker_spaniel, french_bulldog]                 2071   \n",
       "3  [labrador, cocker_spaniel, french_bulldog]                 2071   \n",
       "4  [labrador, cocker_spaniel, french_bulldog]                 2071   \n",
       "5  [labrador, cocker_spaniel, french_bulldog]                 2071   \n",
       "6  [labrador, cocker_spaniel, french_bulldog]                 2071   \n",
       "7  [labrador, cocker_spaniel, french_bulldog]                 2071   \n",
       "\n",
       "  picture_resolution pictures_masked picture_quality  baseline_score  \\\n",
       "0      (400, 400, 3)               y              30        0.405405   \n",
       "1      (400, 400, 3)               y              30        0.405405   \n",
       "2      (400, 400, 3)               y              30        0.405405   \n",
       "3      (400, 400, 3)               y              30        0.405405   \n",
       "4      (400, 400, 3)               y              30        0.405405   \n",
       "5      (400, 400, 3)               y              30        0.405405   \n",
       "6      (400, 400, 3)               y              30        0.405405   \n",
       "7      (400, 400, 3)               y              30        0.405405   \n",
       "\n",
       "   validation_score  train_score  test_score    time_taken  \\\n",
       "0          0.455422     0.927536    0.409266    297.814807   \n",
       "1          0.551807     0.916667    0.544402    696.484920   \n",
       "2          0.551807     0.916667    0.538610    696.484920   \n",
       "3          0.551807     0.762681    0.565637    800.053933   \n",
       "4          0.626506     0.680556    0.621622   1144.334881   \n",
       "5          0.582126     0.613156    0.590734   5658.358610   \n",
       "6          0.582126     0.372360    0.405405  11033.345386   \n",
       "7          0.582126     0.351841    0.405405   1683.311979   \n",
       "\n",
       "                             notes  \n",
       "0                       NN model 1  \n",
       "1                      CNN model 1  \n",
       "2                      CNN model 2  \n",
       "3    CNN model 3 - added drop outs  \n",
       "4     CNN model 4 - 2 extra layers  \n",
       "5  CNN model 3, image augmentation  \n",
       "6     RN50 Transfer training model  \n",
       "7  CNN model 4, image augmentation  "
      ]
     },
     "execution_count": 54,
     "metadata": {},
     "output_type": "execute_result"
    }
   ],
   "source": [
    "temp_model_summary"
   ]
  },
  {
   "cell_type": "code",
   "execution_count": 50,
   "metadata": {
    "ExecuteTime": {
     "end_time": "2019-09-02T04:10:55.723703Z",
     "start_time": "2019-09-02T04:10:55.717110Z"
    }
   },
   "outputs": [],
   "source": [
    "temp_model_summary.to_pickle('temp_model_summary.pkl')"
   ]
  },
  {
   "cell_type": "markdown",
   "metadata": {},
   "source": [
    "## Save results to model summary dataframe "
   ]
  },
  {
   "cell_type": "code",
   "execution_count": 55,
   "metadata": {
    "ExecuteTime": {
     "end_time": "2019-09-02T05:01:54.989436Z",
     "start_time": "2019-09-02T05:01:54.983228Z"
    }
   },
   "outputs": [],
   "source": [
    "model_summary = pd.read_pickle('model_summary.pkl')"
   ]
  },
  {
   "cell_type": "code",
   "execution_count": 56,
   "metadata": {
    "ExecuteTime": {
     "end_time": "2019-09-02T05:02:02.297896Z",
     "start_time": "2019-09-02T05:02:02.268390Z"
    }
   },
   "outputs": [
    {
     "data": {
      "text/html": [
       "<div>\n",
       "<style scoped>\n",
       "    .dataframe tbody tr th:only-of-type {\n",
       "        vertical-align: middle;\n",
       "    }\n",
       "\n",
       "    .dataframe tbody tr th {\n",
       "        vertical-align: top;\n",
       "    }\n",
       "\n",
       "    .dataframe thead th {\n",
       "        text-align: right;\n",
       "    }\n",
       "</style>\n",
       "<table border=\"1\" class=\"dataframe\">\n",
       "  <thead>\n",
       "    <tr style=\"text-align: right;\">\n",
       "      <th></th>\n",
       "      <th>model_type</th>\n",
       "      <th>model_parameters</th>\n",
       "      <th>number_dog_breeds</th>\n",
       "      <th>dog_breeds</th>\n",
       "      <th>training_sample_size</th>\n",
       "      <th>picture_resolution</th>\n",
       "      <th>pictures_masked</th>\n",
       "      <th>picture_quality</th>\n",
       "      <th>baseline_score</th>\n",
       "      <th>validation_score</th>\n",
       "      <th>train_score</th>\n",
       "      <th>test_score</th>\n",
       "      <th>time_taken</th>\n",
       "      <th>notes</th>\n",
       "    </tr>\n",
       "  </thead>\n",
       "  <tbody>\n",
       "    <tr>\n",
       "      <th>0</th>\n",
       "      <td>&lt;class 'sklearn.linear_model.logistic.Logistic...</td>\n",
       "      <td>{'C': 1.0, 'class_weight': None, 'dual': False...</td>\n",
       "      <td>3</td>\n",
       "      <td>[labrador, cocker_spaniel, french_bulldog]</td>\n",
       "      <td>2071</td>\n",
       "      <td>(400, 400, 3)</td>\n",
       "      <td>y</td>\n",
       "      <td>30</td>\n",
       "      <td>0.405405</td>\n",
       "      <td>0.472722</td>\n",
       "      <td>1.000000</td>\n",
       "      <td>0.463320</td>\n",
       "      <td>16.291416</td>\n",
       "      <td>PCA used - all components used for modelling</td>\n",
       "    </tr>\n",
       "    <tr>\n",
       "      <th>1</th>\n",
       "      <td>&lt;class 'sklearn.linear_model.logistic.Logistic...</td>\n",
       "      <td>{'Cs': [1e-10, 1e-09, 1e-08, 1e-07, 1e-06, 1e-...</td>\n",
       "      <td>3</td>\n",
       "      <td>[labrador, cocker_spaniel, french_bulldog]</td>\n",
       "      <td>2071</td>\n",
       "      <td>(400, 400, 3)</td>\n",
       "      <td>y</td>\n",
       "      <td>30</td>\n",
       "      <td>0.405405</td>\n",
       "      <td>None</td>\n",
       "      <td>0.710768</td>\n",
       "      <td>0.521236</td>\n",
       "      <td>20.899002</td>\n",
       "      <td>PCA used - all components used for modelling</td>\n",
       "    </tr>\n",
       "    <tr>\n",
       "      <th>2</th>\n",
       "      <td>&lt;class 'sklearn.ensemble.forest.RandomForestCl...</td>\n",
       "      <td>{'bootstrap': True, 'class_weight': 'balanced'...</td>\n",
       "      <td>3</td>\n",
       "      <td>[labrador, cocker_spaniel, french_bulldog]</td>\n",
       "      <td>2071</td>\n",
       "      <td>(400, 400, 3)</td>\n",
       "      <td>y</td>\n",
       "      <td>30</td>\n",
       "      <td>0.405405</td>\n",
       "      <td>0.471286</td>\n",
       "      <td>1.000000</td>\n",
       "      <td>0.480695</td>\n",
       "      <td>118.870963</td>\n",
       "      <td>PCA used - all components used for modelling</td>\n",
       "    </tr>\n",
       "    <tr>\n",
       "      <th>3</th>\n",
       "      <td>&lt;class 'sklearn.ensemble.gradient_boosting.Gra...</td>\n",
       "      <td>{'criterion': 'friedman_mse', 'init': None, 'l...</td>\n",
       "      <td>3</td>\n",
       "      <td>[labrador, cocker_spaniel, french_bulldog]</td>\n",
       "      <td>2071</td>\n",
       "      <td>(400, 400, 3)</td>\n",
       "      <td>y</td>\n",
       "      <td>30</td>\n",
       "      <td>0.405405</td>\n",
       "      <td>0.515214</td>\n",
       "      <td>0.983100</td>\n",
       "      <td>0.552124</td>\n",
       "      <td>546.449187</td>\n",
       "      <td>PCA used. No Gradient Boosting parameter tuning</td>\n",
       "    </tr>\n",
       "    <tr>\n",
       "      <th>4</th>\n",
       "      <td>&lt;class 'sklearn.model_selection._search.GridSe...</td>\n",
       "      <td>{'cv': 5, 'error_score': 'raise-deprecating', ...</td>\n",
       "      <td>3</td>\n",
       "      <td>[labrador, cocker_spaniel, french_bulldog]</td>\n",
       "      <td>2071</td>\n",
       "      <td>(400, 400, 3)</td>\n",
       "      <td>y</td>\n",
       "      <td>30</td>\n",
       "      <td>0.405405</td>\n",
       "      <td>0.496379</td>\n",
       "      <td>0.994206</td>\n",
       "      <td>0.490347</td>\n",
       "      <td>19.838007</td>\n",
       "      <td>PCA used. Gradient Boosting n_estimators tuned...</td>\n",
       "    </tr>\n",
       "  </tbody>\n",
       "</table>\n",
       "</div>"
      ],
      "text/plain": [
       "                                          model_type  \\\n",
       "0  <class 'sklearn.linear_model.logistic.Logistic...   \n",
       "1  <class 'sklearn.linear_model.logistic.Logistic...   \n",
       "2  <class 'sklearn.ensemble.forest.RandomForestCl...   \n",
       "3  <class 'sklearn.ensemble.gradient_boosting.Gra...   \n",
       "4  <class 'sklearn.model_selection._search.GridSe...   \n",
       "\n",
       "                                    model_parameters number_dog_breeds  \\\n",
       "0  {'C': 1.0, 'class_weight': None, 'dual': False...                 3   \n",
       "1  {'Cs': [1e-10, 1e-09, 1e-08, 1e-07, 1e-06, 1e-...                 3   \n",
       "2  {'bootstrap': True, 'class_weight': 'balanced'...                 3   \n",
       "3  {'criterion': 'friedman_mse', 'init': None, 'l...                 3   \n",
       "4  {'cv': 5, 'error_score': 'raise-deprecating', ...                 3   \n",
       "\n",
       "                                   dog_breeds training_sample_size  \\\n",
       "0  [labrador, cocker_spaniel, french_bulldog]                 2071   \n",
       "1  [labrador, cocker_spaniel, french_bulldog]                 2071   \n",
       "2  [labrador, cocker_spaniel, french_bulldog]                 2071   \n",
       "3  [labrador, cocker_spaniel, french_bulldog]                 2071   \n",
       "4  [labrador, cocker_spaniel, french_bulldog]                 2071   \n",
       "\n",
       "  picture_resolution pictures_masked picture_quality  baseline_score  \\\n",
       "0      (400, 400, 3)               y              30        0.405405   \n",
       "1      (400, 400, 3)               y              30        0.405405   \n",
       "2      (400, 400, 3)               y              30        0.405405   \n",
       "3      (400, 400, 3)               y              30        0.405405   \n",
       "4      (400, 400, 3)               y              30        0.405405   \n",
       "\n",
       "  validation_score  train_score  test_score  time_taken  \\\n",
       "0         0.472722     1.000000    0.463320   16.291416   \n",
       "1             None     0.710768    0.521236   20.899002   \n",
       "2         0.471286     1.000000    0.480695  118.870963   \n",
       "3         0.515214     0.983100    0.552124  546.449187   \n",
       "4         0.496379     0.994206    0.490347   19.838007   \n",
       "\n",
       "                                               notes  \n",
       "0       PCA used - all components used for modelling  \n",
       "1       PCA used - all components used for modelling  \n",
       "2       PCA used - all components used for modelling  \n",
       "3    PCA used. No Gradient Boosting parameter tuning  \n",
       "4  PCA used. Gradient Boosting n_estimators tuned...  "
      ]
     },
     "execution_count": 56,
     "metadata": {},
     "output_type": "execute_result"
    }
   ],
   "source": [
    "model_summary.head()"
   ]
  },
  {
   "cell_type": "code",
   "execution_count": 57,
   "metadata": {
    "ExecuteTime": {
     "end_time": "2019-09-02T05:02:11.388304Z",
     "start_time": "2019-09-02T05:02:11.383959Z"
    }
   },
   "outputs": [
    {
     "data": {
      "text/plain": [
       "(19, 14)"
      ]
     },
     "execution_count": 57,
     "metadata": {},
     "output_type": "execute_result"
    }
   ],
   "source": [
    "model_summary.shape"
   ]
  },
  {
   "cell_type": "code",
   "execution_count": 58,
   "metadata": {
    "ExecuteTime": {
     "end_time": "2019-09-02T05:02:29.242360Z",
     "start_time": "2019-09-02T05:02:29.218591Z"
    }
   },
   "outputs": [
    {
     "data": {
      "text/html": [
       "<div>\n",
       "<style scoped>\n",
       "    .dataframe tbody tr th:only-of-type {\n",
       "        vertical-align: middle;\n",
       "    }\n",
       "\n",
       "    .dataframe tbody tr th {\n",
       "        vertical-align: top;\n",
       "    }\n",
       "\n",
       "    .dataframe thead th {\n",
       "        text-align: right;\n",
       "    }\n",
       "</style>\n",
       "<table border=\"1\" class=\"dataframe\">\n",
       "  <thead>\n",
       "    <tr style=\"text-align: right;\">\n",
       "      <th></th>\n",
       "      <th>model_type</th>\n",
       "      <th>model_parameters</th>\n",
       "      <th>number_dog_breeds</th>\n",
       "      <th>dog_breeds</th>\n",
       "      <th>training_sample_size</th>\n",
       "      <th>picture_resolution</th>\n",
       "      <th>pictures_masked</th>\n",
       "      <th>picture_quality</th>\n",
       "      <th>baseline_score</th>\n",
       "      <th>validation_score</th>\n",
       "      <th>train_score</th>\n",
       "      <th>test_score</th>\n",
       "      <th>time_taken</th>\n",
       "      <th>notes</th>\n",
       "    </tr>\n",
       "  </thead>\n",
       "  <tbody>\n",
       "    <tr>\n",
       "      <th>22</th>\n",
       "      <td>&lt;class 'tensorflow.python.keras.engine.sequent...</td>\n",
       "      <td>Model: \"sequential_5\"\\n_______________________...</td>\n",
       "      <td>3</td>\n",
       "      <td>[labrador, cocker_spaniel, french_bulldog]</td>\n",
       "      <td>2071</td>\n",
       "      <td>(400, 400, 3)</td>\n",
       "      <td>y</td>\n",
       "      <td>30</td>\n",
       "      <td>0.405405</td>\n",
       "      <td>0.551807</td>\n",
       "      <td>0.762681</td>\n",
       "      <td>0.565637</td>\n",
       "      <td>800.053933</td>\n",
       "      <td>CNN model 3 - added drop outs</td>\n",
       "    </tr>\n",
       "    <tr>\n",
       "      <th>23</th>\n",
       "      <td>&lt;class 'tensorflow.python.keras.engine.sequent...</td>\n",
       "      <td>Model: \"sequential_6\"\\n_______________________...</td>\n",
       "      <td>3</td>\n",
       "      <td>[labrador, cocker_spaniel, french_bulldog]</td>\n",
       "      <td>2071</td>\n",
       "      <td>(400, 400, 3)</td>\n",
       "      <td>y</td>\n",
       "      <td>30</td>\n",
       "      <td>0.405405</td>\n",
       "      <td>0.626506</td>\n",
       "      <td>0.680556</td>\n",
       "      <td>0.621622</td>\n",
       "      <td>1144.334881</td>\n",
       "      <td>CNN model 4 - 2 extra layers</td>\n",
       "    </tr>\n",
       "    <tr>\n",
       "      <th>24</th>\n",
       "      <td>&lt;class 'tensorflow.python.keras.engine.sequent...</td>\n",
       "      <td>Model: \"sequential_8\"\\n_______________________...</td>\n",
       "      <td>3</td>\n",
       "      <td>[labrador, cocker_spaniel, french_bulldog]</td>\n",
       "      <td>2071</td>\n",
       "      <td>(400, 400, 3)</td>\n",
       "      <td>y</td>\n",
       "      <td>30</td>\n",
       "      <td>0.405405</td>\n",
       "      <td>0.582126</td>\n",
       "      <td>0.613156</td>\n",
       "      <td>0.590734</td>\n",
       "      <td>5658.358610</td>\n",
       "      <td>CNN model 3, image augmentation</td>\n",
       "    </tr>\n",
       "    <tr>\n",
       "      <th>25</th>\n",
       "      <td>&lt;class 'tensorflow.python.keras.engine.trainin...</td>\n",
       "      <td>Model: \"model\"\\n______________________________...</td>\n",
       "      <td>3</td>\n",
       "      <td>[labrador, cocker_spaniel, french_bulldog]</td>\n",
       "      <td>2071</td>\n",
       "      <td>(400, 400, 3)</td>\n",
       "      <td>y</td>\n",
       "      <td>30</td>\n",
       "      <td>0.405405</td>\n",
       "      <td>0.582126</td>\n",
       "      <td>0.372360</td>\n",
       "      <td>0.405405</td>\n",
       "      <td>11033.345386</td>\n",
       "      <td>RN50 Transfer training model</td>\n",
       "    </tr>\n",
       "    <tr>\n",
       "      <th>26</th>\n",
       "      <td>&lt;class 'tensorflow.python.keras.engine.sequent...</td>\n",
       "      <td>Model: \"sequential_11\"\\n______________________...</td>\n",
       "      <td>3</td>\n",
       "      <td>[labrador, cocker_spaniel, french_bulldog]</td>\n",
       "      <td>2071</td>\n",
       "      <td>(400, 400, 3)</td>\n",
       "      <td>y</td>\n",
       "      <td>30</td>\n",
       "      <td>0.405405</td>\n",
       "      <td>0.582126</td>\n",
       "      <td>0.351841</td>\n",
       "      <td>0.405405</td>\n",
       "      <td>1683.311979</td>\n",
       "      <td>CNN model 4, image augmentation</td>\n",
       "    </tr>\n",
       "  </tbody>\n",
       "</table>\n",
       "</div>"
      ],
      "text/plain": [
       "                                           model_type  \\\n",
       "22  <class 'tensorflow.python.keras.engine.sequent...   \n",
       "23  <class 'tensorflow.python.keras.engine.sequent...   \n",
       "24  <class 'tensorflow.python.keras.engine.sequent...   \n",
       "25  <class 'tensorflow.python.keras.engine.trainin...   \n",
       "26  <class 'tensorflow.python.keras.engine.sequent...   \n",
       "\n",
       "                                     model_parameters number_dog_breeds  \\\n",
       "22  Model: \"sequential_5\"\\n_______________________...                 3   \n",
       "23  Model: \"sequential_6\"\\n_______________________...                 3   \n",
       "24  Model: \"sequential_8\"\\n_______________________...                 3   \n",
       "25  Model: \"model\"\\n______________________________...                 3   \n",
       "26  Model: \"sequential_11\"\\n______________________...                 3   \n",
       "\n",
       "                                    dog_breeds training_sample_size  \\\n",
       "22  [labrador, cocker_spaniel, french_bulldog]                 2071   \n",
       "23  [labrador, cocker_spaniel, french_bulldog]                 2071   \n",
       "24  [labrador, cocker_spaniel, french_bulldog]                 2071   \n",
       "25  [labrador, cocker_spaniel, french_bulldog]                 2071   \n",
       "26  [labrador, cocker_spaniel, french_bulldog]                 2071   \n",
       "\n",
       "   picture_resolution pictures_masked picture_quality  baseline_score  \\\n",
       "22      (400, 400, 3)               y              30        0.405405   \n",
       "23      (400, 400, 3)               y              30        0.405405   \n",
       "24      (400, 400, 3)               y              30        0.405405   \n",
       "25      (400, 400, 3)               y              30        0.405405   \n",
       "26      (400, 400, 3)               y              30        0.405405   \n",
       "\n",
       "   validation_score  train_score  test_score    time_taken  \\\n",
       "22         0.551807     0.762681    0.565637    800.053933   \n",
       "23         0.626506     0.680556    0.621622   1144.334881   \n",
       "24         0.582126     0.613156    0.590734   5658.358610   \n",
       "25         0.582126     0.372360    0.405405  11033.345386   \n",
       "26         0.582126     0.351841    0.405405   1683.311979   \n",
       "\n",
       "                              notes  \n",
       "22    CNN model 3 - added drop outs  \n",
       "23     CNN model 4 - 2 extra layers  \n",
       "24  CNN model 3, image augmentation  \n",
       "25     RN50 Transfer training model  \n",
       "26  CNN model 4, image augmentation  "
      ]
     },
     "execution_count": 58,
     "metadata": {},
     "output_type": "execute_result"
    }
   ],
   "source": [
    "model_summary = model_summary.append(temp_model_summary, ignore_index=True)\n",
    "model_summary.tail()"
   ]
  },
  {
   "cell_type": "code",
   "execution_count": 59,
   "metadata": {
    "ExecuteTime": {
     "end_time": "2019-09-02T05:02:52.818243Z",
     "start_time": "2019-09-02T05:02:52.813387Z"
    }
   },
   "outputs": [],
   "source": [
    "model_summary.to_pickle('model_summary.pkl')"
   ]
  },
  {
   "cell_type": "code",
   "execution_count": null,
   "metadata": {},
   "outputs": [],
   "source": []
  }
 ],
 "metadata": {
  "kernelspec": {
   "display_name": "tensor_env",
   "language": "python",
   "name": "tensor_env"
  },
  "language_info": {
   "codemirror_mode": {
    "name": "ipython",
    "version": 3
   },
   "file_extension": ".py",
   "mimetype": "text/x-python",
   "name": "python",
   "nbconvert_exporter": "python",
   "pygments_lexer": "ipython3",
   "version": "3.7.4"
  }
 },
 "nbformat": 4,
 "nbformat_minor": 2
}
