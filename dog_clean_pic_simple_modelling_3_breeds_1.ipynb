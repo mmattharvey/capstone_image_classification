{
 "cells": [
  {
   "cell_type": "markdown",
   "metadata": {},
   "source": [
    "## Imports"
   ]
  },
  {
   "cell_type": "code",
   "execution_count": 1,
   "metadata": {
    "ExecuteTime": {
     "end_time": "2019-09-03T19:48:24.809446Z",
     "start_time": "2019-09-03T19:48:23.458714Z"
    }
   },
   "outputs": [],
   "source": [
    "#General\n",
    "import numpy as np\n",
    "import pandas as pd\n",
    "from tqdm import tqdm_notebook\n",
    "import matplotlib.pyplot as plt\n",
    "import random\n",
    "import time\n",
    "\n",
    "#Image loading and processing\n",
    "import os\n",
    "from matplotlib import image\n",
    "from skimage.transform import resize\n",
    "\n",
    "#Modelling\n",
    "from sklearn import datasets, metrics\n",
    "from sklearn.preprocessing import StandardScaler\n",
    "from sklearn.linear_model import LogisticRegression, LogisticRegressionCV\n",
    "from sklearn.tree import DecisionTreeClassifier\n",
    "from sklearn.ensemble import RandomForestClassifier, GradientBoostingClassifier\n",
    "from sklearn.naive_bayes import GaussianNB\n",
    "from sklearn.model_selection import train_test_split, cross_val_score, GridSearchCV\n",
    "from sklearn.decomposition import PCA\n",
    "from sklearn.svm import SVC"
   ]
  },
  {
   "cell_type": "markdown",
   "metadata": {},
   "source": [
    "## Define functions"
   ]
  },
  {
   "cell_type": "code",
   "execution_count": 2,
   "metadata": {
    "ExecuteTime": {
     "end_time": "2019-09-03T19:48:24.944026Z",
     "start_time": "2019-09-03T19:48:24.930401Z"
    }
   },
   "outputs": [],
   "source": [
    "def generate_image_set(breed_list, clean='y', threshold = 0):\n",
    "\n",
    "#Set up list of dog pics:\n",
    "    path = 'dog_pics/'\n",
    "    clean_path = 'clean_dog_pics/'\n",
    "    file_list = sorted(os.listdir('dog_pics/'))\n",
    "    file_list = file_list[1:]\n",
    "    clean_file_list = sorted(os.listdir('clean_dog_pics/'))\n",
    "    clean_file_list = clean_file_list[1:]\n",
    "\n",
    "#Load pictures and labels from a specified breed list\n",
    "    print('Loading pictures...')\n",
    "    \n",
    "    labels=[]\n",
    "    images=list()\n",
    "    for file in tqdm_notebook(clean_file_list):\n",
    "        dog_breed=file[6:-7]\n",
    "        pic_pc = int(file[:-4].split('_')[-1])\n",
    "        if dog_breed in breed_list:\n",
    "            if pic_pc >= threshold:\n",
    "                if clean == 'y':\n",
    "                    data = np.asarray(image.imread(clean_path+file))\n",
    "                else:\n",
    "                    load_filename = file[:-7]+'.jpg'\n",
    "                    data = np.asarray(image.imread(path+load_filename))\n",
    "                if data.shape!=(400,400,3):\n",
    "                    data = resize(data,(400,400,3), anti_aliasing=True)\n",
    "                images.append(data)\n",
    "                labels.append(dog_breed)                \n",
    "    print('Setting up numpy array')\n",
    "    images = np.array(images)\n",
    "    \n",
    "    print('Number of loaded images: ',len(images))\n",
    "    print('Number of labels: ', len(labels))\n",
    "\n",
    "#Set up label dictionaries and convert labels from text to integers for modelling\n",
    "    breed_dict = {}\n",
    "    for i in range (0, len(breed_list)):\n",
    "        breed_dict[breed_list[i]]=i\n",
    "    print(breed_dict)\n",
    "    inv_breed_dict = {}\n",
    "    for i in range (0, len(breed_list)):\n",
    "        inv_breed_dict[i]=breed_list[i]\n",
    "    print(inv_breed_dict)\n",
    "    int_labels = [breed_dict[breed] for breed in labels]\n",
    "\n",
    "\n",
    "#Set up train test split\n",
    "    print('Setting up train/test split')\n",
    "    train_images, test_images, train_labels, test_labels =\\\n",
    "    train_test_split(images, int_labels, test_size = 0.2, \n",
    "                     random_state = 1, shuffle = True, stratify = int_labels)\n",
    "    \n",
    "\n",
    "#Pre-process pictures for modelling\n",
    "    print('Pre-processing pictures')\n",
    "    train_images, test_images = train_images / 255.0, test_images / 255.0\n",
    "\n",
    "#Reminder of baseline (updated to reflect number of loaded images):\n",
    "    baseline_scores=[]\n",
    "    for label in list(set(test_labels)):\n",
    "        number_of_images = test_labels.count(label)\n",
    "        pc_of_images = number_of_images / len(test_labels)\n",
    "        print(inv_breed_dict[label],'; number of images: ',\n",
    "              number_of_images, '; % of images', pc_of_images)\n",
    "        baseline_scores.append(pc_of_images)\n",
    "    baseline = max(baseline_scores)\n",
    "    print('Baseline: ', baseline)\n",
    "    \n",
    "    return train_images, test_images, train_labels, test_labels, inv_breed_dict, baseline"
   ]
  },
  {
   "cell_type": "code",
   "execution_count": 3,
   "metadata": {
    "ExecuteTime": {
     "end_time": "2019-09-03T19:48:27.547873Z",
     "start_time": "2019-09-03T19:48:27.541314Z"
    }
   },
   "outputs": [],
   "source": [
    "def model_documentation(model_summary,\n",
    "                        model, breed_list, training_sample_size, \n",
    "                        pic_resolution, pic_masked, pic_quality,\n",
    "                        baseline_score, validation_score, \n",
    "                        train_score, test_score,\n",
    "                        time_taken, notes):\n",
    "    num_dog_breeds = len(breed_list)\n",
    "    model_summary = model_summary.append({\n",
    "        'model_type' : type(model),\n",
    "        'model_parameters' : model.get_params(),\n",
    "        'number_dog_breeds' : num_dog_breeds,\n",
    "        'dog_breeds' : breed_list,\n",
    "        'training_sample_size' : training_sample_size,\n",
    "        'picture_resolution' : pic_resolution,\n",
    "        'pictures_masked' : pic_masked,\n",
    "        'picture_quality' : pic_quality,\n",
    "        'baseline_score' : baseline_score,\n",
    "        'validation_score' : validation_score,\n",
    "        'train_score' : train_score,\n",
    "        'test_score' : test_score,\n",
    "        'time_taken' : time_taken,\n",
    "        'notes' : notes},\n",
    "        ignore_index = True)\n",
    "#Display latest entry\n",
    "    last_row = model_summary.shape[0]-1\n",
    "    print(model_summary.iloc[last_row])\n",
    "    return model_summary"
   ]
  },
  {
   "cell_type": "code",
   "execution_count": 4,
   "metadata": {
    "ExecuteTime": {
     "end_time": "2019-09-03T19:48:29.207449Z",
     "start_time": "2019-09-03T19:48:29.201444Z"
    }
   },
   "outputs": [],
   "source": [
    "def modelling_process(model, train_images, train_labels, test_images, test_labels):\n",
    "    start_time = time.time()\n",
    "    cv_score = cross_val_score(model, train_images, train_labels, cv=5)\n",
    "    print('CV score: ', cv_score)\n",
    "    mean_cv_score = cv_score.mean()\n",
    "    print('Mean cv score: ', mean_cv_score)\n",
    "    model.fit(train_images, train_labels)\n",
    "    train_score = model.score(train_images, train_labels)\n",
    "    print('Train score: ', train_score)\n",
    "    test_score = model.score(test_images, test_labels)\n",
    "    print('Test score: ', test_score)\n",
    "    model_time = time.time() - start_time\n",
    "    return model, mean_cv_score, train_score, test_score, model_time"
   ]
  },
  {
   "cell_type": "code",
   "execution_count": 5,
   "metadata": {
    "ExecuteTime": {
     "end_time": "2019-09-03T19:48:29.742819Z",
     "start_time": "2019-09-03T19:48:29.736977Z"
    }
   },
   "outputs": [],
   "source": [
    "def modelling_process_GS(model, train_images, train_labels, test_images, test_labels):\n",
    "    start_time = time.time()\n",
    "    model.fit(train_images, train_labels)\n",
    "    mean_cv_score = model.cv_results_['mean_test_score'][model.best_index_]\n",
    "    print('Mean cv score: ',mean_cv_score)\n",
    "    train_score = model.score(X_train_pca, train_labels)\n",
    "    print('Train score: ', train_score)\n",
    "    test_score = model.score(X_test_pca, test_labels)\n",
    "    print('Test score: ', test_score)\n",
    "    model_time = time.time() - start_time\n",
    "    return model, mean_cv_score, train_score, test_score, model_time"
   ]
  },
  {
   "cell_type": "markdown",
   "metadata": {},
   "source": [
    "## Set up dataset, documentation dataframe and run PCA"
   ]
  },
  {
   "cell_type": "code",
   "execution_count": 6,
   "metadata": {
    "ExecuteTime": {
     "end_time": "2019-09-03T19:48:53.262026Z",
     "start_time": "2019-09-03T19:48:37.653547Z"
    }
   },
   "outputs": [
    {
     "name": "stdout",
     "output_type": "stream",
     "text": [
      "Loading pictures...\n"
     ]
    },
    {
     "data": {
      "application/vnd.jupyter.widget-view+json": {
       "model_id": "9d8bcb8effa54783a1b6d3828e73d861",
       "version_major": 2,
       "version_minor": 0
      },
      "text/plain": [
       "HBox(children=(IntProgress(value=0, max=32459), HTML(value='')))"
      ]
     },
     "metadata": {},
     "output_type": "display_data"
    },
    {
     "name": "stdout",
     "output_type": "stream",
     "text": [
      "\n",
      "Setting up numpy array\n",
      "Number of loaded images:  2589\n",
      "Number of labels:  2589\n",
      "{'labrador': 0, 'cocker_spaniel': 1, 'french_bulldog': 2}\n",
      "{0: 'labrador', 1: 'cocker_spaniel', 2: 'french_bulldog'}\n",
      "Setting up train/test split\n",
      "Pre-processing pictures\n",
      "labrador ; number of images:  210 ; % of images 0.40540540540540543\n",
      "cocker_spaniel ; number of images:  193 ; % of images 0.37258687258687256\n",
      "french_bulldog ; number of images:  115 ; % of images 0.222007722007722\n",
      "Baseline:  0.40540540540540543\n"
     ]
    }
   ],
   "source": [
    "breed_list = ['labrador', 'cocker_spaniel', 'french_bulldog']\n",
    "threshold = 30\n",
    "clean = 'y'\n",
    "train_images, test_images, train_labels, test_labels, inv_breed_dict, baseline =\\\n",
    "generate_image_set(breed_list, clean, threshold)"
   ]
  },
  {
   "cell_type": "code",
   "execution_count": 7,
   "metadata": {
    "ExecuteTime": {
     "end_time": "2019-09-03T19:48:57.834110Z",
     "start_time": "2019-09-03T19:48:56.298777Z"
    }
   },
   "outputs": [],
   "source": [
    "#Set up temporary model summary dataframe\n",
    "master_model_summary = pd.read_pickle('model_summary.pkl')\n",
    "temp_model_summary = pd.DataFrame(columns=master_model_summary.columns)"
   ]
  },
  {
   "cell_type": "code",
   "execution_count": 8,
   "metadata": {
    "ExecuteTime": {
     "end_time": "2019-09-03T19:48:58.621902Z",
     "start_time": "2019-09-03T19:48:58.618883Z"
    }
   },
   "outputs": [],
   "source": [
    "train_shape = train_images.shape\n",
    "test_shape = test_images.shape"
   ]
  },
  {
   "cell_type": "code",
   "execution_count": 9,
   "metadata": {
    "ExecuteTime": {
     "end_time": "2019-09-03T19:49:29.548365Z",
     "start_time": "2019-09-03T19:49:05.250812Z"
    }
   },
   "outputs": [],
   "source": [
    "X_train = np.resize(train_images, (train_shape[0], train_shape[1]*train_shape[2]*train_shape[3]))\n",
    "X_test = np.resize(test_images, (test_shape[0], test_shape[1]*test_shape[2]*test_shape[3]))"
   ]
  },
  {
   "cell_type": "code",
   "execution_count": 10,
   "metadata": {
    "ExecuteTime": {
     "end_time": "2019-09-03T19:49:29.585967Z",
     "start_time": "2019-09-03T19:49:29.569528Z"
    }
   },
   "outputs": [
    {
     "name": "stdout",
     "output_type": "stream",
     "text": [
      "(2071, 400, 400, 3)\n",
      "(2071, 480000)\n"
     ]
    }
   ],
   "source": [
    "print(train_shape)\n",
    "print(X_train.shape)"
   ]
  },
  {
   "cell_type": "code",
   "execution_count": 11,
   "metadata": {
    "ExecuteTime": {
     "end_time": "2019-09-03T19:49:29.599443Z",
     "start_time": "2019-09-03T19:49:29.590976Z"
    }
   },
   "outputs": [],
   "source": [
    "pca = PCA()"
   ]
  },
  {
   "cell_type": "code",
   "execution_count": 12,
   "metadata": {
    "ExecuteTime": {
     "end_time": "2019-09-03T20:02:12.563340Z",
     "start_time": "2019-09-03T19:49:29.604639Z"
    }
   },
   "outputs": [],
   "source": [
    "X_train_pca = pca.fit_transform(X_train)\n",
    "X_test_pca = pca.transform(X_test)"
   ]
  },
  {
   "cell_type": "code",
   "execution_count": 13,
   "metadata": {
    "ExecuteTime": {
     "end_time": "2019-09-03T20:02:13.133209Z",
     "start_time": "2019-09-03T20:02:12.581693Z"
    }
   },
   "outputs": [
    {
     "data": {
      "image/png": "[encoded data removed]",
      "text/plain": [
       "<Figure size 432x288 with 1 Axes>"
      ]
     },
     "metadata": {
      "needs_background": "light"
     },
     "output_type": "display_data"
    }
   ],
   "source": [
    "plt.plot(pca.explained_variance_ratio_, lw=4, label='Explained variance ratio')\n",
    "plt.plot(np.cumsum(pca.explained_variance_ratio_), lw=4,\n",
    "         label='Cumulative explained variance ratio')\n",
    "plt.legend(loc=(1, 0.8))\n",
    "plt.show()"
   ]
  },
  {
   "cell_type": "code",
   "execution_count": 14,
   "metadata": {
    "ExecuteTime": {
     "end_time": "2019-09-03T20:02:13.139068Z",
     "start_time": "2019-09-03T20:02:13.135077Z"
    }
   },
   "outputs": [
    {
     "data": {
      "text/plain": [
       "(2071, 2071)"
      ]
     },
     "execution_count": 14,
     "metadata": {},
     "output_type": "execute_result"
    }
   ],
   "source": [
    "X_train_pca.shape"
   ]
  },
  {
   "cell_type": "markdown",
   "metadata": {},
   "source": [
    "## Logistic Regression"
   ]
  },
  {
   "cell_type": "code",
   "execution_count": 15,
   "metadata": {
    "ExecuteTime": {
     "end_time": "2019-09-03T20:04:51.785076Z",
     "start_time": "2019-09-03T20:04:51.775942Z"
    }
   },
   "outputs": [],
   "source": [
    "#Set up model\n",
    "model = LogisticRegression(solver='lbfgs', multi_class='ovr', n_jobs=-1, verbose = 1)"
   ]
  },
  {
   "cell_type": "code",
   "execution_count": 16,
   "metadata": {
    "ExecuteTime": {
     "end_time": "2019-09-03T20:05:06.633546Z",
     "start_time": "2019-09-03T20:04:52.287506Z"
    }
   },
   "outputs": [
    {
     "name": "stderr",
     "output_type": "stream",
     "text": [
      "[Parallel(n_jobs=-1)]: Using backend LokyBackend with 8 concurrent workers.\n",
      "[Parallel(n_jobs=-1)]: Done   3 out of   3 | elapsed:    2.9s finished\n",
      "[Parallel(n_jobs=-1)]: Using backend LokyBackend with 8 concurrent workers.\n",
      "[Parallel(n_jobs=-1)]: Done   3 out of   3 | elapsed:    2.2s finished\n",
      "[Parallel(n_jobs=-1)]: Using backend LokyBackend with 8 concurrent workers.\n",
      "[Parallel(n_jobs=-1)]: Done   3 out of   3 | elapsed:    1.9s finished\n",
      "[Parallel(n_jobs=-1)]: Using backend LokyBackend with 8 concurrent workers.\n",
      "[Parallel(n_jobs=-1)]: Done   3 out of   3 | elapsed:    1.9s finished\n",
      "[Parallel(n_jobs=-1)]: Using backend LokyBackend with 8 concurrent workers.\n",
      "[Parallel(n_jobs=-1)]: Done   3 out of   3 | elapsed:    2.2s finished\n",
      "[Parallel(n_jobs=-1)]: Using backend LokyBackend with 8 concurrent workers.\n"
     ]
    },
    {
     "name": "stdout",
     "output_type": "stream",
     "text": [
      "CV score:  [0.46506024 0.51449275 0.48792271 0.46135266 0.43478261]\n",
      "Mean cv score:  0.4727221931203073\n",
      "Train score:  1.0\n",
      "Test score:  0.46332046332046334\n"
     ]
    },
    {
     "name": "stderr",
     "output_type": "stream",
     "text": [
      "[Parallel(n_jobs=-1)]: Done   3 out of   3 | elapsed:    2.7s finished\n"
     ]
    }
   ],
   "source": [
    "#Cross-validate, fit, train score, test score.\n",
    "model, mean_cv_score, train_score, test_score, model_time=\\\n",
    "modelling_process(model, X_train_pca, train_labels, X_test_pca, test_labels)"
   ]
  },
  {
   "cell_type": "code",
   "execution_count": 17,
   "metadata": {
    "ExecuteTime": {
     "end_time": "2019-09-03T20:05:10.284520Z",
     "start_time": "2019-09-03T20:05:10.251815Z"
    }
   },
   "outputs": [
    {
     "name": "stdout",
     "output_type": "stream",
     "text": [
      "baseline_score                                                   0.405405\n",
      "dog_breeds                     [labrador, cocker_spaniel, french_bulldog]\n",
      "model                                                                 NaN\n",
      "model_parameters        {'C': 1.0, 'class_weight': None, 'dual': False...\n",
      "model_type              <class 'sklearn.linear_model.logistic.Logistic...\n",
      "notes                        PCA used - all components used for modelling\n",
      "number_dog_breeds                                                       3\n",
      "picture_quality                                                        30\n",
      "picture_resolution                                          (400, 400, 3)\n",
      "pictures_masked                                                         y\n",
      "test_score                                                        0.46332\n",
      "time_taken                                                         14.341\n",
      "train_score                                                             1\n",
      "training_sample_size                                                 2071\n",
      "validation_score                                                 0.472722\n",
      "Name: 0, dtype: object\n"
     ]
    }
   ],
   "source": [
    "#Documentation\n",
    "notes = 'PCA used - all components used for modelling'\n",
    "temp_model_summary = model_documentation(temp_model_summary, model, \n",
    "                                         breed_list, len(train_images), \n",
    "                                         train_images[0].shape,\n",
    "                                         clean, threshold,\n",
    "                                         baseline, mean_cv_score,\n",
    "                                         train_score, test_score, \n",
    "                                         model_time, notes)"
   ]
  },
  {
   "cell_type": "code",
   "execution_count": 18,
   "metadata": {
    "ExecuteTime": {
     "end_time": "2019-09-03T20:05:29.332205Z",
     "start_time": "2019-09-03T20:05:29.313350Z"
    }
   },
   "outputs": [
    {
     "data": {
      "text/html": [
       "<div>\n",
       "<style scoped>\n",
       "    .dataframe tbody tr th:only-of-type {\n",
       "        vertical-align: middle;\n",
       "    }\n",
       "\n",
       "    .dataframe tbody tr th {\n",
       "        vertical-align: top;\n",
       "    }\n",
       "\n",
       "    .dataframe thead th {\n",
       "        text-align: right;\n",
       "    }\n",
       "</style>\n",
       "<table border=\"1\" class=\"dataframe\">\n",
       "  <thead>\n",
       "    <tr style=\"text-align: right;\">\n",
       "      <th></th>\n",
       "      <th>baseline_score</th>\n",
       "      <th>dog_breeds</th>\n",
       "      <th>model</th>\n",
       "      <th>model_parameters</th>\n",
       "      <th>model_type</th>\n",
       "      <th>notes</th>\n",
       "      <th>number_dog_breeds</th>\n",
       "      <th>picture_quality</th>\n",
       "      <th>picture_resolution</th>\n",
       "      <th>pictures_masked</th>\n",
       "      <th>test_score</th>\n",
       "      <th>time_taken</th>\n",
       "      <th>train_score</th>\n",
       "      <th>training_sample_size</th>\n",
       "      <th>validation_score</th>\n",
       "    </tr>\n",
       "  </thead>\n",
       "  <tbody>\n",
       "    <tr>\n",
       "      <th>0</th>\n",
       "      <td>0.405405</td>\n",
       "      <td>[labrador, cocker_spaniel, french_bulldog]</td>\n",
       "      <td>NaN</td>\n",
       "      <td>{'C': 1.0, 'class_weight': None, 'dual': False...</td>\n",
       "      <td>&lt;class 'sklearn.linear_model.logistic.Logistic...</td>\n",
       "      <td>PCA used - all components used for modelling</td>\n",
       "      <td>3</td>\n",
       "      <td>30</td>\n",
       "      <td>(400, 400, 3)</td>\n",
       "      <td>y</td>\n",
       "      <td>0.46332</td>\n",
       "      <td>14.341028</td>\n",
       "      <td>1.0</td>\n",
       "      <td>2071</td>\n",
       "      <td>0.472722</td>\n",
       "    </tr>\n",
       "  </tbody>\n",
       "</table>\n",
       "</div>"
      ],
      "text/plain": [
       "   baseline_score                                  dog_breeds  model  \\\n",
       "0        0.405405  [labrador, cocker_spaniel, french_bulldog]    NaN   \n",
       "\n",
       "                                    model_parameters  \\\n",
       "0  {'C': 1.0, 'class_weight': None, 'dual': False...   \n",
       "\n",
       "                                          model_type  \\\n",
       "0  <class 'sklearn.linear_model.logistic.Logistic...   \n",
       "\n",
       "                                          notes number_dog_breeds  \\\n",
       "0  PCA used - all components used for modelling                 3   \n",
       "\n",
       "  picture_quality picture_resolution pictures_masked  test_score  time_taken  \\\n",
       "0              30      (400, 400, 3)               y     0.46332   14.341028   \n",
       "\n",
       "   train_score training_sample_size  validation_score  \n",
       "0          1.0                 2071          0.472722  "
      ]
     },
     "execution_count": 18,
     "metadata": {},
     "output_type": "execute_result"
    }
   ],
   "source": [
    "temp_model_summary"
   ]
  },
  {
   "cell_type": "markdown",
   "metadata": {},
   "source": [
    "## Logistic RegressionCV"
   ]
  },
  {
   "cell_type": "code",
   "execution_count": 19,
   "metadata": {
    "ExecuteTime": {
     "end_time": "2019-09-03T20:05:35.887338Z",
     "start_time": "2019-09-03T20:05:35.883273Z"
    }
   },
   "outputs": [],
   "source": [
    "model = LogisticRegressionCV(Cs = 10, solver='lbfgs', multi_class='ovr', cv = 5,\n",
    "                                  n_jobs=-1, verbose = 1)"
   ]
  },
  {
   "cell_type": "code",
   "execution_count": 20,
   "metadata": {
    "ExecuteTime": {
     "end_time": "2019-09-03T20:06:22.210044Z",
     "start_time": "2019-09-03T20:05:36.819632Z"
    }
   },
   "outputs": [
    {
     "name": "stderr",
     "output_type": "stream",
     "text": [
      "[Parallel(n_jobs=-1)]: Using backend LokyBackend with 8 concurrent workers.\n",
      "[Parallel(n_jobs=-1)]: Done  15 out of  15 | elapsed:   45.0s finished\n"
     ]
    },
    {
     "name": "stdout",
     "output_type": "stream",
     "text": [
      "0.7107677450507002\n",
      "0.5212355212355212\n"
     ]
    }
   ],
   "source": [
    "#Cross-validate, fit, train score, test score.\n",
    "start_time = time.time()\n",
    "mean_cv_score = None\n",
    "model.fit(X_train_pca, train_labels)\n",
    "train_score = model.score(X_train_pca, train_labels)\n",
    "print(train_score)\n",
    "test_score = model.score(X_test_pca, test_labels)\n",
    "print(test_score)\n",
    "model_time = time.time() - start_time"
   ]
  },
  {
   "cell_type": "code",
   "execution_count": 21,
   "metadata": {
    "ExecuteTime": {
     "end_time": "2019-09-03T20:06:22.216606Z",
     "start_time": "2019-09-03T20:06:22.212200Z"
    }
   },
   "outputs": [
    {
     "data": {
      "text/plain": [
       "array([1.00000000e-04, 7.74263683e-04, 5.99484250e-03, 4.64158883e-02,\n",
       "       3.59381366e-01, 2.78255940e+00, 2.15443469e+01, 1.66810054e+02,\n",
       "       1.29154967e+03, 1.00000000e+04])"
      ]
     },
     "execution_count": 21,
     "metadata": {},
     "output_type": "execute_result"
    }
   ],
   "source": [
    "model.Cs_"
   ]
  },
  {
   "cell_type": "code",
   "execution_count": 22,
   "metadata": {
    "ExecuteTime": {
     "end_time": "2019-09-03T20:06:22.223570Z",
     "start_time": "2019-09-03T20:06:22.219139Z"
    }
   },
   "outputs": [
    {
     "data": {
      "text/plain": [
       "array([0.0001, 0.0001, 0.0001])"
      ]
     },
     "execution_count": 22,
     "metadata": {},
     "output_type": "execute_result"
    }
   ],
   "source": [
    "model.C_"
   ]
  },
  {
   "cell_type": "code",
   "execution_count": 23,
   "metadata": {
    "ExecuteTime": {
     "end_time": "2019-09-03T20:06:22.230575Z",
     "start_time": "2019-09-03T20:06:22.225702Z"
    }
   },
   "outputs": [
    {
     "data": {
      "text/plain": [
       "array([1.e-10, 1.e-09, 1.e-08, 1.e-07, 1.e-06, 1.e-05, 1.e-04, 1.e-03,\n",
       "       1.e-02, 1.e-01])"
      ]
     },
     "execution_count": 23,
     "metadata": {},
     "output_type": "execute_result"
    }
   ],
   "source": [
    "#Try with different values of Cs\n",
    "C_list = np.logspace(-10,-1,10)\n",
    "C_list"
   ]
  },
  {
   "cell_type": "code",
   "execution_count": 24,
   "metadata": {
    "ExecuteTime": {
     "end_time": "2019-09-03T20:06:22.236323Z",
     "start_time": "2019-09-03T20:06:22.232666Z"
    }
   },
   "outputs": [],
   "source": [
    "model = LogisticRegressionCV(C_list, solver='lbfgs', multi_class='ovr', cv = 5,\n",
    "                                  n_jobs=-1, verbose = 1)"
   ]
  },
  {
   "cell_type": "code",
   "execution_count": 25,
   "metadata": {
    "ExecuteTime": {
     "end_time": "2019-09-03T20:06:43.473111Z",
     "start_time": "2019-09-03T20:06:22.238442Z"
    }
   },
   "outputs": [
    {
     "name": "stderr",
     "output_type": "stream",
     "text": [
      "[Parallel(n_jobs=-1)]: Using backend LokyBackend with 8 concurrent workers.\n",
      "[Parallel(n_jobs=-1)]: Done  15 out of  15 | elapsed:   20.9s finished\n"
     ]
    },
    {
     "name": "stdout",
     "output_type": "stream",
     "text": [
      "0.7107677450507002\n",
      "0.5212355212355212\n"
     ]
    }
   ],
   "source": [
    "#Cross-validate, fit, train score, test score.\n",
    "start_time = time.time()\n",
    "mean_cv_score = None\n",
    "model.fit(X_train_pca, train_labels)\n",
    "train_score = model.score(X_train_pca, train_labels)\n",
    "print(train_score)\n",
    "test_score = model.score(X_test_pca, test_labels)\n",
    "print(test_score)\n",
    "model_time = time.time() - start_time"
   ]
  },
  {
   "cell_type": "code",
   "execution_count": 26,
   "metadata": {
    "ExecuteTime": {
     "end_time": "2019-09-03T20:07:23.275853Z",
     "start_time": "2019-09-03T20:07:23.271598Z"
    }
   },
   "outputs": [
    {
     "data": {
      "text/plain": [
       "array([0.0001, 0.0001, 0.0001])"
      ]
     },
     "execution_count": 26,
     "metadata": {},
     "output_type": "execute_result"
    }
   ],
   "source": [
    "model.C_"
   ]
  },
  {
   "cell_type": "code",
   "execution_count": 27,
   "metadata": {
    "ExecuteTime": {
     "end_time": "2019-09-03T20:07:29.184726Z",
     "start_time": "2019-09-03T20:07:29.168257Z"
    }
   },
   "outputs": [
    {
     "name": "stdout",
     "output_type": "stream",
     "text": [
      "baseline_score                                                   0.405405\n",
      "dog_breeds                     [labrador, cocker_spaniel, french_bulldog]\n",
      "model                                                                 NaN\n",
      "model_parameters        {'Cs': [1e-10, 1e-09, 1e-08, 1e-07, 1e-06, 1e-...\n",
      "model_type              <class 'sklearn.linear_model.logistic.Logistic...\n",
      "notes                        PCA used - all components used for modelling\n",
      "number_dog_breeds                                                       3\n",
      "picture_quality                                                        30\n",
      "picture_resolution                                          (400, 400, 3)\n",
      "pictures_masked                                                         y\n",
      "test_score                                                       0.521236\n",
      "time_taken                                                          21.23\n",
      "train_score                                                      0.710768\n",
      "training_sample_size                                                 2071\n",
      "validation_score                                                     None\n",
      "Name: 1, dtype: object\n"
     ]
    }
   ],
   "source": [
    "#Best Cs within range of overall list of Cs => document as best example of LRCV\n",
    "#Documentation\n",
    "notes = 'PCA used - all components used for modelling'\n",
    "temp_model_summary = model_documentation(temp_model_summary, model, \n",
    "                                         breed_list, len(train_images), \n",
    "                                         train_images[0].shape,\n",
    "                                         clean, threshold,\n",
    "                                         baseline, mean_cv_score,\n",
    "                                         train_score, test_score, \n",
    "                                         model_time, notes)"
   ]
  },
  {
   "cell_type": "markdown",
   "metadata": {},
   "source": [
    "## Random Forest Classifier"
   ]
  },
  {
   "cell_type": "code",
   "execution_count": 28,
   "metadata": {
    "ExecuteTime": {
     "end_time": "2019-09-03T20:07:56.725741Z",
     "start_time": "2019-09-03T20:07:56.720649Z"
    }
   },
   "outputs": [],
   "source": [
    "#Models are likely to be weak so progress to a Random Forest Classifier \n",
    "#rather than single decision tree.\n",
    "#Use guidelines of problem with p features, use \n",
    "#sqrt(p) features in each split for a classification problem. Default setting for RFC kwa\n",
    "#max_features, also achieved through 'auto'.\n",
    "model = RandomForestClassifier(n_estimators = 2000,\n",
    "                                   max_depth = 40, n_jobs=-1, \n",
    "                                   random_state = 1, verbose = 1,\n",
    "                                   class_weight='balanced',\n",
    "                                   max_features = 'auto')"
   ]
  },
  {
   "cell_type": "code",
   "execution_count": 29,
   "metadata": {
    "ExecuteTime": {
     "end_time": "2019-09-03T20:10:10.610570Z",
     "start_time": "2019-09-03T20:07:59.273555Z"
    }
   },
   "outputs": [
    {
     "name": "stderr",
     "output_type": "stream",
     "text": [
      "[Parallel(n_jobs=-1)]: Using backend LokyBackend with 8 concurrent workers.\n",
      "[Parallel(n_jobs=-1)]: Done  52 tasks      | elapsed:    0.6s\n",
      "[Parallel(n_jobs=-1)]: Done 352 tasks      | elapsed:    3.0s\n",
      "[Parallel(n_jobs=-1)]: Done 852 tasks      | elapsed:    7.2s\n",
      "[Parallel(n_jobs=-1)]: Done 1552 tasks      | elapsed:   13.4s\n",
      "[Parallel(n_jobs=-1)]: Done 2000 out of 2000 | elapsed:   17.9s finished\n",
      "[Parallel(n_jobs=8)]: Using backend ThreadingBackend with 8 concurrent workers.\n",
      "[Parallel(n_jobs=8)]: Done  34 tasks      | elapsed:    0.0s\n",
      "[Parallel(n_jobs=8)]: Done 184 tasks      | elapsed:    0.0s\n",
      "[Parallel(n_jobs=8)]: Done 434 tasks      | elapsed:    0.1s\n",
      "[Parallel(n_jobs=8)]: Done 784 tasks      | elapsed:    0.2s\n",
      "[Parallel(n_jobs=8)]: Done 1234 tasks      | elapsed:    0.3s\n",
      "[Parallel(n_jobs=8)]: Done 1784 tasks      | elapsed:    0.4s\n",
      "[Parallel(n_jobs=8)]: Done 2000 out of 2000 | elapsed:    0.4s finished\n",
      "[Parallel(n_jobs=-1)]: Using backend LokyBackend with 8 concurrent workers.\n",
      "[Parallel(n_jobs=-1)]: Done  88 tasks      | elapsed:    1.1s\n",
      "[Parallel(n_jobs=-1)]: Done 688 tasks      | elapsed:    6.8s\n",
      "[Parallel(n_jobs=-1)]: Done 1688 tasks      | elapsed:   16.3s\n",
      "[Parallel(n_jobs=-1)]: Done 2000 out of 2000 | elapsed:   19.2s finished\n",
      "[Parallel(n_jobs=8)]: Using backend ThreadingBackend with 8 concurrent workers.\n",
      "[Parallel(n_jobs=8)]: Done  34 tasks      | elapsed:    0.0s\n",
      "[Parallel(n_jobs=8)]: Done 184 tasks      | elapsed:    0.0s\n",
      "[Parallel(n_jobs=8)]: Done 434 tasks      | elapsed:    0.1s\n",
      "[Parallel(n_jobs=8)]: Done 784 tasks      | elapsed:    0.1s\n",
      "[Parallel(n_jobs=8)]: Done 1234 tasks      | elapsed:    0.2s\n",
      "[Parallel(n_jobs=8)]: Done 1784 tasks      | elapsed:    0.3s\n",
      "[Parallel(n_jobs=8)]: Done 2000 out of 2000 | elapsed:    0.3s finished\n",
      "[Parallel(n_jobs=-1)]: Using backend LokyBackend with 8 concurrent workers.\n",
      "[Parallel(n_jobs=-1)]: Done  88 tasks      | elapsed:    1.0s\n",
      "[Parallel(n_jobs=-1)]: Done 688 tasks      | elapsed:    6.4s\n",
      "[Parallel(n_jobs=-1)]: Done 1688 tasks      | elapsed:   16.4s\n",
      "[Parallel(n_jobs=-1)]: Done 2000 out of 2000 | elapsed:   19.4s finished\n",
      "[Parallel(n_jobs=8)]: Using backend ThreadingBackend with 8 concurrent workers.\n",
      "[Parallel(n_jobs=8)]: Done  34 tasks      | elapsed:    0.0s\n",
      "[Parallel(n_jobs=8)]: Done 184 tasks      | elapsed:    0.1s\n",
      "[Parallel(n_jobs=8)]: Done 434 tasks      | elapsed:    0.1s\n",
      "[Parallel(n_jobs=8)]: Done 784 tasks      | elapsed:    0.2s\n",
      "[Parallel(n_jobs=8)]: Done 1234 tasks      | elapsed:    0.3s\n",
      "[Parallel(n_jobs=8)]: Done 1784 tasks      | elapsed:    0.4s\n",
      "[Parallel(n_jobs=8)]: Done 2000 out of 2000 | elapsed:    0.5s finished\n",
      "[Parallel(n_jobs=-1)]: Using backend LokyBackend with 8 concurrent workers.\n",
      "[Parallel(n_jobs=-1)]: Done  88 tasks      | elapsed:    1.0s\n",
      "[Parallel(n_jobs=-1)]: Done 688 tasks      | elapsed:    6.3s\n",
      "[Parallel(n_jobs=-1)]: Done 1688 tasks      | elapsed:   16.4s\n",
      "[Parallel(n_jobs=-1)]: Done 2000 out of 2000 | elapsed:   19.8s finished\n",
      "[Parallel(n_jobs=8)]: Using backend ThreadingBackend with 8 concurrent workers.\n",
      "[Parallel(n_jobs=8)]: Done  34 tasks      | elapsed:    0.0s\n",
      "[Parallel(n_jobs=8)]: Done 184 tasks      | elapsed:    0.0s\n",
      "[Parallel(n_jobs=8)]: Done 434 tasks      | elapsed:    0.1s\n",
      "[Parallel(n_jobs=8)]: Done 784 tasks      | elapsed:    0.2s\n",
      "[Parallel(n_jobs=8)]: Done 1234 tasks      | elapsed:    0.3s\n",
      "[Parallel(n_jobs=8)]: Done 1784 tasks      | elapsed:    0.5s\n",
      "[Parallel(n_jobs=8)]: Done 2000 out of 2000 | elapsed:    0.5s finished\n",
      "[Parallel(n_jobs=-1)]: Using backend LokyBackend with 8 concurrent workers.\n",
      "[Parallel(n_jobs=-1)]: Done  52 tasks      | elapsed:    0.9s\n",
      "[Parallel(n_jobs=-1)]: Done 352 tasks      | elapsed:    5.2s\n",
      "[Parallel(n_jobs=-1)]: Done 852 tasks      | elapsed:   10.8s\n",
      "[Parallel(n_jobs=-1)]: Done 1552 tasks      | elapsed:   17.3s\n",
      "[Parallel(n_jobs=-1)]: Done 2000 out of 2000 | elapsed:   21.8s finished\n",
      "[Parallel(n_jobs=8)]: Using backend ThreadingBackend with 8 concurrent workers.\n",
      "[Parallel(n_jobs=8)]: Done  34 tasks      | elapsed:    0.0s\n",
      "[Parallel(n_jobs=8)]: Done 184 tasks      | elapsed:    0.0s\n",
      "[Parallel(n_jobs=8)]: Done 434 tasks      | elapsed:    0.1s\n",
      "[Parallel(n_jobs=8)]: Done 784 tasks      | elapsed:    0.2s\n",
      "[Parallel(n_jobs=8)]: Done 1234 tasks      | elapsed:    0.2s\n",
      "[Parallel(n_jobs=8)]: Done 1784 tasks      | elapsed:    0.3s\n",
      "[Parallel(n_jobs=8)]: Done 2000 out of 2000 | elapsed:    0.3s finished\n"
     ]
    },
    {
     "name": "stdout",
     "output_type": "stream",
     "text": [
      "CV score:  [0.43855422 0.5        0.4468599  0.49033816 0.48067633]\n",
      "Mean cv score:  0.4712857226005471\n"
     ]
    },
    {
     "name": "stderr",
     "output_type": "stream",
     "text": [
      "[Parallel(n_jobs=-1)]: Using backend ThreadingBackend with 8 concurrent workers.\n",
      "[Parallel(n_jobs=-1)]: Done  34 tasks      | elapsed:    0.6s\n",
      "[Parallel(n_jobs=-1)]: Done 184 tasks      | elapsed:    2.4s\n",
      "[Parallel(n_jobs=-1)]: Done 434 tasks      | elapsed:    5.3s\n",
      "[Parallel(n_jobs=-1)]: Done 784 tasks      | elapsed:    9.7s\n",
      "[Parallel(n_jobs=-1)]: Done 1234 tasks      | elapsed:   15.1s\n",
      "[Parallel(n_jobs=-1)]: Done 1784 tasks      | elapsed:   21.8s\n",
      "[Parallel(n_jobs=-1)]: Done 2000 out of 2000 | elapsed:   24.6s finished\n",
      "[Parallel(n_jobs=8)]: Using backend ThreadingBackend with 8 concurrent workers.\n",
      "[Parallel(n_jobs=8)]: Done  34 tasks      | elapsed:    0.0s\n",
      "[Parallel(n_jobs=8)]: Done 184 tasks      | elapsed:    0.1s\n",
      "[Parallel(n_jobs=8)]: Done 434 tasks      | elapsed:    0.1s\n",
      "[Parallel(n_jobs=8)]: Done 784 tasks      | elapsed:    0.2s\n",
      "[Parallel(n_jobs=8)]: Done 1234 tasks      | elapsed:    0.3s\n",
      "[Parallel(n_jobs=8)]: Done 1784 tasks      | elapsed:    0.5s\n",
      "[Parallel(n_jobs=8)]: Done 2000 out of 2000 | elapsed:    0.5s finished\n",
      "[Parallel(n_jobs=8)]: Using backend ThreadingBackend with 8 concurrent workers.\n",
      "[Parallel(n_jobs=8)]: Done  34 tasks      | elapsed:    0.0s\n",
      "[Parallel(n_jobs=8)]: Done 184 tasks      | elapsed:    0.0s\n"
     ]
    },
    {
     "name": "stdout",
     "output_type": "stream",
     "text": [
      "Train score:  1.0\n"
     ]
    },
    {
     "name": "stderr",
     "output_type": "stream",
     "text": [
      "[Parallel(n_jobs=8)]: Done 434 tasks      | elapsed:    0.1s\n",
      "[Parallel(n_jobs=8)]: Done 784 tasks      | elapsed:    0.1s\n",
      "[Parallel(n_jobs=8)]: Done 1234 tasks      | elapsed:    0.2s\n"
     ]
    },
    {
     "name": "stdout",
     "output_type": "stream",
     "text": [
      "Test score:  0.4806949806949807\n"
     ]
    },
    {
     "name": "stderr",
     "output_type": "stream",
     "text": [
      "[Parallel(n_jobs=8)]: Done 1784 tasks      | elapsed:    0.3s\n",
      "[Parallel(n_jobs=8)]: Done 2000 out of 2000 | elapsed:    0.3s finished\n"
     ]
    }
   ],
   "source": [
    "#Cross-validate, fit, train score, test score.\n",
    "model, mean_cv_score, train_score, test_score, model_time=\\\n",
    "modelling_process(model, X_train_pca, train_labels, X_test_pca, test_labels)"
   ]
  },
  {
   "cell_type": "code",
   "execution_count": 30,
   "metadata": {
    "ExecuteTime": {
     "end_time": "2019-09-03T20:20:25.704068Z",
     "start_time": "2019-09-03T20:20:25.681083Z"
    }
   },
   "outputs": [],
   "source": [
    "#Grid search for better parameters\n",
    "GS_params = {'n_estimators': [1500, 2000, 2500],\n",
    "                'max_depth': [10, 20, 40, 60, 80]}\n",
    "model4GS = RandomForestClassifier(n_jobs = -1, verbose = 1, random_state = 1)\n",
    "model = GridSearchCV(model4GS, GS_params, cv = 5, n_jobs = -1, verbose = 1)"
   ]
  },
  {
   "cell_type": "code",
   "execution_count": 31,
   "metadata": {
    "ExecuteTime": {
     "end_time": "2019-09-03T20:42:18.955313Z",
     "start_time": "2019-09-03T20:20:33.512549Z"
    }
   },
   "outputs": [
    {
     "name": "stdout",
     "output_type": "stream",
     "text": [
      "Fitting 5 folds for each of 15 candidates, totalling 75 fits\n"
     ]
    },
    {
     "name": "stderr",
     "output_type": "stream",
     "text": [
      "[Parallel(n_jobs=-1)]: Using backend LokyBackend with 8 concurrent workers.\n",
      "[Parallel(n_jobs=-1)]: Done  34 tasks      | elapsed: 10.2min\n",
      "[Parallel(n_jobs=-1)]: Done  75 out of  75 | elapsed: 21.2min finished\n",
      "[Parallel(n_jobs=-1)]: Using backend ThreadingBackend with 8 concurrent workers.\n",
      "[Parallel(n_jobs=-1)]: Done  34 tasks      | elapsed:    0.4s\n",
      "[Parallel(n_jobs=-1)]: Done 184 tasks      | elapsed:    2.0s\n",
      "[Parallel(n_jobs=-1)]: Done 434 tasks      | elapsed:    4.4s\n",
      "[Parallel(n_jobs=-1)]: Done 784 tasks      | elapsed:    8.2s\n",
      "[Parallel(n_jobs=-1)]: Done 1234 tasks      | elapsed:   12.8s\n",
      "[Parallel(n_jobs=-1)]: Done 1784 tasks      | elapsed:   19.2s\n",
      "[Parallel(n_jobs=-1)]: Done 2434 tasks      | elapsed:   27.9s\n",
      "[Parallel(n_jobs=-1)]: Done 2500 out of 2500 | elapsed:   29.0s finished\n",
      "[Parallel(n_jobs=8)]: Using backend ThreadingBackend with 8 concurrent workers.\n",
      "[Parallel(n_jobs=8)]: Done  34 tasks      | elapsed:    0.0s\n",
      "[Parallel(n_jobs=8)]: Done 184 tasks      | elapsed:    0.1s\n",
      "[Parallel(n_jobs=8)]: Done 434 tasks      | elapsed:    0.1s\n"
     ]
    },
    {
     "name": "stdout",
     "output_type": "stream",
     "text": [
      "Mean cv score:  0.4823756639304684\n"
     ]
    },
    {
     "name": "stderr",
     "output_type": "stream",
     "text": [
      "[Parallel(n_jobs=8)]: Done 784 tasks      | elapsed:    0.2s\n",
      "[Parallel(n_jobs=8)]: Done 1234 tasks      | elapsed:    0.4s\n",
      "[Parallel(n_jobs=8)]: Done 1784 tasks      | elapsed:    0.6s\n",
      "[Parallel(n_jobs=8)]: Done 2434 tasks      | elapsed:    0.8s\n",
      "[Parallel(n_jobs=8)]: Done 2500 out of 2500 | elapsed:    0.8s finished\n",
      "[Parallel(n_jobs=8)]: Using backend ThreadingBackend with 8 concurrent workers.\n",
      "[Parallel(n_jobs=8)]: Done  34 tasks      | elapsed:    0.0s\n",
      "[Parallel(n_jobs=8)]: Done 184 tasks      | elapsed:    0.0s\n",
      "[Parallel(n_jobs=8)]: Done 434 tasks      | elapsed:    0.1s\n"
     ]
    },
    {
     "name": "stdout",
     "output_type": "stream",
     "text": [
      "Train score:  0.9995171414775471\n"
     ]
    },
    {
     "name": "stderr",
     "output_type": "stream",
     "text": [
      "[Parallel(n_jobs=8)]: Done 784 tasks      | elapsed:    0.2s\n",
      "[Parallel(n_jobs=8)]: Done 1234 tasks      | elapsed:    0.3s\n",
      "[Parallel(n_jobs=8)]: Done 1784 tasks      | elapsed:    0.4s\n"
     ]
    },
    {
     "name": "stdout",
     "output_type": "stream",
     "text": [
      "Test score:  0.47876447876447875\n"
     ]
    },
    {
     "name": "stderr",
     "output_type": "stream",
     "text": [
      "[Parallel(n_jobs=8)]: Done 2434 tasks      | elapsed:    0.5s\n",
      "[Parallel(n_jobs=8)]: Done 2500 out of 2500 | elapsed:    0.5s finished\n"
     ]
    }
   ],
   "source": [
    "#Cross-validate, fit, train score, test score.\n",
    "model, mean_cv_score, train_score, test_score, model_time=\\\n",
    "modelling_process_GS(model, X_train_pca, train_labels, X_test_pca, test_labels)"
   ]
  },
  {
   "cell_type": "code",
   "execution_count": 32,
   "metadata": {
    "ExecuteTime": {
     "end_time": "2019-09-03T20:42:40.030547Z",
     "start_time": "2019-09-03T20:42:40.025257Z"
    }
   },
   "outputs": [
    {
     "data": {
      "text/plain": [
       "{'max_depth': 20, 'n_estimators': 2500}"
      ]
     },
     "execution_count": 32,
     "metadata": {},
     "output_type": "execute_result"
    }
   ],
   "source": [
    "model.best_params_"
   ]
  },
  {
   "cell_type": "code",
   "execution_count": 33,
   "metadata": {
    "ExecuteTime": {
     "end_time": "2019-09-03T20:43:45.606406Z",
     "start_time": "2019-09-03T20:43:45.581244Z"
    }
   },
   "outputs": [],
   "source": [
    "#Use higher number of n_esimators to see if better scores can be achieved\n",
    "GS_params = {'n_estimators': [2500, 3000, 3500, 4000],\n",
    "                'max_depth': [20]}\n",
    "model4GS = RandomForestClassifier(n_jobs = -1, verbose = 1, random_state = 1)\n",
    "model = GridSearchCV(model4GS, GS_params, cv = 5, n_jobs = -1, verbose = 1)"
   ]
  },
  {
   "cell_type": "code",
   "execution_count": 34,
   "metadata": {
    "ExecuteTime": {
     "end_time": "2019-09-03T20:54:18.732566Z",
     "start_time": "2019-09-03T20:43:56.187479Z"
    }
   },
   "outputs": [
    {
     "name": "stdout",
     "output_type": "stream",
     "text": [
      "Fitting 5 folds for each of 4 candidates, totalling 20 fits\n"
     ]
    },
    {
     "name": "stderr",
     "output_type": "stream",
     "text": [
      "[Parallel(n_jobs=-1)]: Using backend LokyBackend with 8 concurrent workers.\n",
      "[Parallel(n_jobs=-1)]: Done  20 out of  20 | elapsed:  9.8min finished\n",
      "[Parallel(n_jobs=-1)]: Using backend ThreadingBackend with 8 concurrent workers.\n",
      "[Parallel(n_jobs=-1)]: Done  34 tasks      | elapsed:    0.4s\n",
      "[Parallel(n_jobs=-1)]: Done 184 tasks      | elapsed:    1.8s\n",
      "[Parallel(n_jobs=-1)]: Done 434 tasks      | elapsed:    4.1s\n",
      "[Parallel(n_jobs=-1)]: Done 784 tasks      | elapsed:    7.8s\n",
      "[Parallel(n_jobs=-1)]: Done 1234 tasks      | elapsed:   12.4s\n",
      "[Parallel(n_jobs=-1)]: Done 1784 tasks      | elapsed:   18.6s\n",
      "[Parallel(n_jobs=-1)]: Done 2434 tasks      | elapsed:   25.5s\n",
      "[Parallel(n_jobs=-1)]: Done 3000 out of 3000 | elapsed:   31.9s finished\n",
      "[Parallel(n_jobs=8)]: Using backend ThreadingBackend with 8 concurrent workers.\n",
      "[Parallel(n_jobs=8)]: Done  34 tasks      | elapsed:    0.0s\n",
      "[Parallel(n_jobs=8)]: Done 184 tasks      | elapsed:    0.0s\n"
     ]
    },
    {
     "name": "stdout",
     "output_type": "stream",
     "text": [
      "Mean cv score:  0.4857556735876388\n"
     ]
    },
    {
     "name": "stderr",
     "output_type": "stream",
     "text": [
      "[Parallel(n_jobs=8)]: Done 434 tasks      | elapsed:    0.1s\n",
      "[Parallel(n_jobs=8)]: Done 784 tasks      | elapsed:    0.2s\n",
      "[Parallel(n_jobs=8)]: Done 1234 tasks      | elapsed:    0.3s\n",
      "[Parallel(n_jobs=8)]: Done 1784 tasks      | elapsed:    0.5s\n",
      "[Parallel(n_jobs=8)]: Done 2434 tasks      | elapsed:    0.7s\n",
      "[Parallel(n_jobs=8)]: Done 3000 out of 3000 | elapsed:    0.8s finished\n",
      "[Parallel(n_jobs=8)]: Using backend ThreadingBackend with 8 concurrent workers.\n",
      "[Parallel(n_jobs=8)]: Done  34 tasks      | elapsed:    0.0s\n"
     ]
    },
    {
     "name": "stdout",
     "output_type": "stream",
     "text": [
      "Train score:  0.9995171414775471\n"
     ]
    },
    {
     "name": "stderr",
     "output_type": "stream",
     "text": [
      "[Parallel(n_jobs=8)]: Done 184 tasks      | elapsed:    0.0s\n",
      "[Parallel(n_jobs=8)]: Done 434 tasks      | elapsed:    0.1s\n",
      "[Parallel(n_jobs=8)]: Done 784 tasks      | elapsed:    0.2s\n",
      "[Parallel(n_jobs=8)]: Done 1234 tasks      | elapsed:    0.3s\n",
      "[Parallel(n_jobs=8)]: Done 1784 tasks      | elapsed:    0.4s\n"
     ]
    },
    {
     "name": "stdout",
     "output_type": "stream",
     "text": [
      "Test score:  0.4806949806949807\n"
     ]
    },
    {
     "name": "stderr",
     "output_type": "stream",
     "text": [
      "[Parallel(n_jobs=8)]: Done 2434 tasks      | elapsed:    0.5s\n",
      "[Parallel(n_jobs=8)]: Done 3000 out of 3000 | elapsed:    0.6s finished\n"
     ]
    }
   ],
   "source": [
    "#Cross-validate, fit, train score, test score.\n",
    "model, mean_cv_score, train_score, test_score, model_time=\\\n",
    "modelling_process_GS(model, X_train_pca, train_labels, X_test_pca, test_labels)"
   ]
  },
  {
   "cell_type": "code",
   "execution_count": 35,
   "metadata": {
    "ExecuteTime": {
     "end_time": "2019-09-03T20:56:12.372351Z",
     "start_time": "2019-09-03T20:56:12.368126Z"
    }
   },
   "outputs": [
    {
     "data": {
      "text/plain": [
       "{'max_depth': 20, 'n_estimators': 3000}"
      ]
     },
     "execution_count": 35,
     "metadata": {},
     "output_type": "execute_result"
    }
   ],
   "source": [
    "model.best_params_"
   ]
  },
  {
   "cell_type": "code",
   "execution_count": 36,
   "metadata": {
    "ExecuteTime": {
     "end_time": "2019-09-03T20:56:23.120370Z",
     "start_time": "2019-09-03T20:56:23.099661Z"
    }
   },
   "outputs": [
    {
     "name": "stdout",
     "output_type": "stream",
     "text": [
      "baseline_score                                                   0.405405\n",
      "dog_breeds                     [labrador, cocker_spaniel, french_bulldog]\n",
      "model                                                                 NaN\n",
      "model_parameters        {'cv': 5, 'error_score': 'raise-deprecating', ...\n",
      "model_type              <class 'sklearn.model_selection._search.GridSe...\n",
      "notes                        PCA used - all components used for modelling\n",
      "number_dog_breeds                                                       3\n",
      "picture_quality                                                        30\n",
      "picture_resolution                                          (400, 400, 3)\n",
      "pictures_masked                                                         y\n",
      "test_score                                                       0.480695\n",
      "time_taken                                                         622.54\n",
      "train_score                                                      0.999517\n",
      "training_sample_size                                                 2071\n",
      "validation_score                                                 0.485756\n",
      "Name: 2, dtype: object\n"
     ]
    }
   ],
   "source": [
    "#Best parameters are within range of parameters so conclude modelling.\n",
    "#Documentation\n",
    "notes = 'PCA used - all components used for modelling'\n",
    "temp_model_summary = model_documentation(temp_model_summary, model, \n",
    "                                         breed_list, len(train_images), \n",
    "                                         train_images[0].shape,\n",
    "                                         clean, threshold,\n",
    "                                         baseline, mean_cv_score,\n",
    "                                         train_score, test_score, \n",
    "                                         model_time, notes)"
   ]
  },
  {
   "cell_type": "markdown",
   "metadata": {},
   "source": [
    "## NaiveBayes"
   ]
  },
  {
   "cell_type": "code",
   "execution_count": 37,
   "metadata": {
    "ExecuteTime": {
     "end_time": "2019-09-03T20:56:30.716276Z",
     "start_time": "2019-09-03T20:56:30.687284Z"
    }
   },
   "outputs": [],
   "source": [
    "model = GaussianNB()"
   ]
  },
  {
   "cell_type": "code",
   "execution_count": 38,
   "metadata": {
    "ExecuteTime": {
     "end_time": "2019-09-03T20:56:32.191363Z",
     "start_time": "2019-09-03T20:56:31.422727Z"
    }
   },
   "outputs": [
    {
     "name": "stdout",
     "output_type": "stream",
     "text": [
      "CV score:  [0.34939759 0.36714976 0.35024155 0.36231884 0.39371981]\n",
      "Mean cv score:  0.36456550841045343\n",
      "Train score:  0.40077257363592467\n",
      "Test score:  0.3745173745173745\n"
     ]
    }
   ],
   "source": [
    "#Cross-validate, fit, train score, test score.\n",
    "model, mean_cv_score, train_score, test_score, model_time=\\\n",
    "modelling_process(model, X_train_pca, train_labels, X_test_pca, test_labels)"
   ]
  },
  {
   "cell_type": "code",
   "execution_count": 39,
   "metadata": {
    "ExecuteTime": {
     "end_time": "2019-09-03T20:56:34.640829Z",
     "start_time": "2019-09-03T20:56:34.620700Z"
    }
   },
   "outputs": [
    {
     "name": "stdout",
     "output_type": "stream",
     "text": [
      "baseline_score                                              0.405405\n",
      "dog_breeds                [labrador, cocker_spaniel, french_bulldog]\n",
      "model                                                            NaN\n",
      "model_parameters            {'priors': None, 'var_smoothing': 1e-09}\n",
      "model_type                  <class 'sklearn.naive_bayes.GaussianNB'>\n",
      "notes                   PCA used - all components used for modelling\n",
      "number_dog_breeds                                                  3\n",
      "picture_quality                                                   30\n",
      "picture_resolution                                     (400, 400, 3)\n",
      "pictures_masked                                                    y\n",
      "test_score                                                  0.374517\n",
      "time_taken                                                  0.764193\n",
      "train_score                                                 0.400773\n",
      "training_sample_size                                            2071\n",
      "validation_score                                            0.364566\n",
      "Name: 3, dtype: object\n"
     ]
    }
   ],
   "source": [
    "#Documentation\n",
    "notes = 'PCA used - all components used for modelling'\n",
    "temp_model_summary = model_documentation(temp_model_summary, model, \n",
    "                                         breed_list, len(train_images), \n",
    "                                         train_images[0].shape,\n",
    "                                         clean, threshold,\n",
    "                                         baseline, mean_cv_score,\n",
    "                                         train_score, test_score, \n",
    "                                         model_time, notes)"
   ]
  },
  {
   "cell_type": "markdown",
   "metadata": {},
   "source": [
    "## Gradient Boosting Classifier"
   ]
  },
  {
   "cell_type": "code",
   "execution_count": 40,
   "metadata": {
    "ExecuteTime": {
     "end_time": "2019-09-03T20:56:40.525822Z",
     "start_time": "2019-09-03T20:56:40.522744Z"
    }
   },
   "outputs": [],
   "source": [
    "#Start with basic model with no tuned parameters\n",
    "model = GradientBoostingClassifier(verbose=1, random_state = 1, max_features = 'sqrt')"
   ]
  },
  {
   "cell_type": "code",
   "execution_count": 41,
   "metadata": {
    "ExecuteTime": {
     "end_time": "2019-09-03T20:56:57.244965Z",
     "start_time": "2019-09-03T20:56:41.003025Z"
    },
    "scrolled": true
   },
   "outputs": [
    {
     "name": "stdout",
     "output_type": "stream",
     "text": [
      "      Iter       Train Loss   Remaining Time \n",
      "         1        1744.4417            2.60s\n",
      "         2        1723.8141            2.34s\n",
      "         3        1702.0101            2.28s\n",
      "         4        1683.4717            2.21s\n",
      "         5        1663.1652            2.18s\n",
      "         6        1646.2873            2.15s\n",
      "         7        1629.6208            2.12s\n",
      "         8        1612.1233            2.09s\n",
      "         9        1596.0915            2.06s\n",
      "        10        1578.9264            2.06s\n",
      "        20        1429.1024            1.81s\n",
      "        30        1310.4012            1.58s\n",
      "        40        1209.8126            1.37s\n",
      "        50        1111.3193            1.14s\n",
      "        60        1027.3293            0.91s\n",
      "        70         952.5637            0.68s\n",
      "        80         885.5163            0.45s\n",
      "        90         820.4187            0.22s\n",
      "       100         765.2531            0.00s\n",
      "      Iter       Train Loss   Remaining Time \n",
      "         1        1753.4381            2.37s\n",
      "         2        1733.9605            2.25s\n",
      "         3        1714.7970            2.20s\n",
      "         4        1697.9144            2.21s\n",
      "         5        1678.8394            2.17s\n",
      "         6        1660.9906            2.14s\n",
      "         7        1643.7812            2.10s\n",
      "         8        1626.9570            2.08s\n",
      "         9        1610.3868            2.06s\n",
      "        10        1591.8444            2.07s\n",
      "        20        1446.4494            1.82s\n",
      "        30        1327.5882            1.61s\n",
      "        40        1225.3877            1.43s\n",
      "        50        1129.7779            1.22s\n",
      "        60        1049.1352            0.99s\n",
      "        70         968.7842            0.74s\n",
      "        80         895.9631            0.49s\n",
      "        90         830.4732            0.24s\n",
      "       100         773.5482            0.00s\n",
      "      Iter       Train Loss   Remaining Time \n",
      "         1        1743.4102            2.56s\n",
      "         2        1721.0909            2.48s\n",
      "         3        1702.7089            2.44s\n",
      "         4        1684.7871            2.39s\n",
      "         5        1664.5638            2.36s\n",
      "         6        1646.9829            2.34s\n",
      "         7        1628.5666            2.29s\n",
      "         8        1611.7699            2.27s\n",
      "         9        1593.8473            2.25s\n",
      "        10        1578.1056            2.23s\n",
      "        20        1435.1334            1.94s\n",
      "        30        1313.9461            1.65s\n",
      "        40        1210.5711            1.40s\n",
      "        50        1116.4077            1.17s\n",
      "        60        1030.7468            0.94s\n",
      "        70         956.1376            0.71s\n",
      "        80         876.9911            0.48s\n",
      "        90         810.3037            0.24s\n",
      "       100         755.9761            0.00s\n",
      "      Iter       Train Loss   Remaining Time \n",
      "         1        1745.3587            2.43s\n",
      "         2        1723.0804            2.34s\n",
      "         3        1703.5332            2.41s\n",
      "         4        1686.7814            2.37s\n",
      "         5        1670.0226            2.35s\n",
      "         6        1651.9900            2.32s\n",
      "         7        1634.0809            2.29s\n",
      "         8        1617.2127            2.27s\n",
      "         9        1601.3710            2.26s\n",
      "        10        1584.2428            2.23s\n",
      "        20        1437.6862            1.98s\n",
      "        30        1314.2085            1.73s\n",
      "        40        1215.4600            1.45s\n",
      "        50        1120.5271            1.19s\n",
      "        60        1043.5346            0.95s\n",
      "        70         969.7535            0.71s\n",
      "        80         894.4832            0.48s\n",
      "        90         830.8329            0.24s\n",
      "       100         777.0799            0.00s\n",
      "      Iter       Train Loss   Remaining Time \n",
      "         1        1748.0756            3.55s\n",
      "         2        1728.1297            3.12s\n",
      "         3        1708.2673            2.95s\n",
      "         4        1690.8222            2.81s\n",
      "         5        1671.7832            2.73s\n",
      "         6        1652.3213            2.67s\n",
      "         7        1637.3985            2.59s\n",
      "         8        1620.6496            2.55s\n",
      "         9        1604.9918            2.51s\n",
      "        10        1582.4133            2.45s\n",
      "        20        1439.2432            1.99s\n",
      "        30        1314.4003            1.73s\n",
      "        40        1208.4423            1.47s\n",
      "        50        1113.0725            1.21s\n",
      "        60        1029.2456            0.95s\n",
      "        70         954.8070            0.71s\n",
      "        80         884.1106            0.47s\n",
      "        90         821.0584            0.24s\n",
      "       100         768.0811            0.00s\n",
      "CV score:  [0.48192771 0.5        0.47342995 0.47584541 0.47826087]\n",
      "Mean cv score:  0.4818927885454863\n",
      "      Iter       Train Loss   Remaining Time \n",
      "         1        2192.4476            2.56s\n",
      "         2        2165.1594            2.50s\n",
      "         3        2143.9036            2.50s\n",
      "         4        2126.1782            2.48s\n",
      "         5        2105.6601            2.46s\n",
      "         6        2087.2975            2.44s\n",
      "         7        2069.1140            2.41s\n",
      "         8        2051.1130            2.39s\n",
      "         9        2032.5637            2.38s\n",
      "        10        2014.0384            2.35s\n",
      "        20        1855.4771            2.07s\n",
      "        30        1715.1030            1.79s\n",
      "        40        1600.1462            1.54s\n",
      "        50        1495.3820            1.29s\n",
      "        60        1401.1369            1.01s\n",
      "        70        1308.1200            0.75s\n",
      "        80        1222.1279            0.50s\n",
      "        90        1146.5763            0.25s\n",
      "       100        1079.8683            0.00s\n",
      "Train score:  0.9666827619507484\n",
      "Test score:  0.48455598455598453\n"
     ]
    }
   ],
   "source": [
    "#Cross-validate, fit, train score, test score.\n",
    "model, mean_cv_score, train_score, test_score, model_time=\\\n",
    "modelling_process(model, X_train_pca, train_labels, X_test_pca, test_labels)"
   ]
  },
  {
   "cell_type": "code",
   "execution_count": 42,
   "metadata": {
    "ExecuteTime": {
     "end_time": "2019-09-03T20:57:01.143796Z",
     "start_time": "2019-09-03T20:57:01.138857Z"
    }
   },
   "outputs": [
    {
     "data": {
      "text/plain": [
       "<bound method BaseEstimator.get_params of GradientBoostingClassifier(criterion='friedman_mse', init=None,\n",
       "                           learning_rate=0.1, loss='deviance', max_depth=3,\n",
       "                           max_features='sqrt', max_leaf_nodes=None,\n",
       "                           min_impurity_decrease=0.0, min_impurity_split=None,\n",
       "                           min_samples_leaf=1, min_samples_split=2,\n",
       "                           min_weight_fraction_leaf=0.0, n_estimators=100,\n",
       "                           n_iter_no_change=None, presort='auto',\n",
       "                           random_state=1, subsample=1.0, tol=0.0001,\n",
       "                           validation_fraction=0.1, verbose=1,\n",
       "                           warm_start=False)>"
      ]
     },
     "execution_count": 42,
     "metadata": {},
     "output_type": "execute_result"
    }
   ],
   "source": [
    "model.get_params"
   ]
  },
  {
   "cell_type": "markdown",
   "metadata": {},
   "source": [
    "Tune parameters - following this guide:\n",
    "https://www.analyticsvidhya.com/blog/2016/02/complete-guide-parameter-tuning-gradient-boosting-gbm-python/\n",
    "\n",
    "- learning rate - use default of 0.1\n",
    "- number of tress - range of 40-80 suggested so gridsearch over this first.\n",
    "- min_samples_split = suggested 0.5-1% of total values, here fitting 2600 images so range is 13-26, use 20 as mid-point.\n",
    "- min_samples_leaf - use 10% of min_samples_split\n",
    "- max_depth - suggested range of 5-8. Use 5 given number of images.\n",
    "- max_features = 'sqrt'\n",
    "- subsample = 0.8"
   ]
  },
  {
   "cell_type": "code",
   "execution_count": 43,
   "metadata": {
    "ExecuteTime": {
     "end_time": "2019-09-03T20:57:43.325689Z",
     "start_time": "2019-09-03T20:57:43.318742Z"
    }
   },
   "outputs": [],
   "source": [
    "model4GS = GradientBoostingClassifier(learning_rate = 0.1, n_estimators = 50,\n",
    "                                      min_samples_split = 20, min_samples_leaf= 2,\n",
    "                                      max_features = 'sqrt', max_depth = 5, \n",
    "                                      subsample = 0.8, verbose=1, random_state = 1)\n",
    "GS_params = {'n_estimators': range(20,81,10)}\n",
    "model = GridSearchCV(model4GS, GS_params, cv = 5, n_jobs = -1, verbose = 1)"
   ]
  },
  {
   "cell_type": "code",
   "execution_count": 44,
   "metadata": {
    "ExecuteTime": {
     "end_time": "2019-09-03T20:58:03.684597Z",
     "start_time": "2019-09-03T20:57:44.357661Z"
    }
   },
   "outputs": [
    {
     "name": "stdout",
     "output_type": "stream",
     "text": [
      "Fitting 5 folds for each of 7 candidates, totalling 35 fits\n"
     ]
    },
    {
     "name": "stderr",
     "output_type": "stream",
     "text": [
      "[Parallel(n_jobs=-1)]: Using backend LokyBackend with 8 concurrent workers.\n",
      "[Parallel(n_jobs=-1)]: Done  35 out of  35 | elapsed:   16.3s finished\n"
     ]
    },
    {
     "name": "stdout",
     "output_type": "stream",
     "text": [
      "      Iter       Train Loss      OOB Improve   Remaining Time \n",
      "         1        1720.4158           4.0261            2.86s\n",
      "         2        1677.3143           1.8971            2.67s\n",
      "         3        1648.2679           0.5843            2.62s\n",
      "         4        1612.2026           1.4859            2.57s\n",
      "         5        1584.9284           1.5658            2.51s\n",
      "         6        1562.0634           1.2055            2.48s\n",
      "         7        1521.5848           0.0139            2.42s\n",
      "         8        1491.6302           1.5913            2.38s\n",
      "         9        1463.2298          -0.0581            2.33s\n",
      "        10        1433.3963           1.0026            2.30s\n",
      "        20        1182.2741           0.3189            1.90s\n",
      "        30        1011.1351           0.3123            1.51s\n",
      "        40         851.5838           0.9035            1.13s\n",
      "        50         738.2835           0.0584            0.75s\n",
      "        60         636.9716          -0.2341            0.37s\n",
      "        70         545.6427          -0.1647            0.00s\n",
      "Mean cv score:  0.4963785610816031\n",
      "Train score:  0.994205697730565\n",
      "Test score:  0.49034749034749037\n"
     ]
    }
   ],
   "source": [
    "#Cross-validate, fit, train score, test score.\n",
    "model, mean_cv_score, train_score, test_score, model_time=\\\n",
    "modelling_process_GS(model, X_train_pca, train_labels, X_test_pca, test_labels)"
   ]
  },
  {
   "cell_type": "code",
   "execution_count": 45,
   "metadata": {
    "ExecuteTime": {
     "end_time": "2019-09-03T20:58:03.691505Z",
     "start_time": "2019-09-03T20:58:03.686705Z"
    }
   },
   "outputs": [
    {
     "data": {
      "text/plain": [
       "{'n_estimators': 70}"
      ]
     },
     "execution_count": 45,
     "metadata": {},
     "output_type": "execute_result"
    }
   ],
   "source": [
    "model.best_params_"
   ]
  },
  {
   "cell_type": "markdown",
   "metadata": {},
   "source": [
    "Best value for n_estimators = 70\n",
    "\n",
    "Now look at tree-specific parameters, particularly:\n",
    "- max_depth = 3 to 7\n",
    "- min_samples_split = 8 to 40"
   ]
  },
  {
   "cell_type": "code",
   "execution_count": 46,
   "metadata": {
    "ExecuteTime": {
     "end_time": "2019-09-03T20:58:45.632220Z",
     "start_time": "2019-09-03T20:58:45.626978Z"
    }
   },
   "outputs": [],
   "source": [
    "model4GS = GradientBoostingClassifier(learning_rate = 0.1, n_estimators = 70,\n",
    "                                      min_samples_split = 20, min_samples_leaf= 2,\n",
    "                                      max_features = 'sqrt', max_depth = 5, \n",
    "                                      subsample = 0.8, verbose=1, random_state = 1)\n",
    "GS_params = {'max_depth': range(3,8,1),\n",
    "            'min_samples_split': range(8, 41, 8)}\n",
    "model = GridSearchCV(model4GS, GS_params, cv = 5, n_jobs = -1, verbose = 1)"
   ]
  },
  {
   "cell_type": "code",
   "execution_count": 47,
   "metadata": {
    "ExecuteTime": {
     "end_time": "2019-09-03T21:00:26.392458Z",
     "start_time": "2019-09-03T20:58:49.089526Z"
    }
   },
   "outputs": [
    {
     "name": "stdout",
     "output_type": "stream",
     "text": [
      "Fitting 5 folds for each of 25 candidates, totalling 125 fits\n"
     ]
    },
    {
     "name": "stderr",
     "output_type": "stream",
     "text": [
      "[Parallel(n_jobs=-1)]: Using backend LokyBackend with 8 concurrent workers.\n",
      "[Parallel(n_jobs=-1)]: Done  34 tasks      | elapsed:   18.0s\n",
      "[Parallel(n_jobs=-1)]: Done 125 out of 125 | elapsed:  1.5min finished\n"
     ]
    },
    {
     "name": "stdout",
     "output_type": "stream",
     "text": [
      "      Iter       Train Loss      OOB Improve   Remaining Time \n",
      "         1        1714.2778           2.8175            4.38s\n",
      "         2        1654.7279           1.3431            4.51s\n",
      "         3        1620.7362           0.9994            4.43s\n",
      "         4        1577.1658           1.4425            4.23s\n",
      "         5        1538.2588           2.3715            4.12s\n",
      "         6        1508.5378           1.4506            4.05s\n",
      "         7        1470.3898           0.0020            3.94s\n",
      "         8        1438.2598           1.0849            3.88s\n",
      "         9        1410.4157           0.5854            3.79s\n",
      "        10        1384.5110           1.5211            3.71s\n",
      "        20        1102.5970           0.7198            3.06s\n",
      "        30         899.6630          -1.3439            2.41s\n",
      "        40         725.0159           0.1895            1.78s\n",
      "        50         604.1470           0.1791            1.16s\n",
      "        60         501.1581          -0.6399            0.56s\n",
      "        70         416.2971           0.3774            0.00s\n",
      "Mean cv score:  0.5007242877836794\n",
      "Train score:  0.9995171414775471\n",
      "Test score:  0.4864864864864865\n"
     ]
    }
   ],
   "source": [
    "#Cross-validate, fit, train score, test score.\n",
    "model, mean_cv_score, train_score, test_score, model_time=\\\n",
    "modelling_process_GS(model, X_train_pca, train_labels, X_test_pca, test_labels)"
   ]
  },
  {
   "cell_type": "code",
   "execution_count": 48,
   "metadata": {
    "ExecuteTime": {
     "end_time": "2019-09-03T21:00:38.010205Z",
     "start_time": "2019-09-03T21:00:38.005969Z"
    }
   },
   "outputs": [
    {
     "data": {
      "text/plain": [
       "({'max_depth': 6, 'min_samples_split': 40},)"
      ]
     },
     "execution_count": 48,
     "metadata": {},
     "output_type": "execute_result"
    }
   ],
   "source": [
    "model.best_params_,"
   ]
  },
  {
   "cell_type": "code",
   "execution_count": 49,
   "metadata": {
    "ExecuteTime": {
     "end_time": "2019-09-03T21:01:11.903450Z",
     "start_time": "2019-09-03T21:01:11.899279Z"
    }
   },
   "outputs": [],
   "source": [
    "#Min_samples at maximum range value => Extend range:\n",
    "GS_params = {'max_depth': [6],\n",
    "            'min_samples_split': range(40, 73, 8)}\n",
    "model = GridSearchCV(model4GS, GS_params, cv = 5, n_jobs = -1, verbose = 1)"
   ]
  },
  {
   "cell_type": "code",
   "execution_count": 50,
   "metadata": {
    "ExecuteTime": {
     "end_time": "2019-09-03T21:01:35.800436Z",
     "start_time": "2019-09-03T21:01:13.237751Z"
    }
   },
   "outputs": [
    {
     "name": "stdout",
     "output_type": "stream",
     "text": [
      "Fitting 5 folds for each of 5 candidates, totalling 25 fits\n"
     ]
    },
    {
     "name": "stderr",
     "output_type": "stream",
     "text": [
      "[Parallel(n_jobs=-1)]: Using backend LokyBackend with 8 concurrent workers.\n",
      "[Parallel(n_jobs=-1)]: Done  25 out of  25 | elapsed:   18.9s finished\n"
     ]
    },
    {
     "name": "stdout",
     "output_type": "stream",
     "text": [
      "      Iter       Train Loss      OOB Improve   Remaining Time \n",
      "         1        1714.2778           2.8175            3.17s\n",
      "         2        1654.7279           1.3431            3.15s\n",
      "         3        1620.7362           0.9994            3.08s\n",
      "         4        1577.1658           1.4425            3.00s\n",
      "         5        1538.2588           2.3715            3.10s\n",
      "         6        1508.5378           1.4506            3.10s\n",
      "         7        1470.3898           0.0020            3.06s\n",
      "         8        1438.2598           1.0849            3.04s\n",
      "         9        1410.4157           0.5854            3.00s\n",
      "        10        1384.5110           1.5211            2.97s\n",
      "        20        1102.5970           0.7198            2.52s\n",
      "        30         899.6630          -1.3439            1.99s\n",
      "        40         725.0159           0.1895            1.47s\n",
      "        50         604.1470           0.1791            0.96s\n",
      "        60         501.1581          -0.6399            0.47s\n",
      "        70         416.2971           0.3774            0.00s\n",
      "Mean cv score:  0.5007242877836794\n",
      "Train score:  0.9995171414775471\n",
      "Test score:  0.4864864864864865\n"
     ]
    }
   ],
   "source": [
    "#Cross-validate, fit, train score, test score.\n",
    "model, mean_cv_score, train_score, test_score, model_time=\\\n",
    "modelling_process_GS(model, X_train_pca, train_labels, X_test_pca, test_labels)"
   ]
  },
  {
   "cell_type": "code",
   "execution_count": 51,
   "metadata": {
    "ExecuteTime": {
     "end_time": "2019-09-03T21:01:43.659229Z",
     "start_time": "2019-09-03T21:01:43.655727Z"
    }
   },
   "outputs": [
    {
     "data": {
      "text/plain": [
       "({'max_depth': 6, 'min_samples_split': 40},)"
      ]
     },
     "execution_count": 51,
     "metadata": {},
     "output_type": "execute_result"
    }
   ],
   "source": [
    "model.best_params_,"
   ]
  },
  {
   "cell_type": "markdown",
   "metadata": {},
   "source": [
    "One more round of grid-searching to see if better results can be achieved bu tuning best parameter for max_features. Currently using sqrt features - limit to range around the square root of features, being sqrt(2071) = 45, so 30 - 60 in intervals of 5."
   ]
  },
  {
   "cell_type": "code",
   "execution_count": 52,
   "metadata": {
    "ExecuteTime": {
     "end_time": "2019-09-03T21:02:23.438053Z",
     "start_time": "2019-09-03T21:02:23.432840Z"
    }
   },
   "outputs": [],
   "source": [
    "model4GS = GradientBoostingClassifier(learning_rate = 0.1, n_estimators = 70,\n",
    "                                      min_samples_split = 40, min_samples_leaf= 2,\n",
    "                                      max_features = 'sqrt', max_depth = 6, \n",
    "                                      subsample = 0.8, verbose=1, random_state = 1)\n",
    "GS_params = {'max_features': range(30,61,5)}\n",
    "model = GridSearchCV(model4GS, GS_params, cv = 5, n_jobs = -1, verbose = 1)"
   ]
  },
  {
   "cell_type": "code",
   "execution_count": 53,
   "metadata": {
    "ExecuteTime": {
     "end_time": "2019-09-03T21:02:53.351384Z",
     "start_time": "2019-09-03T21:02:24.358743Z"
    }
   },
   "outputs": [
    {
     "name": "stdout",
     "output_type": "stream",
     "text": [
      "Fitting 5 folds for each of 7 candidates, totalling 35 fits\n"
     ]
    },
    {
     "name": "stderr",
     "output_type": "stream",
     "text": [
      "[Parallel(n_jobs=-1)]: Using backend LokyBackend with 8 concurrent workers.\n",
      "[Parallel(n_jobs=-1)]: Done  35 out of  35 | elapsed:   24.5s finished\n"
     ]
    },
    {
     "name": "stdout",
     "output_type": "stream",
     "text": [
      "      Iter       Train Loss      OOB Improve   Remaining Time \n",
      "         1        1712.0130           0.8019            4.13s\n",
      "         2        1656.6251           3.2156            4.01s\n",
      "         3        1617.3262           2.0330            3.88s\n",
      "         4        1577.2271           2.6722            3.86s\n",
      "         5        1537.5197           0.8023            3.77s\n",
      "         6        1500.0603           1.4557            3.72s\n",
      "         7        1465.7470           0.5373            3.62s\n",
      "         8        1430.6631           1.4692            3.59s\n",
      "         9        1389.7081           2.3573            3.56s\n",
      "        10        1360.2712           0.5102            3.50s\n",
      "        20        1053.0453           0.1870            2.92s\n",
      "        30         871.4671           0.3127            2.30s\n",
      "        40         705.1654          -0.5624            1.72s\n",
      "        50         579.5745           0.3795            1.15s\n",
      "        60         491.5093          -0.2316            0.59s\n",
      "        70         406.7653          -0.0744            0.00s\n",
      "Mean cv score:  0.5050700144857557\n",
      "Train score:  0.9985514244326412\n",
      "Test score:  0.48455598455598453\n"
     ]
    }
   ],
   "source": [
    "#Cross-validate, fit, train score, test score.\n",
    "model, mean_cv_score, train_score, test_score, model_time=\\\n",
    "modelling_process_GS(model, X_train_pca, train_labels, X_test_pca, test_labels)"
   ]
  },
  {
   "cell_type": "code",
   "execution_count": 54,
   "metadata": {
    "ExecuteTime": {
     "end_time": "2019-09-03T21:02:53.356021Z",
     "start_time": "2019-09-03T21:02:53.352955Z"
    }
   },
   "outputs": [
    {
     "data": {
      "text/plain": [
       "({'max_features': 60},)"
      ]
     },
     "execution_count": 54,
     "metadata": {},
     "output_type": "execute_result"
    }
   ],
   "source": [
    "model.best_params_,"
   ]
  },
  {
   "cell_type": "code",
   "execution_count": 55,
   "metadata": {
    "ExecuteTime": {
     "end_time": "2019-09-03T21:03:39.023645Z",
     "start_time": "2019-09-03T21:03:39.018720Z"
    }
   },
   "outputs": [],
   "source": [
    "#60 is max of range => extend range:\n",
    "model4GS = GradientBoostingClassifier(learning_rate = 0.1, n_estimators = 70,\n",
    "                                      min_samples_split = 40, min_samples_leaf= 2,\n",
    "                                      max_features = 'sqrt', max_depth = 6, \n",
    "                                      subsample = 0.8, verbose=1, random_state = 1)\n",
    "GS_params = {'max_features': range(60,91,5)}\n",
    "model = GridSearchCV(model4GS, GS_params, cv = 5, n_jobs = -1, verbose = 1)"
   ]
  },
  {
   "cell_type": "code",
   "execution_count": 56,
   "metadata": {
    "ExecuteTime": {
     "end_time": "2019-09-03T21:09:26.014415Z",
     "start_time": "2019-09-03T21:08:40.730197Z"
    }
   },
   "outputs": [
    {
     "name": "stdout",
     "output_type": "stream",
     "text": [
      "Fitting 5 folds for each of 7 candidates, totalling 35 fits\n"
     ]
    },
    {
     "name": "stderr",
     "output_type": "stream",
     "text": [
      "[Parallel(n_jobs=-1)]: Using backend LokyBackend with 8 concurrent workers.\n",
      "[Parallel(n_jobs=-1)]: Done  35 out of  35 | elapsed:   40.7s finished\n"
     ]
    },
    {
     "name": "stdout",
     "output_type": "stream",
     "text": [
      "      Iter       Train Loss      OOB Improve   Remaining Time \n",
      "         1        1712.0130           0.8019            4.65s\n",
      "         2        1656.6251           3.2156            4.34s\n",
      "         3        1617.3262           2.0330            4.14s\n",
      "         4        1577.2271           2.6722            4.08s\n",
      "         5        1537.5197           0.8023            4.02s\n",
      "         6        1500.0603           1.4557            3.97s\n",
      "         7        1465.7470           0.5373            3.88s\n",
      "         8        1430.6631           1.4692            3.84s\n",
      "         9        1389.7081           2.3573            3.76s\n",
      "        10        1360.2712           0.5102            3.70s\n",
      "        20        1053.0453           0.1870            3.08s\n",
      "        30         871.4671           0.3127            2.44s\n",
      "        40         705.1654          -0.5624            1.82s\n",
      "        50         579.5745           0.3795            1.21s\n",
      "        60         491.5093          -0.2316            0.60s\n",
      "        70         406.7653          -0.0744            0.00s\n",
      "Mean cv score:  0.5050700144857557\n",
      "Train score:  0.9985514244326412\n",
      "Test score:  0.48455598455598453\n"
     ]
    }
   ],
   "source": [
    "#Cross-validate, fit, train score, test score.\n",
    "model, mean_cv_score, train_score, test_score, model_time=\\\n",
    "modelling_process_GS(model, X_train_pca, train_labels, X_test_pca, test_labels)"
   ]
  },
  {
   "cell_type": "code",
   "execution_count": 57,
   "metadata": {
    "ExecuteTime": {
     "end_time": "2019-09-03T21:11:30.960525Z",
     "start_time": "2019-09-03T21:11:30.956159Z"
    }
   },
   "outputs": [
    {
     "data": {
      "text/plain": [
       "{'max_features': 60}"
      ]
     },
     "execution_count": 57,
     "metadata": {},
     "output_type": "execute_result"
    }
   ],
   "source": [
    "model.best_params_"
   ]
  },
  {
   "cell_type": "code",
   "execution_count": 58,
   "metadata": {
    "ExecuteTime": {
     "end_time": "2019-09-03T21:11:41.665862Z",
     "start_time": "2019-09-03T21:11:41.650181Z"
    }
   },
   "outputs": [
    {
     "name": "stdout",
     "output_type": "stream",
     "text": [
      "baseline_score                                                   0.405405\n",
      "dog_breeds                     [labrador, cocker_spaniel, french_bulldog]\n",
      "model                                                                 NaN\n",
      "model_parameters        {'cv': 5, 'error_score': 'raise-deprecating', ...\n",
      "model_type              <class 'sklearn.model_selection._search.GridSe...\n",
      "notes                   PCA used. Gradient Boosting max_features tuned...\n",
      "number_dog_breeds                                                       3\n",
      "picture_quality                                                        30\n",
      "picture_resolution                                          (400, 400, 3)\n",
      "pictures_masked                                                         y\n",
      "test_score                                                       0.484556\n",
      "time_taken                                                        45.2807\n",
      "train_score                                                      0.998551\n",
      "training_sample_size                                                 2071\n",
      "validation_score                                                  0.50507\n",
      "Name: 4, dtype: object\n"
     ]
    }
   ],
   "source": [
    "#Documentation of best Gradient Boosting model.\n",
    "notes = 'PCA used. Gradient Boosting max_features tuned to 60'\n",
    "temp_model_summary = model_documentation(temp_model_summary, model, \n",
    "                                         breed_list, len(train_images), \n",
    "                                         train_images[0].shape,\n",
    "                                         clean, threshold,\n",
    "                                         baseline, mean_cv_score,\n",
    "                                         train_score, test_score, \n",
    "                                         model_time, notes)"
   ]
  },
  {
   "cell_type": "markdown",
   "metadata": {},
   "source": [
    "## Support Vector Machines"
   ]
  },
  {
   "cell_type": "code",
   "execution_count": 59,
   "metadata": {
    "ExecuteTime": {
     "end_time": "2019-09-03T21:11:47.967156Z",
     "start_time": "2019-09-03T21:11:47.964103Z"
    }
   },
   "outputs": [],
   "source": [
    "#Start with basic model with no tuned parameters\n",
    "model = SVC(kernel = 'rbf', gamma = 'scale')"
   ]
  },
  {
   "cell_type": "code",
   "execution_count": 60,
   "metadata": {
    "ExecuteTime": {
     "end_time": "2019-09-03T21:13:06.018887Z",
     "start_time": "2019-09-03T21:11:48.715763Z"
    }
   },
   "outputs": [
    {
     "name": "stdout",
     "output_type": "stream",
     "text": [
      "CV score:  [0.53012048 0.59903382 0.5410628  0.57729469 0.54589372]\n",
      "Mean cv score:  0.5586811012164601\n",
      "Train score:  0.858522452921294\n",
      "Test score:  0.583011583011583\n"
     ]
    }
   ],
   "source": [
    "#Cross-validate, fit, train score, test score.\n",
    "model, mean_cv_score, train_score, test_score, model_time=\\\n",
    "modelling_process(model, X_train_pca, train_labels, X_test_pca, test_labels)"
   ]
  },
  {
   "cell_type": "markdown",
   "metadata": {},
   "source": [
    "### GS RBF kernel"
   ]
  },
  {
   "cell_type": "code",
   "execution_count": 61,
   "metadata": {
    "ExecuteTime": {
     "end_time": "2019-09-03T21:13:06.037965Z",
     "start_time": "2019-09-03T21:13:06.021314Z"
    }
   },
   "outputs": [
    {
     "name": "stdout",
     "output_type": "stream",
     "text": [
      "2071\n",
      "11.235309617824552\n",
      "4.2976877262632596e-05\n"
     ]
    }
   ],
   "source": [
    "#Now tune with GridSearch:\n",
    "#scale default is equal to 1/(n_features * X.var)\n",
    "n_features = X_train_pca.shape[1]\n",
    "print(n_features)\n",
    "X_var = X_train_pca.var()\n",
    "print(X_var)\n",
    "scale = 1 / (n_features * X_var)\n",
    "print (scale)"
   ]
  },
  {
   "cell_type": "code",
   "execution_count": 62,
   "metadata": {
    "ExecuteTime": {
     "end_time": "2019-09-03T21:23:59.969202Z",
     "start_time": "2019-09-03T21:23:59.965747Z"
    }
   },
   "outputs": [],
   "source": [
    "gamma_range = list(np.logspace(-8,-2, 7))"
   ]
  },
  {
   "cell_type": "code",
   "execution_count": 63,
   "metadata": {
    "ExecuteTime": {
     "end_time": "2019-09-03T21:24:14.659172Z",
     "start_time": "2019-09-03T21:24:14.652468Z"
    }
   },
   "outputs": [],
   "source": [
    "model4GS = SVC(kernel = 'rbf')\n",
    "GS_params = {'C': [1.5, 1.75, 2.0, 2.25, 2.5, 2.75, 3.0],\n",
    "                   'gamma': gamma_range}\n",
    "model = GridSearchCV(model4GS, GS_params, cv = 5, n_jobs = -1, verbose = 1)"
   ]
  },
  {
   "cell_type": "code",
   "execution_count": 64,
   "metadata": {
    "ExecuteTime": {
     "end_time": "2019-09-03T21:35:04.719031Z",
     "start_time": "2019-09-03T21:24:20.334982Z"
    }
   },
   "outputs": [
    {
     "name": "stdout",
     "output_type": "stream",
     "text": [
      "Fitting 5 folds for each of 49 candidates, totalling 245 fits\n"
     ]
    },
    {
     "name": "stderr",
     "output_type": "stream",
     "text": [
      "[Parallel(n_jobs=-1)]: Using backend LokyBackend with 8 concurrent workers.\n",
      "[Parallel(n_jobs=-1)]: Done  34 tasks      | elapsed:  1.8min\n",
      "[Parallel(n_jobs=-1)]: Done 184 tasks      | elapsed:  7.9min\n",
      "[Parallel(n_jobs=-1)]: Done 245 out of 245 | elapsed: 10.3min finished\n"
     ]
    },
    {
     "name": "stdout",
     "output_type": "stream",
     "text": [
      "Mean cv score:  0.5760502172863351\n",
      "Train score:  0.9971028488652824\n",
      "Test score:  0.581081081081081\n"
     ]
    }
   ],
   "source": [
    "#Cross-validate, fit, train score, test score.\n",
    "model, mean_cv_score, train_score, test_score, model_time=\\\n",
    "modelling_process_GS(model, X_train_pca, train_labels, X_test_pca, test_labels)"
   ]
  },
  {
   "cell_type": "code",
   "execution_count": 65,
   "metadata": {
    "ExecuteTime": {
     "end_time": "2019-09-03T21:42:27.133854Z",
     "start_time": "2019-09-03T21:42:27.128984Z"
    },
    "scrolled": true
   },
   "outputs": [
    {
     "data": {
      "text/plain": [
       "{'C': 2.75, 'gamma': 0.0001}"
      ]
     },
     "execution_count": 65,
     "metadata": {},
     "output_type": "execute_result"
    }
   ],
   "source": [
    "model.best_params_"
   ]
  },
  {
   "cell_type": "markdown",
   "metadata": {},
   "source": [
    "### GS Linear kernel"
   ]
  },
  {
   "cell_type": "code",
   "execution_count": 66,
   "metadata": {
    "ExecuteTime": {
     "end_time": "2019-09-03T21:43:44.484389Z",
     "start_time": "2019-09-03T21:43:44.477429Z"
    }
   },
   "outputs": [],
   "source": [
    "#Parameters within range. Now try linear kernel.\n",
    "model4GS = SVC(kernel = 'linear', gamma = 'scale')\n",
    "gamma_range = list(np.logspace(-8,-2, 7))\n",
    "GS_params = {'C': [1.5, 1.75, 2.0, 2.25, 2.5, 2.75, 3.0],\n",
    "            'gamma': gamma_range}\n",
    "model = GridSearchCV(model4GS, GS_params, cv = 5, n_jobs = -1, verbose = 1)"
   ]
  },
  {
   "cell_type": "code",
   "execution_count": 67,
   "metadata": {
    "ExecuteTime": {
     "end_time": "2019-09-03T21:53:41.603817Z",
     "start_time": "2019-09-03T21:43:56.124540Z"
    }
   },
   "outputs": [
    {
     "name": "stdout",
     "output_type": "stream",
     "text": [
      "Fitting 5 folds for each of 49 candidates, totalling 245 fits\n"
     ]
    },
    {
     "name": "stderr",
     "output_type": "stream",
     "text": [
      "[Parallel(n_jobs=-1)]: Using backend LokyBackend with 8 concurrent workers.\n",
      "[Parallel(n_jobs=-1)]: Done  34 tasks      | elapsed:  1.8min\n",
      "[Parallel(n_jobs=-1)]: Done 184 tasks      | elapsed:  7.2min\n",
      "[Parallel(n_jobs=-1)]: Done 245 out of 245 | elapsed:  9.3min finished\n"
     ]
    },
    {
     "name": "stdout",
     "output_type": "stream",
     "text": [
      "Mean cv score:  0.47223563495895704\n",
      "Train score:  1.0\n",
      "Test score:  0.47104247104247104\n"
     ]
    }
   ],
   "source": [
    "#Cross-validate, fit, train score, test score.\n",
    "model, mean_cv_score, train_score, test_score, model_time=\\\n",
    "modelling_process_GS(model, X_train_pca, train_labels, X_test_pca, test_labels)"
   ]
  },
  {
   "cell_type": "code",
   "execution_count": 68,
   "metadata": {
    "ExecuteTime": {
     "end_time": "2019-09-03T21:53:49.232287Z",
     "start_time": "2019-09-03T21:53:49.227594Z"
    }
   },
   "outputs": [
    {
     "data": {
      "text/plain": [
       "{'C': 1.5, 'gamma': 1e-08}"
      ]
     },
     "execution_count": 68,
     "metadata": {},
     "output_type": "execute_result"
    }
   ],
   "source": [
    "model.best_params_"
   ]
  },
  {
   "cell_type": "code",
   "execution_count": 69,
   "metadata": {
    "ExecuteTime": {
     "end_time": "2019-09-03T21:54:07.975776Z",
     "start_time": "2019-09-03T21:54:07.968409Z"
    }
   },
   "outputs": [],
   "source": [
    "#Both C and gamma at lower end - Try lower values:\n",
    "gamma_range = list(np.logspace(-14, -8, 7))\n",
    "C_range = list(np.logspace(-6, 0, 7))\n",
    "GS_params = {'C': C_range,\n",
    "            'gamma': gamma_range}\n",
    "model = GridSearchCV(model4GS, GS_params, cv = 5, n_jobs = -1, verbose = 1)"
   ]
  },
  {
   "cell_type": "code",
   "execution_count": 70,
   "metadata": {
    "ExecuteTime": {
     "end_time": "2019-09-03T22:03:39.414630Z",
     "start_time": "2019-09-03T21:54:20.671276Z"
    }
   },
   "outputs": [
    {
     "name": "stdout",
     "output_type": "stream",
     "text": [
      "Fitting 5 folds for each of 49 candidates, totalling 245 fits\n"
     ]
    },
    {
     "name": "stderr",
     "output_type": "stream",
     "text": [
      "[Parallel(n_jobs=-1)]: Using backend LokyBackend with 8 concurrent workers.\n",
      "[Parallel(n_jobs=-1)]: Done  34 tasks      | elapsed:  1.6min\n",
      "[Parallel(n_jobs=-1)]: Done 184 tasks      | elapsed:  6.8min\n",
      "[Parallel(n_jobs=-1)]: Done 245 out of 245 | elapsed:  8.9min finished\n"
     ]
    },
    {
     "name": "stdout",
     "output_type": "stream",
     "text": [
      "Mean cv score:  0.49975857073877356\n",
      "Train score:  0.7518107194591984\n",
      "Test score:  0.5096525096525096\n"
     ]
    }
   ],
   "source": [
    "#Cross-validate, fit, train score, test score.\n",
    "model, mean_cv_score, train_score, test_score, model_time=\\\n",
    "modelling_process_GS(model, X_train_pca, train_labels, X_test_pca, test_labels)"
   ]
  },
  {
   "cell_type": "code",
   "execution_count": 72,
   "metadata": {
    "ExecuteTime": {
     "end_time": "2019-09-03T22:04:11.130023Z",
     "start_time": "2019-09-03T22:04:11.114520Z"
    }
   },
   "outputs": [
    {
     "data": {
      "text/plain": [
       "({'C': 0.0001, 'gamma': 1e-14},\n",
       " {'mean_fit_time': array([14.84344172, 14.41145535, 13.80787029, 15.58044143, 15.90765824,\n",
       "         14.78854699, 14.52324743, 14.08135815, 15.40637922, 14.95179305,\n",
       "         13.9712152 , 13.93472142, 14.01982646, 14.72223191, 13.42196422,\n",
       "         12.75593653, 12.7821074 , 13.42884459, 14.32524462, 13.13277593,\n",
       "         12.79925003, 14.34363523, 14.30427012, 13.986131  , 14.21492596,\n",
       "         14.12732377, 13.90647855, 14.11188726, 13.87376575, 13.93934565,\n",
       "         13.99527302, 13.68930354, 13.93933015, 13.78710876, 13.72888889,\n",
       "         13.84584961, 13.56287932, 13.84492354, 13.67680483, 13.66750727,\n",
       "         13.74380078, 13.52479248, 13.75862718, 13.82662196, 13.83120222,\n",
       "         14.06136527, 13.72292824, 13.85772333, 10.57589512]),\n",
       "  'std_fit_time': array([0.14332244, 0.51275144, 0.1697977 , 0.96372564, 0.52628506,\n",
       "         0.13922676, 0.27706851, 0.13078167, 0.16872234, 0.71248379,\n",
       "         0.0738397 , 0.13956635, 0.36777522, 0.10066197, 0.67572771,\n",
       "         0.11064999, 0.15677334, 0.88003872, 0.27731363, 0.4755506 ,\n",
       "         0.06522607, 0.09551083, 0.27339371, 0.09032492, 0.28016595,\n",
       "         0.28323512, 0.09673315, 0.29068113, 0.18661056, 0.24431346,\n",
       "         0.27673632, 0.0787531 , 0.24271204, 0.27389226, 0.15107788,\n",
       "         0.24273176, 0.15887652, 0.21915354, 0.32977231, 0.14145338,\n",
       "         0.339875  , 0.34055816, 0.27922665, 0.51166426, 0.25310671,\n",
       "         0.17945079, 0.38071775, 0.18441809, 1.55985668]),\n",
       "  'mean_score_time': array([4.18131609, 4.58437109, 5.12147894, 4.51117973, 4.14841723,\n",
       "         3.84618206, 3.86806335, 3.91595364, 4.08556371, 3.93589807,\n",
       "         3.71158276, 3.62866459, 3.66156535, 3.6693459 , 3.43155804,\n",
       "         3.48492212, 4.66534147, 4.62353697, 3.97507725, 3.49734406,\n",
       "         3.2582706 , 3.11942344, 2.90363655, 3.24474707, 2.81432872,\n",
       "         2.87184258, 3.1563983 , 2.71382957, 3.01031981, 2.87984643,\n",
       "         2.74197555, 3.10457344, 2.6282896 , 2.79190841, 2.94765849,\n",
       "         2.56870151, 2.89737654, 2.63678365, 2.63654017, 2.88737655,\n",
       "         2.54176712, 2.79622798, 2.70003748, 2.57899752, 2.89912195,\n",
       "         2.49097471, 2.64772205, 2.79860258, 1.47273479]),\n",
       "  'std_score_time': array([0.12692685, 0.52742746, 0.06387011, 0.3711889 , 0.21118394,\n",
       "         0.02869028, 0.02945789, 0.05264324, 0.0873335 , 0.29592117,\n",
       "         0.04404458, 0.06980231, 0.10957565, 0.05144716, 0.13060687,\n",
       "         0.02821878, 0.21106829, 0.62958119, 0.03989667, 0.29505396,\n",
       "         0.54253624, 0.15857524, 0.45296428, 0.05143741, 0.37910082,\n",
       "         0.53442596, 0.10345886, 0.48454985, 0.46478584, 0.32133768,\n",
       "         0.50280721, 0.10850779, 0.30763001, 0.46804578, 0.13489503,\n",
       "         0.32995236, 0.27742516, 0.27260958, 0.3803184 , 0.13461999,\n",
       "         0.27704227, 0.39304047, 0.22429896, 0.2750074 , 0.06780918,\n",
       "         0.25964326, 0.3513237 , 0.1429488 , 0.09794215]),\n",
       "  'param_C': masked_array(data=[1e-06, 1e-06, 1e-06, 1e-06, 1e-06, 1e-06, 1e-06, 1e-05,\n",
       "                     1e-05, 1e-05, 1e-05, 1e-05, 1e-05, 1e-05, 0.0001,\n",
       "                     0.0001, 0.0001, 0.0001, 0.0001, 0.0001, 0.0001, 0.001,\n",
       "                     0.001, 0.001, 0.001, 0.001, 0.001, 0.001, 0.01, 0.01,\n",
       "                     0.01, 0.01, 0.01, 0.01, 0.01, 0.1, 0.1, 0.1, 0.1, 0.1,\n",
       "                     0.1, 0.1, 1.0, 1.0, 1.0, 1.0, 1.0, 1.0, 1.0],\n",
       "               mask=[False, False, False, False, False, False, False, False,\n",
       "                     False, False, False, False, False, False, False, False,\n",
       "                     False, False, False, False, False, False, False, False,\n",
       "                     False, False, False, False, False, False, False, False,\n",
       "                     False, False, False, False, False, False, False, False,\n",
       "                     False, False, False, False, False, False, False, False,\n",
       "                     False],\n",
       "         fill_value='?',\n",
       "              dtype=object),\n",
       "  'param_gamma': masked_array(data=[1e-14, 1e-13, 1e-12, 1e-11, 1e-10, 1e-09, 1e-08, 1e-14,\n",
       "                     1e-13, 1e-12, 1e-11, 1e-10, 1e-09, 1e-08, 1e-14, 1e-13,\n",
       "                     1e-12, 1e-11, 1e-10, 1e-09, 1e-08, 1e-14, 1e-13, 1e-12,\n",
       "                     1e-11, 1e-10, 1e-09, 1e-08, 1e-14, 1e-13, 1e-12, 1e-11,\n",
       "                     1e-10, 1e-09, 1e-08, 1e-14, 1e-13, 1e-12, 1e-11, 1e-10,\n",
       "                     1e-09, 1e-08, 1e-14, 1e-13, 1e-12, 1e-11, 1e-10, 1e-09,\n",
       "                     1e-08],\n",
       "               mask=[False, False, False, False, False, False, False, False,\n",
       "                     False, False, False, False, False, False, False, False,\n",
       "                     False, False, False, False, False, False, False, False,\n",
       "                     False, False, False, False, False, False, False, False,\n",
       "                     False, False, False, False, False, False, False, False,\n",
       "                     False, False, False, False, False, False, False, False,\n",
       "                     False],\n",
       "         fill_value='?',\n",
       "              dtype=object),\n",
       "  'params': [{'C': 1e-06, 'gamma': 1e-14},\n",
       "   {'C': 1e-06, 'gamma': 1e-13},\n",
       "   {'C': 1e-06, 'gamma': 1e-12},\n",
       "   {'C': 1e-06, 'gamma': 1e-11},\n",
       "   {'C': 1e-06, 'gamma': 1e-10},\n",
       "   {'C': 1e-06, 'gamma': 1e-09},\n",
       "   {'C': 1e-06, 'gamma': 1e-08},\n",
       "   {'C': 1e-05, 'gamma': 1e-14},\n",
       "   {'C': 1e-05, 'gamma': 1e-13},\n",
       "   {'C': 1e-05, 'gamma': 1e-12},\n",
       "   {'C': 1e-05, 'gamma': 1e-11},\n",
       "   {'C': 1e-05, 'gamma': 1e-10},\n",
       "   {'C': 1e-05, 'gamma': 1e-09},\n",
       "   {'C': 1e-05, 'gamma': 1e-08},\n",
       "   {'C': 0.0001, 'gamma': 1e-14},\n",
       "   {'C': 0.0001, 'gamma': 1e-13},\n",
       "   {'C': 0.0001, 'gamma': 1e-12},\n",
       "   {'C': 0.0001, 'gamma': 1e-11},\n",
       "   {'C': 0.0001, 'gamma': 1e-10},\n",
       "   {'C': 0.0001, 'gamma': 1e-09},\n",
       "   {'C': 0.0001, 'gamma': 1e-08},\n",
       "   {'C': 0.001, 'gamma': 1e-14},\n",
       "   {'C': 0.001, 'gamma': 1e-13},\n",
       "   {'C': 0.001, 'gamma': 1e-12},\n",
       "   {'C': 0.001, 'gamma': 1e-11},\n",
       "   {'C': 0.001, 'gamma': 1e-10},\n",
       "   {'C': 0.001, 'gamma': 1e-09},\n",
       "   {'C': 0.001, 'gamma': 1e-08},\n",
       "   {'C': 0.01, 'gamma': 1e-14},\n",
       "   {'C': 0.01, 'gamma': 1e-13},\n",
       "   {'C': 0.01, 'gamma': 1e-12},\n",
       "   {'C': 0.01, 'gamma': 1e-11},\n",
       "   {'C': 0.01, 'gamma': 1e-10},\n",
       "   {'C': 0.01, 'gamma': 1e-09},\n",
       "   {'C': 0.01, 'gamma': 1e-08},\n",
       "   {'C': 0.1, 'gamma': 1e-14},\n",
       "   {'C': 0.1, 'gamma': 1e-13},\n",
       "   {'C': 0.1, 'gamma': 1e-12},\n",
       "   {'C': 0.1, 'gamma': 1e-11},\n",
       "   {'C': 0.1, 'gamma': 1e-10},\n",
       "   {'C': 0.1, 'gamma': 1e-09},\n",
       "   {'C': 0.1, 'gamma': 1e-08},\n",
       "   {'C': 1.0, 'gamma': 1e-14},\n",
       "   {'C': 1.0, 'gamma': 1e-13},\n",
       "   {'C': 1.0, 'gamma': 1e-12},\n",
       "   {'C': 1.0, 'gamma': 1e-11},\n",
       "   {'C': 1.0, 'gamma': 1e-10},\n",
       "   {'C': 1.0, 'gamma': 1e-09},\n",
       "   {'C': 1.0, 'gamma': 1e-08}],\n",
       "  'split0_test_score': array([0.40481928, 0.40481928, 0.40481928, 0.40481928, 0.40481928,\n",
       "         0.40481928, 0.40481928, 0.44819277, 0.44819277, 0.44819277,\n",
       "         0.44819277, 0.44819277, 0.44819277, 0.44819277, 0.46987952,\n",
       "         0.46987952, 0.46987952, 0.46987952, 0.46987952, 0.46987952,\n",
       "         0.46987952, 0.46024096, 0.46024096, 0.46024096, 0.46024096,\n",
       "         0.46024096, 0.46024096, 0.46024096, 0.45783133, 0.45783133,\n",
       "         0.45783133, 0.45783133, 0.45783133, 0.45783133, 0.45783133,\n",
       "         0.45783133, 0.45783133, 0.45783133, 0.45783133, 0.45783133,\n",
       "         0.45783133, 0.45783133, 0.45783133, 0.45783133, 0.45783133,\n",
       "         0.45783133, 0.45783133, 0.45783133, 0.45783133]),\n",
       "  'split1_test_score': array([0.4057971 , 0.4057971 , 0.4057971 , 0.4057971 , 0.4057971 ,\n",
       "         0.4057971 , 0.4057971 , 0.46859903, 0.46859903, 0.46859903,\n",
       "         0.46859903, 0.46859903, 0.46859903, 0.46859903, 0.52173913,\n",
       "         0.52173913, 0.52173913, 0.52173913, 0.52173913, 0.52173913,\n",
       "         0.52173913, 0.5       , 0.5       , 0.5       , 0.5       ,\n",
       "         0.5       , 0.5       , 0.5       , 0.50724638, 0.50724638,\n",
       "         0.50724638, 0.50724638, 0.50724638, 0.50724638, 0.50724638,\n",
       "         0.50724638, 0.50724638, 0.50724638, 0.50724638, 0.50724638,\n",
       "         0.50724638, 0.50724638, 0.50724638, 0.50724638, 0.50724638,\n",
       "         0.50724638, 0.50724638, 0.50724638, 0.50724638]),\n",
       "  'split2_test_score': array([0.4057971 , 0.4057971 , 0.4057971 , 0.4057971 , 0.4057971 ,\n",
       "         0.4057971 , 0.4057971 , 0.4589372 , 0.4589372 , 0.4589372 ,\n",
       "         0.4589372 , 0.4589372 , 0.4589372 , 0.4589372 , 0.48550725,\n",
       "         0.48550725, 0.48550725, 0.48550725, 0.48550725, 0.48550725,\n",
       "         0.48550725, 0.48550725, 0.48550725, 0.48550725, 0.48550725,\n",
       "         0.48550725, 0.48550725, 0.48550725, 0.48792271, 0.48792271,\n",
       "         0.48792271, 0.48792271, 0.48792271, 0.48792271, 0.48792271,\n",
       "         0.48792271, 0.48792271, 0.48792271, 0.48792271, 0.48792271,\n",
       "         0.48792271, 0.48792271, 0.48792271, 0.48792271, 0.48792271,\n",
       "         0.48792271, 0.48792271, 0.48792271, 0.48792271]),\n",
       "  'split3_test_score': array([0.4057971 , 0.4057971 , 0.4057971 , 0.4057971 , 0.4057971 ,\n",
       "         0.4057971 , 0.4057971 , 0.45169082, 0.45169082, 0.45169082,\n",
       "         0.45169082, 0.45169082, 0.45169082, 0.45169082, 0.53381643,\n",
       "         0.53381643, 0.53381643, 0.53381643, 0.53381643, 0.53381643,\n",
       "         0.53381643, 0.49033816, 0.49033816, 0.49033816, 0.49033816,\n",
       "         0.49033816, 0.49033816, 0.49033816, 0.48067633, 0.48067633,\n",
       "         0.48067633, 0.48067633, 0.48067633, 0.48067633, 0.48067633,\n",
       "         0.48067633, 0.48067633, 0.48067633, 0.48067633, 0.48067633,\n",
       "         0.48067633, 0.48067633, 0.48067633, 0.48067633, 0.48067633,\n",
       "         0.48067633, 0.48067633, 0.48067633, 0.48067633]),\n",
       "  'split4_test_score': array([0.4057971 , 0.4057971 , 0.4057971 , 0.4057971 , 0.4057971 ,\n",
       "         0.4057971 , 0.4057971 , 0.49758454, 0.49758454, 0.49758454,\n",
       "         0.49758454, 0.49758454, 0.49758454, 0.49758454, 0.48792271,\n",
       "         0.48792271, 0.48792271, 0.48792271, 0.48792271, 0.48792271,\n",
       "         0.48792271, 0.44927536, 0.44927536, 0.44927536, 0.44927536,\n",
       "         0.44927536, 0.44927536, 0.44927536, 0.42753623, 0.42753623,\n",
       "         0.42753623, 0.42753623, 0.42753623, 0.42753623, 0.42753623,\n",
       "         0.42753623, 0.42753623, 0.42753623, 0.42753623, 0.42753623,\n",
       "         0.42753623, 0.42753623, 0.42753623, 0.42753623, 0.42753623,\n",
       "         0.42753623, 0.42753623, 0.42753623, 0.42753623]),\n",
       "  'mean_test_score': array([0.40560116, 0.40560116, 0.40560116, 0.40560116, 0.40560116,\n",
       "         0.40560116, 0.40560116, 0.46499276, 0.46499276, 0.46499276,\n",
       "         0.46499276, 0.46499276, 0.46499276, 0.46499276, 0.49975857,\n",
       "         0.49975857, 0.49975857, 0.49975857, 0.49975857, 0.49975857,\n",
       "         0.49975857, 0.47706422, 0.47706422, 0.47706422, 0.47706422,\n",
       "         0.47706422, 0.47706422, 0.47706422, 0.47223563, 0.47223563,\n",
       "         0.47223563, 0.47223563, 0.47223563, 0.47223563, 0.47223563,\n",
       "         0.47223563, 0.47223563, 0.47223563, 0.47223563, 0.47223563,\n",
       "         0.47223563, 0.47223563, 0.47223563, 0.47223563, 0.47223563,\n",
       "         0.47223563, 0.47223563, 0.47223563, 0.47223563]),\n",
       "  'std_test_score': array([0.00039141, 0.00039141, 0.00039141, 0.00039141, 0.00039141,\n",
       "         0.00039141, 0.00039141, 0.01772571, 0.01772571, 0.01772571,\n",
       "         0.01772571, 0.01772571, 0.01772571, 0.01772571, 0.02399914,\n",
       "         0.02399914, 0.02399914, 0.02399914, 0.02399914, 0.02399914,\n",
       "         0.02399914, 0.01912368, 0.01912368, 0.01912368, 0.01912368,\n",
       "         0.01912368, 0.01912368, 0.01912368, 0.02737624, 0.02737624,\n",
       "         0.02737624, 0.02737624, 0.02737624, 0.02737624, 0.02737624,\n",
       "         0.02737624, 0.02737624, 0.02737624, 0.02737624, 0.02737624,\n",
       "         0.02737624, 0.02737624, 0.02737624, 0.02737624, 0.02737624,\n",
       "         0.02737624, 0.02737624, 0.02737624, 0.02737624]),\n",
       "  'rank_test_score': array([43, 43, 43, 43, 43, 43, 43, 36, 36, 36, 36, 36, 36, 36,  1,  1,  1,\n",
       "          1,  1,  1,  1,  8,  8,  8,  8,  8,  8,  8, 15, 15, 15, 15, 15, 15,\n",
       "         15, 15, 15, 15, 15, 15, 15, 15, 15, 15, 15, 15, 15, 15, 15],\n",
       "        dtype=int32)})"
      ]
     },
     "execution_count": 72,
     "metadata": {},
     "output_type": "execute_result"
    }
   ],
   "source": [
    "model.best_params_, model.cv_results_"
   ]
  },
  {
   "cell_type": "code",
   "execution_count": 73,
   "metadata": {
    "ExecuteTime": {
     "end_time": "2019-09-03T22:06:24.969015Z",
     "start_time": "2019-09-03T22:06:24.966545Z"
    }
   },
   "outputs": [],
   "source": [
    "#C in range, gamma at lower range but has same cv score as other gamma values.\n",
    "#No material improvement in results vs rbf kernel - move on to polynomial kernel."
   ]
  },
  {
   "cell_type": "markdown",
   "metadata": {},
   "source": [
    "### GS polynomial kernel"
   ]
  },
  {
   "cell_type": "code",
   "execution_count": 76,
   "metadata": {
    "ExecuteTime": {
     "end_time": "2019-09-03T22:59:04.407887Z",
     "start_time": "2019-09-03T22:59:04.400057Z"
    }
   },
   "outputs": [],
   "source": [
    "model4GS = SVC(kernel = 'poly', gamma = 'scale')\n",
    "gamma_range = list(np.logspace(-8,-2, 7))\n",
    "GS_params = {'C': [2.5, 2.75, 3.0, 3.25, 3.5, 3.75, 4.0],\n",
    "            'degree': [2, 3, 4, 5, 6],\n",
    "            'gamma': gamma_range}\n",
    "model = GridSearchCV(model4GS, GS_params, cv = 5, n_jobs = -1, verbose = 1)"
   ]
  },
  {
   "cell_type": "code",
   "execution_count": 75,
   "metadata": {
    "ExecuteTime": {
     "end_time": "2019-09-03T22:57:25.133793Z",
     "start_time": "2019-09-03T22:06:58.907151Z"
    }
   },
   "outputs": [
    {
     "name": "stdout",
     "output_type": "stream",
     "text": [
      "Fitting 5 folds for each of 245 candidates, totalling 1225 fits\n"
     ]
    },
    {
     "name": "stderr",
     "output_type": "stream",
     "text": [
      "[Parallel(n_jobs=-1)]: Using backend LokyBackend with 8 concurrent workers.\n",
      "[Parallel(n_jobs=-1)]: Done  34 tasks      | elapsed:  1.8min\n",
      "[Parallel(n_jobs=-1)]: Done 184 tasks      | elapsed:  7.9min\n",
      "[Parallel(n_jobs=-1)]: Done 434 tasks      | elapsed: 17.9min\n",
      "[Parallel(n_jobs=-1)]: Done 784 tasks      | elapsed: 30.9min\n",
      "[Parallel(n_jobs=-1)]: Done 1225 out of 1225 | elapsed: 50.0min finished\n"
     ]
    },
    {
     "name": "stdout",
     "output_type": "stream",
     "text": [
      "Mean cv score:  0.5499758570738773\n",
      "Train score:  0.9961371318203767\n",
      "Test score:  0.5328185328185329\n"
     ]
    }
   ],
   "source": [
    "#Cross-validate, fit, train score, test score.\n",
    "model, mean_cv_score, train_score, test_score, model_time=\\\n",
    "modelling_process_GS(model, X_train_pca, train_labels, X_test_pca, test_labels)"
   ]
  },
  {
   "cell_type": "markdown",
   "metadata": {
    "ExecuteTime": {
     "end_time": "2019-09-03T18:23:31.237476Z",
     "start_time": "2019-09-03T18:23:31.234995Z"
    }
   },
   "source": [
    "### Model documentation"
   ]
  },
  {
   "cell_type": "code",
   "execution_count": 77,
   "metadata": {
    "ExecuteTime": {
     "end_time": "2019-09-03T23:00:40.781426Z",
     "start_time": "2019-09-03T22:59:20.540018Z"
    }
   },
   "outputs": [
    {
     "name": "stdout",
     "output_type": "stream",
     "text": [
      "CV score:  [0.5686747  0.61352657 0.53140097 0.6352657  0.53140097]\n",
      "Mean cv score:  0.5760537803387463\n",
      "Train score:  0.9971028488652824\n",
      "Test score:  0.581081081081081\n"
     ]
    }
   ],
   "source": [
    "#No significant increase over tuned rbf model => rerun rbf for model documentation:\n",
    "model = SVC(kernel = 'rbf', C= 2.75, gamma = 0.0001)\n",
    "model, mean_cv_score, train_score, test_score, model_time=\\\n",
    "modelling_process(model, X_train_pca, train_labels, X_test_pca, test_labels)"
   ]
  },
  {
   "cell_type": "code",
   "execution_count": 78,
   "metadata": {
    "ExecuteTime": {
     "end_time": "2019-09-03T23:01:08.538242Z",
     "start_time": "2019-09-03T23:01:08.522602Z"
    }
   },
   "outputs": [
    {
     "name": "stdout",
     "output_type": "stream",
     "text": [
      "baseline_score                                                   0.405405\n",
      "dog_breeds                     [labrador, cocker_spaniel, french_bulldog]\n",
      "model                                                                 NaN\n",
      "model_parameters        {'C': 2.75, 'cache_size': 200, 'class_weight':...\n",
      "model_type                              <class 'sklearn.svm.classes.SVC'>\n",
      "notes                                         PCA used. Grid Search tuned\n",
      "number_dog_breeds                                                       3\n",
      "picture_quality                                                        30\n",
      "picture_resolution                                          (400, 400, 3)\n",
      "pictures_masked                                                         y\n",
      "test_score                                                       0.581081\n",
      "time_taken                                                        80.2374\n",
      "train_score                                                      0.997103\n",
      "training_sample_size                                                 2071\n",
      "validation_score                                                 0.576054\n",
      "Name: 5, dtype: object\n"
     ]
    }
   ],
   "source": [
    "notes = 'PCA used. Grid Search tuned'\n",
    "temp_model_summary = model_documentation(temp_model_summary, model, \n",
    "                                         breed_list, len(train_images), \n",
    "                                         train_images[0].shape,\n",
    "                                         clean, threshold,\n",
    "                                         baseline, mean_cv_score,\n",
    "                                         train_score, test_score, \n",
    "                                         model_time, notes)"
   ]
  },
  {
   "cell_type": "markdown",
   "metadata": {},
   "source": [
    "## Save results to model summary dataframe"
   ]
  },
  {
   "cell_type": "code",
   "execution_count": 79,
   "metadata": {
    "ExecuteTime": {
     "end_time": "2019-09-03T23:01:12.773155Z",
     "start_time": "2019-09-03T23:01:12.749385Z"
    }
   },
   "outputs": [
    {
     "data": {
      "text/html": [
       "<div>\n",
       "<style scoped>\n",
       "    .dataframe tbody tr th:only-of-type {\n",
       "        vertical-align: middle;\n",
       "    }\n",
       "\n",
       "    .dataframe tbody tr th {\n",
       "        vertical-align: top;\n",
       "    }\n",
       "\n",
       "    .dataframe thead th {\n",
       "        text-align: right;\n",
       "    }\n",
       "</style>\n",
       "<table border=\"1\" class=\"dataframe\">\n",
       "  <thead>\n",
       "    <tr style=\"text-align: right;\">\n",
       "      <th></th>\n",
       "      <th>baseline_score</th>\n",
       "      <th>dog_breeds</th>\n",
       "      <th>model</th>\n",
       "      <th>model_parameters</th>\n",
       "      <th>model_type</th>\n",
       "      <th>notes</th>\n",
       "      <th>number_dog_breeds</th>\n",
       "      <th>picture_quality</th>\n",
       "      <th>picture_resolution</th>\n",
       "      <th>pictures_masked</th>\n",
       "      <th>test_score</th>\n",
       "      <th>time_taken</th>\n",
       "      <th>train_score</th>\n",
       "      <th>training_sample_size</th>\n",
       "      <th>validation_score</th>\n",
       "    </tr>\n",
       "  </thead>\n",
       "  <tbody>\n",
       "    <tr>\n",
       "      <th>0</th>\n",
       "      <td>0.405405</td>\n",
       "      <td>[labrador, cocker_spaniel, french_bulldog]</td>\n",
       "      <td>NaN</td>\n",
       "      <td>{'C': 1.0, 'class_weight': None, 'dual': False...</td>\n",
       "      <td>&lt;class 'sklearn.linear_model.logistic.Logistic...</td>\n",
       "      <td>PCA used - all components used for modelling</td>\n",
       "      <td>3</td>\n",
       "      <td>30</td>\n",
       "      <td>(400, 400, 3)</td>\n",
       "      <td>y</td>\n",
       "      <td>0.463320</td>\n",
       "      <td>14.341028</td>\n",
       "      <td>1.000000</td>\n",
       "      <td>2071</td>\n",
       "      <td>0.472722</td>\n",
       "    </tr>\n",
       "    <tr>\n",
       "      <th>1</th>\n",
       "      <td>0.405405</td>\n",
       "      <td>[labrador, cocker_spaniel, french_bulldog]</td>\n",
       "      <td>NaN</td>\n",
       "      <td>{'Cs': [1e-10, 1e-09, 1e-08, 1e-07, 1e-06, 1e-...</td>\n",
       "      <td>&lt;class 'sklearn.linear_model.logistic.Logistic...</td>\n",
       "      <td>PCA used - all components used for modelling</td>\n",
       "      <td>3</td>\n",
       "      <td>30</td>\n",
       "      <td>(400, 400, 3)</td>\n",
       "      <td>y</td>\n",
       "      <td>0.521236</td>\n",
       "      <td>21.230026</td>\n",
       "      <td>0.710768</td>\n",
       "      <td>2071</td>\n",
       "      <td>None</td>\n",
       "    </tr>\n",
       "    <tr>\n",
       "      <th>2</th>\n",
       "      <td>0.405405</td>\n",
       "      <td>[labrador, cocker_spaniel, french_bulldog]</td>\n",
       "      <td>NaN</td>\n",
       "      <td>{'cv': 5, 'error_score': 'raise-deprecating', ...</td>\n",
       "      <td>&lt;class 'sklearn.model_selection._search.GridSe...</td>\n",
       "      <td>PCA used - all components used for modelling</td>\n",
       "      <td>3</td>\n",
       "      <td>30</td>\n",
       "      <td>(400, 400, 3)</td>\n",
       "      <td>y</td>\n",
       "      <td>0.480695</td>\n",
       "      <td>622.540029</td>\n",
       "      <td>0.999517</td>\n",
       "      <td>2071</td>\n",
       "      <td>0.485756</td>\n",
       "    </tr>\n",
       "    <tr>\n",
       "      <th>3</th>\n",
       "      <td>0.405405</td>\n",
       "      <td>[labrador, cocker_spaniel, french_bulldog]</td>\n",
       "      <td>NaN</td>\n",
       "      <td>{'priors': None, 'var_smoothing': 1e-09}</td>\n",
       "      <td>&lt;class 'sklearn.naive_bayes.GaussianNB'&gt;</td>\n",
       "      <td>PCA used - all components used for modelling</td>\n",
       "      <td>3</td>\n",
       "      <td>30</td>\n",
       "      <td>(400, 400, 3)</td>\n",
       "      <td>y</td>\n",
       "      <td>0.374517</td>\n",
       "      <td>0.764193</td>\n",
       "      <td>0.400773</td>\n",
       "      <td>2071</td>\n",
       "      <td>0.364566</td>\n",
       "    </tr>\n",
       "    <tr>\n",
       "      <th>4</th>\n",
       "      <td>0.405405</td>\n",
       "      <td>[labrador, cocker_spaniel, french_bulldog]</td>\n",
       "      <td>NaN</td>\n",
       "      <td>{'cv': 5, 'error_score': 'raise-deprecating', ...</td>\n",
       "      <td>&lt;class 'sklearn.model_selection._search.GridSe...</td>\n",
       "      <td>PCA used. Gradient Boosting max_features tuned...</td>\n",
       "      <td>3</td>\n",
       "      <td>30</td>\n",
       "      <td>(400, 400, 3)</td>\n",
       "      <td>y</td>\n",
       "      <td>0.484556</td>\n",
       "      <td>45.280651</td>\n",
       "      <td>0.998551</td>\n",
       "      <td>2071</td>\n",
       "      <td>0.50507</td>\n",
       "    </tr>\n",
       "    <tr>\n",
       "      <th>5</th>\n",
       "      <td>0.405405</td>\n",
       "      <td>[labrador, cocker_spaniel, french_bulldog]</td>\n",
       "      <td>NaN</td>\n",
       "      <td>{'C': 2.75, 'cache_size': 200, 'class_weight':...</td>\n",
       "      <td>&lt;class 'sklearn.svm.classes.SVC'&gt;</td>\n",
       "      <td>PCA used. Grid Search tuned</td>\n",
       "      <td>3</td>\n",
       "      <td>30</td>\n",
       "      <td>(400, 400, 3)</td>\n",
       "      <td>y</td>\n",
       "      <td>0.581081</td>\n",
       "      <td>80.237442</td>\n",
       "      <td>0.997103</td>\n",
       "      <td>2071</td>\n",
       "      <td>0.576054</td>\n",
       "    </tr>\n",
       "  </tbody>\n",
       "</table>\n",
       "</div>"
      ],
      "text/plain": [
       "   baseline_score                                  dog_breeds  model  \\\n",
       "0        0.405405  [labrador, cocker_spaniel, french_bulldog]    NaN   \n",
       "1        0.405405  [labrador, cocker_spaniel, french_bulldog]    NaN   \n",
       "2        0.405405  [labrador, cocker_spaniel, french_bulldog]    NaN   \n",
       "3        0.405405  [labrador, cocker_spaniel, french_bulldog]    NaN   \n",
       "4        0.405405  [labrador, cocker_spaniel, french_bulldog]    NaN   \n",
       "5        0.405405  [labrador, cocker_spaniel, french_bulldog]    NaN   \n",
       "\n",
       "                                    model_parameters  \\\n",
       "0  {'C': 1.0, 'class_weight': None, 'dual': False...   \n",
       "1  {'Cs': [1e-10, 1e-09, 1e-08, 1e-07, 1e-06, 1e-...   \n",
       "2  {'cv': 5, 'error_score': 'raise-deprecating', ...   \n",
       "3           {'priors': None, 'var_smoothing': 1e-09}   \n",
       "4  {'cv': 5, 'error_score': 'raise-deprecating', ...   \n",
       "5  {'C': 2.75, 'cache_size': 200, 'class_weight':...   \n",
       "\n",
       "                                          model_type  \\\n",
       "0  <class 'sklearn.linear_model.logistic.Logistic...   \n",
       "1  <class 'sklearn.linear_model.logistic.Logistic...   \n",
       "2  <class 'sklearn.model_selection._search.GridSe...   \n",
       "3           <class 'sklearn.naive_bayes.GaussianNB'>   \n",
       "4  <class 'sklearn.model_selection._search.GridSe...   \n",
       "5                  <class 'sklearn.svm.classes.SVC'>   \n",
       "\n",
       "                                               notes number_dog_breeds  \\\n",
       "0       PCA used - all components used for modelling                 3   \n",
       "1       PCA used - all components used for modelling                 3   \n",
       "2       PCA used - all components used for modelling                 3   \n",
       "3       PCA used - all components used for modelling                 3   \n",
       "4  PCA used. Gradient Boosting max_features tuned...                 3   \n",
       "5                        PCA used. Grid Search tuned                 3   \n",
       "\n",
       "  picture_quality picture_resolution pictures_masked  test_score  time_taken  \\\n",
       "0              30      (400, 400, 3)               y    0.463320   14.341028   \n",
       "1              30      (400, 400, 3)               y    0.521236   21.230026   \n",
       "2              30      (400, 400, 3)               y    0.480695  622.540029   \n",
       "3              30      (400, 400, 3)               y    0.374517    0.764193   \n",
       "4              30      (400, 400, 3)               y    0.484556   45.280651   \n",
       "5              30      (400, 400, 3)               y    0.581081   80.237442   \n",
       "\n",
       "   train_score training_sample_size validation_score  \n",
       "0     1.000000                 2071         0.472722  \n",
       "1     0.710768                 2071             None  \n",
       "2     0.999517                 2071         0.485756  \n",
       "3     0.400773                 2071         0.364566  \n",
       "4     0.998551                 2071          0.50507  \n",
       "5     0.997103                 2071         0.576054  "
      ]
     },
     "execution_count": 79,
     "metadata": {},
     "output_type": "execute_result"
    }
   ],
   "source": [
    "temp_model_summary"
   ]
  },
  {
   "cell_type": "code",
   "execution_count": 80,
   "metadata": {
    "ExecuteTime": {
     "end_time": "2019-09-03T23:01:28.483998Z",
     "start_time": "2019-09-03T23:01:28.479106Z"
    }
   },
   "outputs": [],
   "source": [
    "temp_model_summary.to_pickle('model_summary_clean_pics_simple_modelling_3_breeds_1.pkl')"
   ]
  },
  {
   "cell_type": "code",
   "execution_count": 86,
   "metadata": {
    "ExecuteTime": {
     "end_time": "2019-09-03T23:03:04.855865Z",
     "start_time": "2019-09-03T23:03:04.850775Z"
    }
   },
   "outputs": [],
   "source": [
    "model_summary = pd.read_pickle('model_summary.pkl')"
   ]
  },
  {
   "cell_type": "code",
   "execution_count": 87,
   "metadata": {
    "ExecuteTime": {
     "end_time": "2019-09-03T23:03:05.337511Z",
     "start_time": "2019-09-03T23:03:05.320716Z"
    }
   },
   "outputs": [
    {
     "data": {
      "text/html": [
       "<div>\n",
       "<style scoped>\n",
       "    .dataframe tbody tr th:only-of-type {\n",
       "        vertical-align: middle;\n",
       "    }\n",
       "\n",
       "    .dataframe tbody tr th {\n",
       "        vertical-align: top;\n",
       "    }\n",
       "\n",
       "    .dataframe thead th {\n",
       "        text-align: right;\n",
       "    }\n",
       "</style>\n",
       "<table border=\"1\" class=\"dataframe\">\n",
       "  <thead>\n",
       "    <tr style=\"text-align: right;\">\n",
       "      <th></th>\n",
       "      <th>baseline_score</th>\n",
       "      <th>dog_breeds</th>\n",
       "      <th>model</th>\n",
       "      <th>model_parameters</th>\n",
       "      <th>model_type</th>\n",
       "      <th>notes</th>\n",
       "      <th>number_dog_breeds</th>\n",
       "      <th>picture_quality</th>\n",
       "      <th>picture_resolution</th>\n",
       "      <th>pictures_masked</th>\n",
       "      <th>test_score</th>\n",
       "      <th>time_taken</th>\n",
       "      <th>train_score</th>\n",
       "      <th>training_sample_size</th>\n",
       "      <th>validation_score</th>\n",
       "    </tr>\n",
       "  </thead>\n",
       "  <tbody>\n",
       "    <tr>\n",
       "      <th>8</th>\n",
       "      <td>0.405405</td>\n",
       "      <td>[labrador, cocker_spaniel, french_bulldog]</td>\n",
       "      <td>NN model 1</td>\n",
       "      <td>Model: \"sequential\"\\n_________________________...</td>\n",
       "      <td>&lt;class 'tensorflow.python.keras.engine.sequent...</td>\n",
       "      <td>NN model 1</td>\n",
       "      <td>3</td>\n",
       "      <td>30</td>\n",
       "      <td>(400, 400, 3)</td>\n",
       "      <td>y</td>\n",
       "      <td>0.409266</td>\n",
       "      <td>297.814807</td>\n",
       "      <td>0.927536</td>\n",
       "      <td>2071</td>\n",
       "      <td>0.455422</td>\n",
       "    </tr>\n",
       "    <tr>\n",
       "      <th>9</th>\n",
       "      <td>0.405405</td>\n",
       "      <td>[labrador, cocker_spaniel, french_bulldog]</td>\n",
       "      <td>CNN model 1</td>\n",
       "      <td>Model: \"sequential_2\"\\n_______________________...</td>\n",
       "      <td>&lt;class 'tensorflow.python.keras.engine.sequent...</td>\n",
       "      <td>CNN model 1</td>\n",
       "      <td>3</td>\n",
       "      <td>30</td>\n",
       "      <td>(400, 400, 3)</td>\n",
       "      <td>y</td>\n",
       "      <td>0.544402</td>\n",
       "      <td>696.484920</td>\n",
       "      <td>0.916667</td>\n",
       "      <td>2071</td>\n",
       "      <td>0.551807</td>\n",
       "    </tr>\n",
       "    <tr>\n",
       "      <th>10</th>\n",
       "      <td>0.405405</td>\n",
       "      <td>[labrador, cocker_spaniel, french_bulldog]</td>\n",
       "      <td>CNN model 2</td>\n",
       "      <td>Model: \"sequential_4\"\\n_______________________...</td>\n",
       "      <td>&lt;class 'tensorflow.python.keras.engine.sequent...</td>\n",
       "      <td>CNN model 2</td>\n",
       "      <td>3</td>\n",
       "      <td>30</td>\n",
       "      <td>(400, 400, 3)</td>\n",
       "      <td>y</td>\n",
       "      <td>0.538610</td>\n",
       "      <td>696.484920</td>\n",
       "      <td>0.916667</td>\n",
       "      <td>2071</td>\n",
       "      <td>0.551807</td>\n",
       "    </tr>\n",
       "    <tr>\n",
       "      <th>11</th>\n",
       "      <td>0.405405</td>\n",
       "      <td>[labrador, cocker_spaniel, french_bulldog]</td>\n",
       "      <td>CNN model 3 - added drop outs</td>\n",
       "      <td>Model: \"sequential_5\"\\n_______________________...</td>\n",
       "      <td>&lt;class 'tensorflow.python.keras.engine.sequent...</td>\n",
       "      <td>CNN model 3 - added drop outs</td>\n",
       "      <td>3</td>\n",
       "      <td>30</td>\n",
       "      <td>(400, 400, 3)</td>\n",
       "      <td>y</td>\n",
       "      <td>0.565637</td>\n",
       "      <td>800.053933</td>\n",
       "      <td>0.762681</td>\n",
       "      <td>2071</td>\n",
       "      <td>0.551807</td>\n",
       "    </tr>\n",
       "    <tr>\n",
       "      <th>12</th>\n",
       "      <td>0.405405</td>\n",
       "      <td>[labrador, cocker_spaniel, french_bulldog]</td>\n",
       "      <td>CNN model 4 - 2 extra layers</td>\n",
       "      <td>Model: \"sequential_6\"\\n_______________________...</td>\n",
       "      <td>&lt;class 'tensorflow.python.keras.engine.sequent...</td>\n",
       "      <td>CNN model 4 - 2 extra layers</td>\n",
       "      <td>3</td>\n",
       "      <td>30</td>\n",
       "      <td>(400, 400, 3)</td>\n",
       "      <td>y</td>\n",
       "      <td>0.621622</td>\n",
       "      <td>1144.334881</td>\n",
       "      <td>0.680556</td>\n",
       "      <td>2071</td>\n",
       "      <td>0.626506</td>\n",
       "    </tr>\n",
       "  </tbody>\n",
       "</table>\n",
       "</div>"
      ],
      "text/plain": [
       "    baseline_score                                  dog_breeds  \\\n",
       "8         0.405405  [labrador, cocker_spaniel, french_bulldog]   \n",
       "9         0.405405  [labrador, cocker_spaniel, french_bulldog]   \n",
       "10        0.405405  [labrador, cocker_spaniel, french_bulldog]   \n",
       "11        0.405405  [labrador, cocker_spaniel, french_bulldog]   \n",
       "12        0.405405  [labrador, cocker_spaniel, french_bulldog]   \n",
       "\n",
       "                            model  \\\n",
       "8                      NN model 1   \n",
       "9                     CNN model 1   \n",
       "10                    CNN model 2   \n",
       "11  CNN model 3 - added drop outs   \n",
       "12   CNN model 4 - 2 extra layers   \n",
       "\n",
       "                                     model_parameters  \\\n",
       "8   Model: \"sequential\"\\n_________________________...   \n",
       "9   Model: \"sequential_2\"\\n_______________________...   \n",
       "10  Model: \"sequential_4\"\\n_______________________...   \n",
       "11  Model: \"sequential_5\"\\n_______________________...   \n",
       "12  Model: \"sequential_6\"\\n_______________________...   \n",
       "\n",
       "                                           model_type  \\\n",
       "8   <class 'tensorflow.python.keras.engine.sequent...   \n",
       "9   <class 'tensorflow.python.keras.engine.sequent...   \n",
       "10  <class 'tensorflow.python.keras.engine.sequent...   \n",
       "11  <class 'tensorflow.python.keras.engine.sequent...   \n",
       "12  <class 'tensorflow.python.keras.engine.sequent...   \n",
       "\n",
       "                            notes number_dog_breeds picture_quality  \\\n",
       "8                      NN model 1                 3              30   \n",
       "9                     CNN model 1                 3              30   \n",
       "10                    CNN model 2                 3              30   \n",
       "11  CNN model 3 - added drop outs                 3              30   \n",
       "12   CNN model 4 - 2 extra layers                 3              30   \n",
       "\n",
       "   picture_resolution pictures_masked  test_score   time_taken  train_score  \\\n",
       "8       (400, 400, 3)               y    0.409266   297.814807     0.927536   \n",
       "9       (400, 400, 3)               y    0.544402   696.484920     0.916667   \n",
       "10      (400, 400, 3)               y    0.538610   696.484920     0.916667   \n",
       "11      (400, 400, 3)               y    0.565637   800.053933     0.762681   \n",
       "12      (400, 400, 3)               y    0.621622  1144.334881     0.680556   \n",
       "\n",
       "   training_sample_size validation_score  \n",
       "8                  2071         0.455422  \n",
       "9                  2071         0.551807  \n",
       "10                 2071         0.551807  \n",
       "11                 2071         0.551807  \n",
       "12                 2071         0.626506  "
      ]
     },
     "execution_count": 87,
     "metadata": {},
     "output_type": "execute_result"
    }
   ],
   "source": [
    "model_summary.head()"
   ]
  },
  {
   "cell_type": "code",
   "execution_count": 88,
   "metadata": {
    "ExecuteTime": {
     "end_time": "2019-09-03T23:03:06.919184Z",
     "start_time": "2019-09-03T23:03:06.914620Z"
    }
   },
   "outputs": [
    {
     "data": {
      "text/plain": [
       "(41, 15)"
      ]
     },
     "execution_count": 88,
     "metadata": {},
     "output_type": "execute_result"
    }
   ],
   "source": [
    "model_summary.shape"
   ]
  },
  {
   "cell_type": "code",
   "execution_count": 89,
   "metadata": {
    "ExecuteTime": {
     "end_time": "2019-09-03T23:03:12.848292Z",
     "start_time": "2019-09-03T23:03:12.824339Z"
    }
   },
   "outputs": [
    {
     "data": {
      "text/html": [
       "<div>\n",
       "<style scoped>\n",
       "    .dataframe tbody tr th:only-of-type {\n",
       "        vertical-align: middle;\n",
       "    }\n",
       "\n",
       "    .dataframe tbody tr th {\n",
       "        vertical-align: top;\n",
       "    }\n",
       "\n",
       "    .dataframe thead th {\n",
       "        text-align: right;\n",
       "    }\n",
       "</style>\n",
       "<table border=\"1\" class=\"dataframe\">\n",
       "  <thead>\n",
       "    <tr style=\"text-align: right;\">\n",
       "      <th></th>\n",
       "      <th>baseline_score</th>\n",
       "      <th>dog_breeds</th>\n",
       "      <th>model</th>\n",
       "      <th>model_parameters</th>\n",
       "      <th>model_type</th>\n",
       "      <th>notes</th>\n",
       "      <th>number_dog_breeds</th>\n",
       "      <th>picture_quality</th>\n",
       "      <th>picture_resolution</th>\n",
       "      <th>pictures_masked</th>\n",
       "      <th>test_score</th>\n",
       "      <th>time_taken</th>\n",
       "      <th>train_score</th>\n",
       "      <th>training_sample_size</th>\n",
       "      <th>validation_score</th>\n",
       "    </tr>\n",
       "  </thead>\n",
       "  <tbody>\n",
       "    <tr>\n",
       "      <th>42</th>\n",
       "      <td>0.405405</td>\n",
       "      <td>[labrador, cocker_spaniel, french_bulldog]</td>\n",
       "      <td>NaN</td>\n",
       "      <td>{'Cs': [1e-10, 1e-09, 1e-08, 1e-07, 1e-06, 1e-...</td>\n",
       "      <td>&lt;class 'sklearn.linear_model.logistic.Logistic...</td>\n",
       "      <td>PCA used - all components used for modelling</td>\n",
       "      <td>3</td>\n",
       "      <td>30</td>\n",
       "      <td>(400, 400, 3)</td>\n",
       "      <td>y</td>\n",
       "      <td>0.521236</td>\n",
       "      <td>21.230026</td>\n",
       "      <td>0.710768</td>\n",
       "      <td>2071</td>\n",
       "      <td>None</td>\n",
       "    </tr>\n",
       "    <tr>\n",
       "      <th>43</th>\n",
       "      <td>0.405405</td>\n",
       "      <td>[labrador, cocker_spaniel, french_bulldog]</td>\n",
       "      <td>NaN</td>\n",
       "      <td>{'cv': 5, 'error_score': 'raise-deprecating', ...</td>\n",
       "      <td>&lt;class 'sklearn.model_selection._search.GridSe...</td>\n",
       "      <td>PCA used - all components used for modelling</td>\n",
       "      <td>3</td>\n",
       "      <td>30</td>\n",
       "      <td>(400, 400, 3)</td>\n",
       "      <td>y</td>\n",
       "      <td>0.480695</td>\n",
       "      <td>622.540029</td>\n",
       "      <td>0.999517</td>\n",
       "      <td>2071</td>\n",
       "      <td>0.485756</td>\n",
       "    </tr>\n",
       "    <tr>\n",
       "      <th>44</th>\n",
       "      <td>0.405405</td>\n",
       "      <td>[labrador, cocker_spaniel, french_bulldog]</td>\n",
       "      <td>NaN</td>\n",
       "      <td>{'priors': None, 'var_smoothing': 1e-09}</td>\n",
       "      <td>&lt;class 'sklearn.naive_bayes.GaussianNB'&gt;</td>\n",
       "      <td>PCA used - all components used for modelling</td>\n",
       "      <td>3</td>\n",
       "      <td>30</td>\n",
       "      <td>(400, 400, 3)</td>\n",
       "      <td>y</td>\n",
       "      <td>0.374517</td>\n",
       "      <td>0.764193</td>\n",
       "      <td>0.400773</td>\n",
       "      <td>2071</td>\n",
       "      <td>0.364566</td>\n",
       "    </tr>\n",
       "    <tr>\n",
       "      <th>45</th>\n",
       "      <td>0.405405</td>\n",
       "      <td>[labrador, cocker_spaniel, french_bulldog]</td>\n",
       "      <td>NaN</td>\n",
       "      <td>{'cv': 5, 'error_score': 'raise-deprecating', ...</td>\n",
       "      <td>&lt;class 'sklearn.model_selection._search.GridSe...</td>\n",
       "      <td>PCA used. Gradient Boosting max_features tuned...</td>\n",
       "      <td>3</td>\n",
       "      <td>30</td>\n",
       "      <td>(400, 400, 3)</td>\n",
       "      <td>y</td>\n",
       "      <td>0.484556</td>\n",
       "      <td>45.280651</td>\n",
       "      <td>0.998551</td>\n",
       "      <td>2071</td>\n",
       "      <td>0.50507</td>\n",
       "    </tr>\n",
       "    <tr>\n",
       "      <th>46</th>\n",
       "      <td>0.405405</td>\n",
       "      <td>[labrador, cocker_spaniel, french_bulldog]</td>\n",
       "      <td>NaN</td>\n",
       "      <td>{'C': 2.75, 'cache_size': 200, 'class_weight':...</td>\n",
       "      <td>&lt;class 'sklearn.svm.classes.SVC'&gt;</td>\n",
       "      <td>PCA used. Grid Search tuned</td>\n",
       "      <td>3</td>\n",
       "      <td>30</td>\n",
       "      <td>(400, 400, 3)</td>\n",
       "      <td>y</td>\n",
       "      <td>0.581081</td>\n",
       "      <td>80.237442</td>\n",
       "      <td>0.997103</td>\n",
       "      <td>2071</td>\n",
       "      <td>0.576054</td>\n",
       "    </tr>\n",
       "  </tbody>\n",
       "</table>\n",
       "</div>"
      ],
      "text/plain": [
       "    baseline_score                                  dog_breeds model  \\\n",
       "42        0.405405  [labrador, cocker_spaniel, french_bulldog]   NaN   \n",
       "43        0.405405  [labrador, cocker_spaniel, french_bulldog]   NaN   \n",
       "44        0.405405  [labrador, cocker_spaniel, french_bulldog]   NaN   \n",
       "45        0.405405  [labrador, cocker_spaniel, french_bulldog]   NaN   \n",
       "46        0.405405  [labrador, cocker_spaniel, french_bulldog]   NaN   \n",
       "\n",
       "                                     model_parameters  \\\n",
       "42  {'Cs': [1e-10, 1e-09, 1e-08, 1e-07, 1e-06, 1e-...   \n",
       "43  {'cv': 5, 'error_score': 'raise-deprecating', ...   \n",
       "44           {'priors': None, 'var_smoothing': 1e-09}   \n",
       "45  {'cv': 5, 'error_score': 'raise-deprecating', ...   \n",
       "46  {'C': 2.75, 'cache_size': 200, 'class_weight':...   \n",
       "\n",
       "                                           model_type  \\\n",
       "42  <class 'sklearn.linear_model.logistic.Logistic...   \n",
       "43  <class 'sklearn.model_selection._search.GridSe...   \n",
       "44           <class 'sklearn.naive_bayes.GaussianNB'>   \n",
       "45  <class 'sklearn.model_selection._search.GridSe...   \n",
       "46                  <class 'sklearn.svm.classes.SVC'>   \n",
       "\n",
       "                                                notes number_dog_breeds  \\\n",
       "42       PCA used - all components used for modelling                 3   \n",
       "43       PCA used - all components used for modelling                 3   \n",
       "44       PCA used - all components used for modelling                 3   \n",
       "45  PCA used. Gradient Boosting max_features tuned...                 3   \n",
       "46                        PCA used. Grid Search tuned                 3   \n",
       "\n",
       "   picture_quality picture_resolution pictures_masked  test_score  time_taken  \\\n",
       "42              30      (400, 400, 3)               y    0.521236   21.230026   \n",
       "43              30      (400, 400, 3)               y    0.480695  622.540029   \n",
       "44              30      (400, 400, 3)               y    0.374517    0.764193   \n",
       "45              30      (400, 400, 3)               y    0.484556   45.280651   \n",
       "46              30      (400, 400, 3)               y    0.581081   80.237442   \n",
       "\n",
       "    train_score training_sample_size validation_score  \n",
       "42     0.710768                 2071             None  \n",
       "43     0.999517                 2071         0.485756  \n",
       "44     0.400773                 2071         0.364566  \n",
       "45     0.998551                 2071          0.50507  \n",
       "46     0.997103                 2071         0.576054  "
      ]
     },
     "execution_count": 89,
     "metadata": {},
     "output_type": "execute_result"
    }
   ],
   "source": [
    "model_summary = model_summary.append(temp_model_summary, ignore_index=True)\n",
    "model_summary.tail()"
   ]
  },
  {
   "cell_type": "code",
   "execution_count": 90,
   "metadata": {
    "ExecuteTime": {
     "end_time": "2019-09-03T23:03:13.713597Z",
     "start_time": "2019-09-03T23:03:13.709774Z"
    }
   },
   "outputs": [],
   "source": [
    "model_summary.to_pickle('model_summary.pkl')"
   ]
  },
  {
   "cell_type": "code",
   "execution_count": null,
   "metadata": {},
   "outputs": [],
   "source": []
  }
 ],
 "metadata": {
  "kernelspec": {
   "display_name": "tensor_env",
   "language": "python",
   "name": "tensor_env"
  },
  "language_info": {
   "codemirror_mode": {
    "name": "ipython",
    "version": 3
   },
   "file_extension": ".py",
   "mimetype": "text/x-python",
   "name": "python",
   "nbconvert_exporter": "python",
   "pygments_lexer": "ipython3",
   "version": "3.7.4"
  },
  "notify_time": "10"
 },
 "nbformat": 4,
 "nbformat_minor": 2
}
